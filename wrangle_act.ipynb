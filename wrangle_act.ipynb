{
 "cells": [
  {
   "cell_type": "markdown",
   "metadata": {
    "extensions": {
     "jupyter_dashboards": {
      "version": 1,
      "views": {
       "grid_default": {
        "col": 0,
        "height": 4,
        "hidden": false,
        "row": 0,
        "width": 4
       },
       "report_default": {
        "hidden": false
       }
      }
     }
    }
   },
   "source": [
    "# Project: Wrangling and Analyze Data\n",
    "#### Arnd-Olav Feindt\n",
    "---"
   ]
  },
  {
   "cell_type": "markdown",
   "metadata": {},
   "source": [
    "## Table of contents <a class=\"anchor\" id=\"Tableofcontents\"></a>\n",
    "\n",
    "- [Data Gathering](#DataGathering)\n",
    "- [Assessing Data](#AssessingData)\n",
    "  - [Table overview](#Tableoverview)\n",
    "  - [All found issues](#Allfoundissues)\n",
    "  - [Quality issues](#Qualityissues)\n",
    "  - [Tidiness issues](#Tidinessissues)\n",
    "- [Cleaning Data](#CleaningData)\n",
    "- [Storing Data](#StoringData)\n",
    "- [Analyzing and Visualizing Data](#AnalyzingandVisualizingData)\n",
    "  - [Visualization](#Visualization)\n",
    "  - [Insights:](#Insights)\n",
    "  \n",
    "---"
   ]
  },
  {
   "cell_type": "markdown",
   "metadata": {},
   "source": [
    "## Data Gathering <a class=\"anchor\" id=\"DataGathering\"></a>\n",
    "In the cell below, gather **all** three pieces of data for this project and load them in the notebook. **Note:** the methods required to gather each data are different.\n",
    "1. Directly download the WeRateDogs Twitter archive data (twitter_archive_enhanced.csv)"
   ]
  },
  {
   "cell_type": "code",
   "execution_count": 1,
   "metadata": {},
   "outputs": [],
   "source": [
    "# Load libraries\n",
    "import pandas as pd\n",
    "import numpy as np\n",
    "import os\n",
    "import requests\n",
    "import tweepy\n",
    "import json\n",
    "from timeit import default_timer as timer\n",
    "from pandas.api.types import is_numeric_dtype\n",
    "from pandas.api.types import is_object_dtype\n",
    "from IPython.display import display, Markdown  # To write (have) code and markdown in the same cell\n"
   ]
  },
  {
   "cell_type": "code",
   "execution_count": 2,
   "metadata": {
    "extensions": {
     "jupyter_dashboards": {
      "version": 1,
      "views": {
       "grid_default": {
        "hidden": true
       },
       "report_default": {
        "hidden": true
       }
      }
     }
    }
   },
   "outputs": [
    {
     "data": {
      "text/html": [
       "<div>\n",
       "<style scoped>\n",
       "    .dataframe tbody tr th:only-of-type {\n",
       "        vertical-align: middle;\n",
       "    }\n",
       "\n",
       "    .dataframe tbody tr th {\n",
       "        vertical-align: top;\n",
       "    }\n",
       "\n",
       "    .dataframe thead th {\n",
       "        text-align: right;\n",
       "    }\n",
       "</style>\n",
       "<table border=\"1\" class=\"dataframe\">\n",
       "  <thead>\n",
       "    <tr style=\"text-align: right;\">\n",
       "      <th></th>\n",
       "      <th>tweet_id</th>\n",
       "      <th>in_reply_to_status_id</th>\n",
       "      <th>in_reply_to_user_id</th>\n",
       "      <th>timestamp</th>\n",
       "      <th>source</th>\n",
       "      <th>text</th>\n",
       "      <th>retweeted_status_id</th>\n",
       "      <th>retweeted_status_user_id</th>\n",
       "      <th>retweeted_status_timestamp</th>\n",
       "      <th>expanded_urls</th>\n",
       "      <th>rating_numerator</th>\n",
       "      <th>rating_denominator</th>\n",
       "      <th>name</th>\n",
       "      <th>doggo</th>\n",
       "      <th>floofer</th>\n",
       "      <th>pupper</th>\n",
       "      <th>puppo</th>\n",
       "    </tr>\n",
       "  </thead>\n",
       "  <tbody>\n",
       "    <tr>\n",
       "      <th>0</th>\n",
       "      <td>892420643555336193</td>\n",
       "      <td>NaN</td>\n",
       "      <td>NaN</td>\n",
       "      <td>2017-08-01 16:23:56 +0000</td>\n",
       "      <td>&lt;a href=\"http://twitter.com/download/iphone\" r...</td>\n",
       "      <td>This is Phineas. He's a mystical boy. Only eve...</td>\n",
       "      <td>NaN</td>\n",
       "      <td>NaN</td>\n",
       "      <td>NaN</td>\n",
       "      <td>https://twitter.com/dog_rates/status/892420643...</td>\n",
       "      <td>13</td>\n",
       "      <td>10</td>\n",
       "      <td>Phineas</td>\n",
       "      <td>None</td>\n",
       "      <td>None</td>\n",
       "      <td>None</td>\n",
       "      <td>None</td>\n",
       "    </tr>\n",
       "    <tr>\n",
       "      <th>1</th>\n",
       "      <td>892177421306343426</td>\n",
       "      <td>NaN</td>\n",
       "      <td>NaN</td>\n",
       "      <td>2017-08-01 00:17:27 +0000</td>\n",
       "      <td>&lt;a href=\"http://twitter.com/download/iphone\" r...</td>\n",
       "      <td>This is Tilly. She's just checking pup on you....</td>\n",
       "      <td>NaN</td>\n",
       "      <td>NaN</td>\n",
       "      <td>NaN</td>\n",
       "      <td>https://twitter.com/dog_rates/status/892177421...</td>\n",
       "      <td>13</td>\n",
       "      <td>10</td>\n",
       "      <td>Tilly</td>\n",
       "      <td>None</td>\n",
       "      <td>None</td>\n",
       "      <td>None</td>\n",
       "      <td>None</td>\n",
       "    </tr>\n",
       "    <tr>\n",
       "      <th>2</th>\n",
       "      <td>891815181378084864</td>\n",
       "      <td>NaN</td>\n",
       "      <td>NaN</td>\n",
       "      <td>2017-07-31 00:18:03 +0000</td>\n",
       "      <td>&lt;a href=\"http://twitter.com/download/iphone\" r...</td>\n",
       "      <td>This is Archie. He is a rare Norwegian Pouncin...</td>\n",
       "      <td>NaN</td>\n",
       "      <td>NaN</td>\n",
       "      <td>NaN</td>\n",
       "      <td>https://twitter.com/dog_rates/status/891815181...</td>\n",
       "      <td>12</td>\n",
       "      <td>10</td>\n",
       "      <td>Archie</td>\n",
       "      <td>None</td>\n",
       "      <td>None</td>\n",
       "      <td>None</td>\n",
       "      <td>None</td>\n",
       "    </tr>\n",
       "    <tr>\n",
       "      <th>3</th>\n",
       "      <td>891689557279858688</td>\n",
       "      <td>NaN</td>\n",
       "      <td>NaN</td>\n",
       "      <td>2017-07-30 15:58:51 +0000</td>\n",
       "      <td>&lt;a href=\"http://twitter.com/download/iphone\" r...</td>\n",
       "      <td>This is Darla. She commenced a snooze mid meal...</td>\n",
       "      <td>NaN</td>\n",
       "      <td>NaN</td>\n",
       "      <td>NaN</td>\n",
       "      <td>https://twitter.com/dog_rates/status/891689557...</td>\n",
       "      <td>13</td>\n",
       "      <td>10</td>\n",
       "      <td>Darla</td>\n",
       "      <td>None</td>\n",
       "      <td>None</td>\n",
       "      <td>None</td>\n",
       "      <td>None</td>\n",
       "    </tr>\n",
       "    <tr>\n",
       "      <th>4</th>\n",
       "      <td>891327558926688256</td>\n",
       "      <td>NaN</td>\n",
       "      <td>NaN</td>\n",
       "      <td>2017-07-29 16:00:24 +0000</td>\n",
       "      <td>&lt;a href=\"http://twitter.com/download/iphone\" r...</td>\n",
       "      <td>This is Franklin. He would like you to stop ca...</td>\n",
       "      <td>NaN</td>\n",
       "      <td>NaN</td>\n",
       "      <td>NaN</td>\n",
       "      <td>https://twitter.com/dog_rates/status/891327558...</td>\n",
       "      <td>12</td>\n",
       "      <td>10</td>\n",
       "      <td>Franklin</td>\n",
       "      <td>None</td>\n",
       "      <td>None</td>\n",
       "      <td>None</td>\n",
       "      <td>None</td>\n",
       "    </tr>\n",
       "  </tbody>\n",
       "</table>\n",
       "</div>"
      ],
      "text/plain": [
       "             tweet_id  in_reply_to_status_id  in_reply_to_user_id  \\\n",
       "0  892420643555336193                    NaN                  NaN   \n",
       "1  892177421306343426                    NaN                  NaN   \n",
       "2  891815181378084864                    NaN                  NaN   \n",
       "3  891689557279858688                    NaN                  NaN   \n",
       "4  891327558926688256                    NaN                  NaN   \n",
       "\n",
       "                   timestamp  \\\n",
       "0  2017-08-01 16:23:56 +0000   \n",
       "1  2017-08-01 00:17:27 +0000   \n",
       "2  2017-07-31 00:18:03 +0000   \n",
       "3  2017-07-30 15:58:51 +0000   \n",
       "4  2017-07-29 16:00:24 +0000   \n",
       "\n",
       "                                              source  \\\n",
       "0  <a href=\"http://twitter.com/download/iphone\" r...   \n",
       "1  <a href=\"http://twitter.com/download/iphone\" r...   \n",
       "2  <a href=\"http://twitter.com/download/iphone\" r...   \n",
       "3  <a href=\"http://twitter.com/download/iphone\" r...   \n",
       "4  <a href=\"http://twitter.com/download/iphone\" r...   \n",
       "\n",
       "                                                text  retweeted_status_id  \\\n",
       "0  This is Phineas. He's a mystical boy. Only eve...                  NaN   \n",
       "1  This is Tilly. She's just checking pup on you....                  NaN   \n",
       "2  This is Archie. He is a rare Norwegian Pouncin...                  NaN   \n",
       "3  This is Darla. She commenced a snooze mid meal...                  NaN   \n",
       "4  This is Franklin. He would like you to stop ca...                  NaN   \n",
       "\n",
       "   retweeted_status_user_id retweeted_status_timestamp  \\\n",
       "0                       NaN                        NaN   \n",
       "1                       NaN                        NaN   \n",
       "2                       NaN                        NaN   \n",
       "3                       NaN                        NaN   \n",
       "4                       NaN                        NaN   \n",
       "\n",
       "                                       expanded_urls  rating_numerator  \\\n",
       "0  https://twitter.com/dog_rates/status/892420643...                13   \n",
       "1  https://twitter.com/dog_rates/status/892177421...                13   \n",
       "2  https://twitter.com/dog_rates/status/891815181...                12   \n",
       "3  https://twitter.com/dog_rates/status/891689557...                13   \n",
       "4  https://twitter.com/dog_rates/status/891327558...                12   \n",
       "\n",
       "   rating_denominator      name doggo floofer pupper puppo  \n",
       "0                  10   Phineas  None    None   None  None  \n",
       "1                  10     Tilly  None    None   None  None  \n",
       "2                  10    Archie  None    None   None  None  \n",
       "3                  10     Darla  None    None   None  None  \n",
       "4                  10  Franklin  None    None   None  None  "
      ]
     },
     "execution_count": 2,
     "metadata": {},
     "output_type": "execute_result"
    }
   ],
   "source": [
    "# Load csv into dataframe\n",
    "wrd_archive = pd.read_csv('twitter-archive-enhanced.csv')\n",
    "\n",
    "# View head of dataframe\n",
    "wrd_archive.head()"
   ]
  },
  {
   "cell_type": "markdown",
   "metadata": {},
   "source": [
    "2. Use the Requests library to download the tweet image prediction (image_predictions.tsv)"
   ]
  },
  {
   "cell_type": "code",
   "execution_count": 3,
   "metadata": {},
   "outputs": [
    {
     "data": {
      "text/html": [
       "<div>\n",
       "<style scoped>\n",
       "    .dataframe tbody tr th:only-of-type {\n",
       "        vertical-align: middle;\n",
       "    }\n",
       "\n",
       "    .dataframe tbody tr th {\n",
       "        vertical-align: top;\n",
       "    }\n",
       "\n",
       "    .dataframe thead th {\n",
       "        text-align: right;\n",
       "    }\n",
       "</style>\n",
       "<table border=\"1\" class=\"dataframe\">\n",
       "  <thead>\n",
       "    <tr style=\"text-align: right;\">\n",
       "      <th></th>\n",
       "      <th>tweet_id</th>\n",
       "      <th>jpg_url</th>\n",
       "      <th>img_num</th>\n",
       "      <th>p1</th>\n",
       "      <th>p1_conf</th>\n",
       "      <th>p1_dog</th>\n",
       "      <th>p2</th>\n",
       "      <th>p2_conf</th>\n",
       "      <th>p2_dog</th>\n",
       "      <th>p3</th>\n",
       "      <th>p3_conf</th>\n",
       "      <th>p3_dog</th>\n",
       "    </tr>\n",
       "  </thead>\n",
       "  <tbody>\n",
       "    <tr>\n",
       "      <th>0</th>\n",
       "      <td>666020888022790149</td>\n",
       "      <td>https://pbs.twimg.com/media/CT4udn0WwAA0aMy.jpg</td>\n",
       "      <td>1</td>\n",
       "      <td>Welsh_springer_spaniel</td>\n",
       "      <td>0.465074</td>\n",
       "      <td>True</td>\n",
       "      <td>collie</td>\n",
       "      <td>0.156665</td>\n",
       "      <td>True</td>\n",
       "      <td>Shetland_sheepdog</td>\n",
       "      <td>0.061428</td>\n",
       "      <td>True</td>\n",
       "    </tr>\n",
       "    <tr>\n",
       "      <th>1</th>\n",
       "      <td>666029285002620928</td>\n",
       "      <td>https://pbs.twimg.com/media/CT42GRgUYAA5iDo.jpg</td>\n",
       "      <td>1</td>\n",
       "      <td>redbone</td>\n",
       "      <td>0.506826</td>\n",
       "      <td>True</td>\n",
       "      <td>miniature_pinscher</td>\n",
       "      <td>0.074192</td>\n",
       "      <td>True</td>\n",
       "      <td>Rhodesian_ridgeback</td>\n",
       "      <td>0.072010</td>\n",
       "      <td>True</td>\n",
       "    </tr>\n",
       "    <tr>\n",
       "      <th>2</th>\n",
       "      <td>666033412701032449</td>\n",
       "      <td>https://pbs.twimg.com/media/CT4521TWwAEvMyu.jpg</td>\n",
       "      <td>1</td>\n",
       "      <td>German_shepherd</td>\n",
       "      <td>0.596461</td>\n",
       "      <td>True</td>\n",
       "      <td>malinois</td>\n",
       "      <td>0.138584</td>\n",
       "      <td>True</td>\n",
       "      <td>bloodhound</td>\n",
       "      <td>0.116197</td>\n",
       "      <td>True</td>\n",
       "    </tr>\n",
       "    <tr>\n",
       "      <th>3</th>\n",
       "      <td>666044226329800704</td>\n",
       "      <td>https://pbs.twimg.com/media/CT5Dr8HUEAA-lEu.jpg</td>\n",
       "      <td>1</td>\n",
       "      <td>Rhodesian_ridgeback</td>\n",
       "      <td>0.408143</td>\n",
       "      <td>True</td>\n",
       "      <td>redbone</td>\n",
       "      <td>0.360687</td>\n",
       "      <td>True</td>\n",
       "      <td>miniature_pinscher</td>\n",
       "      <td>0.222752</td>\n",
       "      <td>True</td>\n",
       "    </tr>\n",
       "    <tr>\n",
       "      <th>4</th>\n",
       "      <td>666049248165822465</td>\n",
       "      <td>https://pbs.twimg.com/media/CT5IQmsXIAAKY4A.jpg</td>\n",
       "      <td>1</td>\n",
       "      <td>miniature_pinscher</td>\n",
       "      <td>0.560311</td>\n",
       "      <td>True</td>\n",
       "      <td>Rottweiler</td>\n",
       "      <td>0.243682</td>\n",
       "      <td>True</td>\n",
       "      <td>Doberman</td>\n",
       "      <td>0.154629</td>\n",
       "      <td>True</td>\n",
       "    </tr>\n",
       "  </tbody>\n",
       "</table>\n",
       "</div>"
      ],
      "text/plain": [
       "             tweet_id                                          jpg_url  \\\n",
       "0  666020888022790149  https://pbs.twimg.com/media/CT4udn0WwAA0aMy.jpg   \n",
       "1  666029285002620928  https://pbs.twimg.com/media/CT42GRgUYAA5iDo.jpg   \n",
       "2  666033412701032449  https://pbs.twimg.com/media/CT4521TWwAEvMyu.jpg   \n",
       "3  666044226329800704  https://pbs.twimg.com/media/CT5Dr8HUEAA-lEu.jpg   \n",
       "4  666049248165822465  https://pbs.twimg.com/media/CT5IQmsXIAAKY4A.jpg   \n",
       "\n",
       "   img_num                      p1   p1_conf  p1_dog                  p2  \\\n",
       "0        1  Welsh_springer_spaniel  0.465074    True              collie   \n",
       "1        1                 redbone  0.506826    True  miniature_pinscher   \n",
       "2        1         German_shepherd  0.596461    True            malinois   \n",
       "3        1     Rhodesian_ridgeback  0.408143    True             redbone   \n",
       "4        1      miniature_pinscher  0.560311    True          Rottweiler   \n",
       "\n",
       "    p2_conf  p2_dog                   p3   p3_conf  p3_dog  \n",
       "0  0.156665    True    Shetland_sheepdog  0.061428    True  \n",
       "1  0.074192    True  Rhodesian_ridgeback  0.072010    True  \n",
       "2  0.138584    True           bloodhound  0.116197    True  \n",
       "3  0.360687    True   miniature_pinscher  0.222752    True  \n",
       "4  0.243682    True             Doberman  0.154629    True  "
      ]
     },
     "execution_count": 3,
     "metadata": {},
     "output_type": "execute_result"
    }
   ],
   "source": [
    "# Fetch tsv file from Udactiy server\n",
    "url = 'https://d17h27t6h515a5.cloudfront.net/topher/2017/August/599fd2ad_image-predictions/image-predictions.tsv'\n",
    "response = requests.get(url)\n",
    "with open(url.split('/')[-1], mode='wb') as file:\n",
    "    file.write(response.content)\n",
    "    \n",
    "# Load downloaded tsv file into dataframe\n",
    "wrd_image_prediction = pd.read_csv('image-predictions.tsv', sep = '\\t')\n",
    "\n",
    "# View head of dataframe\n",
    "wrd_image_prediction.head()"
   ]
  },
  {
   "cell_type": "markdown",
   "metadata": {},
   "source": [
    "3. Use the Tweepy library to query additional data via the Twitter API (tweet_json.txt)"
   ]
  },
  {
   "cell_type": "code",
   "execution_count": 4,
   "metadata": {},
   "outputs": [],
   "source": [
    "# Fetch the data from Twitter if you haven't done it already... because it can take 20 - 30 minutes\n",
    "file_name = 'tweet_json.txt'\n",
    "if not os.path.isfile(file_name):\n",
    "    \n",
    "    consumer_key = 'jK#######################JQ'\n",
    "    consumer_secret = 'QZ#######################MX'\n",
    "    access_token = '62#######################oJ'\n",
    "    access_secret = 'Gr#######################nZ'\n",
    "\n",
    "    auth = tweepy.OAuthHandler(consumer_key, consumer_secret)\n",
    "    auth.set_access_token(access_token, access_secret)\n",
    "\n",
    "    api = tweepy.API(auth, wait_on_rate_limit = True, wait_on_rate_limit_notify = True)\n",
    "\n",
    "    # Getting tweet details for a single tweet_id from the twitter archive\n",
    "    tweet = api.get_status(\t892420643555336193, tweet_mode = 'extended' )\n",
    "\n",
    "    # Viewing the json data\n",
    "    tweet._json\n",
    "\n",
    "    # Verifying the presence of retweet count of tweet_id in json data\n",
    "    tweet._json['retweet_count']\n",
    "\n",
    "    # Verifying the presence of favorite count of tweet_id in json data\n",
    "    tweet._json['favorite_count']\n",
    "\n",
    "    # Creating file\n",
    "    open(file_name, 'w').close()\n",
    "\n",
    "    # Query Twitter's API for JSON data for each tweet ID in the Twitter archive & writing twitter json data to tweet_json.txt file\n",
    "    tweet_id_errors = {}\n",
    "    count = 0\n",
    "    start = timer()\n",
    "    with open(file_name, mode = 'w') as file:\n",
    "        for tweet_id in wrd_archive.tweet_id:\n",
    "            try:\n",
    "                tweet = api.get_status(tweet_id, tweet_mode='extended')\n",
    "                file.write(json.dumps(tweet._json) + '\\n')\n",
    "                print(str(count) + '_' + str(tweet_id))\n",
    "                count +=1\n",
    "            except Exception as e:\n",
    "                print(str(count) + '_' + str(tweet_id) + str(e))\n",
    "                tweet_id_errors[str(count) + '_' + str(tweet_id)] = tweet._json\n",
    "                count +=1\n",
    "    end = timer()\n",
    "    print('Elapsed Time:' + str(end-start))"
   ]
  },
  {
   "cell_type": "code",
   "execution_count": 5,
   "metadata": {},
   "outputs": [
    {
     "data": {
      "text/html": [
       "<div>\n",
       "<style scoped>\n",
       "    .dataframe tbody tr th:only-of-type {\n",
       "        vertical-align: middle;\n",
       "    }\n",
       "\n",
       "    .dataframe tbody tr th {\n",
       "        vertical-align: top;\n",
       "    }\n",
       "\n",
       "    .dataframe thead th {\n",
       "        text-align: right;\n",
       "    }\n",
       "</style>\n",
       "<table border=\"1\" class=\"dataframe\">\n",
       "  <thead>\n",
       "    <tr style=\"text-align: right;\">\n",
       "      <th></th>\n",
       "      <th>tweet_id</th>\n",
       "      <th>retweet_count</th>\n",
       "      <th>favorite_count</th>\n",
       "    </tr>\n",
       "  </thead>\n",
       "  <tbody>\n",
       "    <tr>\n",
       "      <th>0</th>\n",
       "      <td>892420643555336193</td>\n",
       "      <td>6975</td>\n",
       "      <td>33711</td>\n",
       "    </tr>\n",
       "    <tr>\n",
       "      <th>1</th>\n",
       "      <td>892177421306343426</td>\n",
       "      <td>5276</td>\n",
       "      <td>29231</td>\n",
       "    </tr>\n",
       "    <tr>\n",
       "      <th>2</th>\n",
       "      <td>891815181378084864</td>\n",
       "      <td>3465</td>\n",
       "      <td>21982</td>\n",
       "    </tr>\n",
       "    <tr>\n",
       "      <th>3</th>\n",
       "      <td>891689557279858688</td>\n",
       "      <td>7196</td>\n",
       "      <td>36804</td>\n",
       "    </tr>\n",
       "    <tr>\n",
       "      <th>4</th>\n",
       "      <td>891327558926688256</td>\n",
       "      <td>7721</td>\n",
       "      <td>35192</td>\n",
       "    </tr>\n",
       "  </tbody>\n",
       "</table>\n",
       "</div>"
      ],
      "text/plain": [
       "             tweet_id  retweet_count  favorite_count\n",
       "0  892420643555336193           6975           33711\n",
       "1  892177421306343426           5276           29231\n",
       "2  891815181378084864           3465           21982\n",
       "3  891689557279858688           7196           36804\n",
       "4  891327558926688256           7721           35192"
      ]
     },
     "execution_count": 5,
     "metadata": {},
     "output_type": "execute_result"
    }
   ],
   "source": [
    "# Reading twitter json data from tweet_json.txt file by converting each json string into python dictionary\n",
    "# and appending them to a list (row by row) and this list of dictionaries will eventually be converted to a pandas DataFrame \n",
    "\n",
    "df_list = []\n",
    "with open('tweet_json.txt', mode = 'r') as file:\n",
    "    for row in file.readlines():\n",
    "        tweet_dict = json.loads(row)\n",
    "        retweet_count = tweet_dict['retweet_count']\n",
    "        favorite_count = tweet_dict['favorite_count']\n",
    "        tweet_id = tweet_dict['id']\n",
    "        df_list.append({'tweet_id': tweet_id, \n",
    "                        'retweet_count': retweet_count, \n",
    "                        'favorite_count': favorite_count})  \n",
    "\n",
    "# Creating DataFrame from list of dictionaries\n",
    "wrd_archive_add = pd.DataFrame(df_list, columns = ['tweet_id', 'retweet_count', 'favorite_count'])\n",
    "\n",
    "# Top five rows of dataframe\n",
    "wrd_archive_add.head()"
   ]
  },
  {
   "cell_type": "markdown",
   "metadata": {},
   "source": [
    "[top](#Tableofcontents)"
   ]
  },
  {
   "cell_type": "markdown",
   "metadata": {
    "extensions": {
     "jupyter_dashboards": {
      "version": 1,
      "views": {
       "grid_default": {
        "col": 4,
        "height": 4,
        "hidden": false,
        "row": 28,
        "width": 4
       },
       "report_default": {
        "hidden": false
       }
      }
     }
    }
   },
   "source": [
    "## Assessing Data <a class=\"anchor\" id=\"AssessingData\"></a>\n",
    "In this section, detect and document at least **eight (8) quality issues and two (2) tidiness issue**. You must use **both** visual assessment\n",
    "programmatic assessement to assess the data.\n",
    "\n",
    "**Note:** pay attention to the following key points when you access the data.\n",
    "\n",
    "* You only want original ratings (no retweets) that have images. Though there are 5000+ tweets in the dataset, not all are dog ratings and some are retweets.\n",
    "* Assessing and cleaning the entire dataset completely would require a lot of time, and is not necessary to practice and demonstrate your skills in data wrangling. Therefore, the requirements of this project are only to assess and clean at least 8 quality issues and at least 2 tidiness issues in this dataset.\n",
    "* The fact that the rating numerators are greater than the denominators does not need to be cleaned. This [unique rating system](http://knowyourmeme.com/memes/theyre-good-dogs-brent) is a big part of the popularity of WeRateDogs.\n",
    "* You do not need to gather the tweets beyond August 1st, 2017. You can, but note that you won't be able to gather the image predictions for these tweets since you don't have access to the algorithm used.\n",
    "\n"
   ]
  },
  {
   "cell_type": "code",
   "execution_count": 6,
   "metadata": {},
   "outputs": [],
   "source": [
    "def visual(dataframe, string_name):\n",
    "    display(Markdown(\"##### A. Head from \" + string_name))\n",
    "    print(dataframe.head())\n",
    "    display(Markdown(\"##### B. Tail from \" + string_name))\n",
    "    print(dataframe.tail())\n",
    "    display(Markdown(\"##### C. Sample of 25 rows from \" + string_name))\n",
    "    df_elements = dataframe.sample(n=25)\n",
    "    print(df_elements.head(25))"
   ]
  },
  {
   "cell_type": "code",
   "execution_count": 18,
   "metadata": {},
   "outputs": [],
   "source": [
    "def programmatic(dataframe, string_name):\n",
    "    display(Markdown(f\"##### D. Shape from {string_name}:\"))\n",
    "    print('')\n",
    "    print(dataframe.shape)\n",
    "    display(Markdown(f\"##### E. Info from {string_name}:\"))\n",
    "    print('')\n",
    "\n",
    "    print(dataframe.info())\n",
    "    display(Markdown(f\"##### F. isnull sum from {string_name}:\"))\n",
    "    print('')\n",
    "    print(dataframe.isnull().sum())\n",
    "    display(Markdown(f\"##### G. Duplicates from {string_name}:\"))\n",
    "    print('')\n",
    "    print(sum(dataframe.duplicated()))\n",
    "    display(Markdown(f\"##### H. Describe from {string_name}:\"))\n",
    "    print('')\n",
    "    print(dataframe.describe())\n",
    "    display(Markdown(f\"##### I. Nunique from {string_name}:\"))\n",
    "    print('')\n",
    "    print(dataframe.nunique())\n",
    "\n",
    "    display(Markdown(f\"##### J. Duplicates per column from {string_name}:\"))\n",
    "    for i, col in zip(dataframe.dtypes, dataframe):\n",
    "        print('')\n",
    "        print(\n",
    "            f\"Sum of duplicates in {col} = \"\n",
    "            + str(sum(dataframe[col].duplicated()))\n",
    "            + f\"({i})\"\n",
    "        )\n",
    "\n",
    "    display(Markdown(f\"##### K. Sorted numeric values per column in {string_name}:\"))\n",
    "    for i, col in zip(dataframe.dtypes, dataframe):\n",
    "        print('')\n",
    "        print(f\"Sorted numeric values per column in {col}\")\n",
    "\n",
    "        if is_numeric_dtype(\n",
    "            dataframe[col]\n",
    "        ):\n",
    "            print(np.sort(dataframe[col].unique()))\n",
    "        else:\n",
    "            print(col + \" is not numeric\")\n",
    "\n",
    "    display(Markdown(f\"##### L. Check which column is object type from {string_name}:\"))\n",
    "    for i, col in zip(dataframe.dtypes, dataframe):\n",
    "        print('')\n",
    "        if is_object_dtype(dataframe[col]):\n",
    "            print(str(col), 'is', str(i))\n",
    "        else:\n",
    "            print(str(col), 'is not')\n",
    "\n",
    "    display(Markdown(f\"##### M. Count different values per column from {string_name}:\"))\n",
    "    \n",
    "    for i, col in zip(dataframe.dtypes, dataframe):\n",
    "        print('')\n",
    "        print(str(col))\n",
    "        print(dataframe[col].value_counts())\n",
    "        print('')\n"
   ]
  },
  {
   "cell_type": "code",
   "execution_count": 19,
   "metadata": {
    "scrolled": true
   },
   "outputs": [
    {
     "name": "stdout",
     "output_type": "stream",
     "text": [
      "__________________________\n"
     ]
    },
    {
     "data": {
      "text/markdown": [
       "### wrd_archive - Visual assessment"
      ],
      "text/plain": [
       "<IPython.core.display.Markdown object>"
      ]
     },
     "metadata": {},
     "output_type": "display_data"
    },
    {
     "data": {
      "text/markdown": [
       "##### A. Head from wrd_archive"
      ],
      "text/plain": [
       "<IPython.core.display.Markdown object>"
      ]
     },
     "metadata": {},
     "output_type": "display_data"
    },
    {
     "name": "stdout",
     "output_type": "stream",
     "text": [
      "             tweet_id  in_reply_to_status_id  in_reply_to_user_id  \\\n",
      "0  892420643555336193                    NaN                  NaN   \n",
      "1  892177421306343426                    NaN                  NaN   \n",
      "2  891815181378084864                    NaN                  NaN   \n",
      "3  891689557279858688                    NaN                  NaN   \n",
      "4  891327558926688256                    NaN                  NaN   \n",
      "\n",
      "                   timestamp  \\\n",
      "0  2017-08-01 16:23:56 +0000   \n",
      "1  2017-08-01 00:17:27 +0000   \n",
      "2  2017-07-31 00:18:03 +0000   \n",
      "3  2017-07-30 15:58:51 +0000   \n",
      "4  2017-07-29 16:00:24 +0000   \n",
      "\n",
      "                                              source  \\\n",
      "0  <a href=\"http://twitter.com/download/iphone\" r...   \n",
      "1  <a href=\"http://twitter.com/download/iphone\" r...   \n",
      "2  <a href=\"http://twitter.com/download/iphone\" r...   \n",
      "3  <a href=\"http://twitter.com/download/iphone\" r...   \n",
      "4  <a href=\"http://twitter.com/download/iphone\" r...   \n",
      "\n",
      "                                                text  retweeted_status_id  \\\n",
      "0  This is Phineas. He's a mystical boy. Only eve...                  NaN   \n",
      "1  This is Tilly. She's just checking pup on you....                  NaN   \n",
      "2  This is Archie. He is a rare Norwegian Pouncin...                  NaN   \n",
      "3  This is Darla. She commenced a snooze mid meal...                  NaN   \n",
      "4  This is Franklin. He would like you to stop ca...                  NaN   \n",
      "\n",
      "   retweeted_status_user_id retweeted_status_timestamp  \\\n",
      "0                       NaN                        NaN   \n",
      "1                       NaN                        NaN   \n",
      "2                       NaN                        NaN   \n",
      "3                       NaN                        NaN   \n",
      "4                       NaN                        NaN   \n",
      "\n",
      "                                       expanded_urls  rating_numerator  \\\n",
      "0  https://twitter.com/dog_rates/status/892420643...                13   \n",
      "1  https://twitter.com/dog_rates/status/892177421...                13   \n",
      "2  https://twitter.com/dog_rates/status/891815181...                12   \n",
      "3  https://twitter.com/dog_rates/status/891689557...                13   \n",
      "4  https://twitter.com/dog_rates/status/891327558...                12   \n",
      "\n",
      "   rating_denominator      name doggo floofer pupper puppo  \n",
      "0                  10   Phineas  None    None   None  None  \n",
      "1                  10     Tilly  None    None   None  None  \n",
      "2                  10    Archie  None    None   None  None  \n",
      "3                  10     Darla  None    None   None  None  \n",
      "4                  10  Franklin  None    None   None  None  \n"
     ]
    },
    {
     "data": {
      "text/markdown": [
       "##### B. Tail from wrd_archive"
      ],
      "text/plain": [
       "<IPython.core.display.Markdown object>"
      ]
     },
     "metadata": {},
     "output_type": "display_data"
    },
    {
     "name": "stdout",
     "output_type": "stream",
     "text": [
      "                tweet_id  in_reply_to_status_id  in_reply_to_user_id  \\\n",
      "2351  666049248165822465                    NaN                  NaN   \n",
      "2352  666044226329800704                    NaN                  NaN   \n",
      "2353  666033412701032449                    NaN                  NaN   \n",
      "2354  666029285002620928                    NaN                  NaN   \n",
      "2355  666020888022790149                    NaN                  NaN   \n",
      "\n",
      "                      timestamp  \\\n",
      "2351  2015-11-16 00:24:50 +0000   \n",
      "2352  2015-11-16 00:04:52 +0000   \n",
      "2353  2015-11-15 23:21:54 +0000   \n",
      "2354  2015-11-15 23:05:30 +0000   \n",
      "2355  2015-11-15 22:32:08 +0000   \n",
      "\n",
      "                                                 source  \\\n",
      "2351  <a href=\"http://twitter.com/download/iphone\" r...   \n",
      "2352  <a href=\"http://twitter.com/download/iphone\" r...   \n",
      "2353  <a href=\"http://twitter.com/download/iphone\" r...   \n",
      "2354  <a href=\"http://twitter.com/download/iphone\" r...   \n",
      "2355  <a href=\"http://twitter.com/download/iphone\" r...   \n",
      "\n",
      "                                                   text  retweeted_status_id  \\\n",
      "2351  Here we have a 1949 1st generation vulpix. Enj...                  NaN   \n",
      "2352  This is a purebred Piers Morgan. Loves to Netf...                  NaN   \n",
      "2353  Here is a very happy pup. Big fan of well-main...                  NaN   \n",
      "2354  This is a western brown Mitsubishi terrier. Up...                  NaN   \n",
      "2355  Here we have a Japanese Irish Setter. Lost eye...                  NaN   \n",
      "\n",
      "      retweeted_status_user_id retweeted_status_timestamp  \\\n",
      "2351                       NaN                        NaN   \n",
      "2352                       NaN                        NaN   \n",
      "2353                       NaN                        NaN   \n",
      "2354                       NaN                        NaN   \n",
      "2355                       NaN                        NaN   \n",
      "\n",
      "                                          expanded_urls  rating_numerator  \\\n",
      "2351  https://twitter.com/dog_rates/status/666049248...                 5   \n",
      "2352  https://twitter.com/dog_rates/status/666044226...                 6   \n",
      "2353  https://twitter.com/dog_rates/status/666033412...                 9   \n",
      "2354  https://twitter.com/dog_rates/status/666029285...                 7   \n",
      "2355  https://twitter.com/dog_rates/status/666020888...                 8   \n",
      "\n",
      "      rating_denominator  name doggo floofer pupper puppo  \n",
      "2351                  10  None  None    None   None  None  \n",
      "2352                  10     a  None    None   None  None  \n",
      "2353                  10     a  None    None   None  None  \n",
      "2354                  10     a  None    None   None  None  \n",
      "2355                  10  None  None    None   None  None  \n"
     ]
    },
    {
     "data": {
      "text/markdown": [
       "##### C. Sample of 25 rows from wrd_archive"
      ],
      "text/plain": [
       "<IPython.core.display.Markdown object>"
      ]
     },
     "metadata": {},
     "output_type": "display_data"
    },
    {
     "name": "stdout",
     "output_type": "stream",
     "text": [
      "                tweet_id  in_reply_to_status_id  in_reply_to_user_id  \\\n",
      "517   810896069567610880                    NaN                  NaN   \n",
      "113   870726314365509632           8.707262e+17           16487760.0   \n",
      "1611  685325112850124800                    NaN                  NaN   \n",
      "1232  713175907180089344                    NaN                  NaN   \n",
      "634   793614319594401792                    NaN                  NaN   \n",
      "1409  699060279947165696                    NaN                  NaN   \n",
      "1063  741067306818797568                    NaN                  NaN   \n",
      "1112  733460102733135873                    NaN                  NaN   \n",
      "694   786729988674449408                    NaN                  NaN   \n",
      "316   834931633769889797                    NaN                  NaN   \n",
      "2184  668988183816871936                    NaN                  NaN   \n",
      "1263  710117014656950272                    NaN                  NaN   \n",
      "2071  671115716440031232                    NaN                  NaN   \n",
      "978   749996283729883136                    NaN                  NaN   \n",
      "511   811985624773361665                    NaN                  NaN   \n",
      "1787  677565715327688705                    NaN                  NaN   \n",
      "797   773191612633579521                    NaN                  NaN   \n",
      "865   762316489655476224                    NaN                  NaN   \n",
      "2052  671486386088865792                    NaN                  NaN   \n",
      "612   796904159865868288                    NaN                  NaN   \n",
      "2234  668190681446379520                    NaN                  NaN   \n",
      "219   850145622816686080                    NaN                  NaN   \n",
      "2120  670411370698022913                    NaN                  NaN   \n",
      "469   816829038950027264                    NaN                  NaN   \n",
      "1160  724004602748780546                    NaN                  NaN   \n",
      "\n",
      "                      timestamp  \\\n",
      "517   2016-12-19 17:14:23 +0000   \n",
      "113   2017-06-02 19:38:25 +0000   \n",
      "1611  2016-01-08 05:00:14 +0000   \n",
      "1232  2016-03-25 01:29:21 +0000   \n",
      "634   2016-11-02 00:42:53 +0000   \n",
      "1409  2016-02-15 02:38:53 +0000   \n",
      "1063  2016-06-10 00:39:48 +0000   \n",
      "1112  2016-05-20 00:51:30 +0000   \n",
      "694   2016-10-14 00:47:00 +0000   \n",
      "316   2017-02-24 01:03:08 +0000   \n",
      "2184  2015-11-24 03:03:06 +0000   \n",
      "1263  2016-03-16 14:54:24 +0000   \n",
      "2071  2015-11-29 23:57:10 +0000   \n",
      "978   2016-07-04 16:00:22 +0000   \n",
      "511   2016-12-22 17:23:53 +0000   \n",
      "1787  2015-12-17 19:07:09 +0000   \n",
      "797   2016-09-06 16:10:20 +0000   \n",
      "865   2016-08-07 15:56:28 +0000   \n",
      "2052  2015-12-01 00:30:04 +0000   \n",
      "612   2016-11-11 02:35:32 +0000   \n",
      "2234  2015-11-21 22:14:07 +0000   \n",
      "219   2017-04-07 00:38:06 +0000   \n",
      "2120  2015-11-28 01:18:21 +0000   \n",
      "469   2017-01-05 02:09:53 +0000   \n",
      "1160  2016-04-23 22:38:43 +0000   \n",
      "\n",
      "                                                 source  \\\n",
      "517   <a href=\"http://twitter.com/download/iphone\" r...   \n",
      "113   <a href=\"http://twitter.com/download/iphone\" r...   \n",
      "1611  <a href=\"http://twitter.com/download/iphone\" r...   \n",
      "1232  <a href=\"http://twitter.com/download/iphone\" r...   \n",
      "634   <a href=\"http://twitter.com/download/iphone\" r...   \n",
      "1409  <a href=\"http://vine.co\" rel=\"nofollow\">Vine -...   \n",
      "1063  <a href=\"http://twitter.com/download/iphone\" r...   \n",
      "1112  <a href=\"http://twitter.com/download/iphone\" r...   \n",
      "694   <a href=\"http://twitter.com/download/iphone\" r...   \n",
      "316   <a href=\"http://twitter.com/download/iphone\" r...   \n",
      "2184  <a href=\"http://twitter.com/download/iphone\" r...   \n",
      "1263  <a href=\"http://twitter.com/download/iphone\" r...   \n",
      "2071  <a href=\"http://twitter.com/download/iphone\" r...   \n",
      "978   <a href=\"https://about.twitter.com/products/tw...   \n",
      "511   <a href=\"http://twitter.com/download/iphone\" r...   \n",
      "1787  <a href=\"http://twitter.com/download/iphone\" r...   \n",
      "797   <a href=\"http://twitter.com/download/iphone\" r...   \n",
      "865   <a href=\"http://twitter.com/download/iphone\" r...   \n",
      "2052  <a href=\"http://twitter.com/download/iphone\" r...   \n",
      "612   <a href=\"http://twitter.com/download/iphone\" r...   \n",
      "2234  <a href=\"http://twitter.com/download/iphone\" r...   \n",
      "219   <a href=\"http://twitter.com/download/iphone\" r...   \n",
      "2120  <a href=\"http://twitter.com/download/iphone\" r...   \n",
      "469   <a href=\"http://twitter.com/download/iphone\" r...   \n",
      "1160  <a href=\"http://twitter.com/download/iphone\" r...   \n",
      "\n",
      "                                                   text  retweeted_status_id  \\\n",
      "517   This is Hunter. He just found out he needs bra...                  NaN   \n",
      "113   @ComplicitOwl @ShopWeRateDogs &gt;10/10 is res...                  NaN   \n",
      "1611  \"Tristan do not speak to me with that kind of ...                  NaN   \n",
      "1232  Say hello to Opie and Clarkus. Clarkus fell as...                  NaN   \n",
      "634   RT @dog_rates: When she says you're a good boy...         7.916723e+17   \n",
      "1409  This is Yukon. He pukes rainbows. 12/10 magica...                  NaN   \n",
      "1063  This is just downright precious af. 12/10 for ...                  NaN   \n",
      "1112  This is Hermione. Her face is as old as time. ...                  NaN   \n",
      "694   RT @dog_rates: This is Oakley. He has no idea ...         7.594477e+17   \n",
      "316   This is Tucker. He decided it was time to part...                  NaN   \n",
      "2184  Honor to rate this dog. Lots of fur on him. Tw...                  NaN   \n",
      "1263  This pupper got her hair chalked for her birth...                  NaN   \n",
      "2071  Meet Phred. He isn't steering, looking at the ...                  NaN   \n",
      "978   This is Bo. He emanates happiness. 12/10 I cou...                  NaN   \n",
      "511   Say hello to Ted. He accidentally opened the f...                  NaN   \n",
      "1787  Contortionist pup here. Inside pentagram. Clea...                  NaN   \n",
      "797   This is Grey. He's the dogtor in charge of you...                  NaN   \n",
      "865   This is Scout. He specializes in mid-air freez...                  NaN   \n",
      "2052  This is Malcolm. He just saw a spider. 10/10 h...                  NaN   \n",
      "612   RT @dog_rates: This is Tyrone. He's a leaf wiz...         6.873173e+17   \n",
      "2234  This is Skittles. I would kidnap Skittles. Pin...                  NaN   \n",
      "219   This is Riley. He's making new friends. Jubila...                  NaN   \n",
      "2120  Meet Scooter. He's ready for his first day of ...                  NaN   \n",
      "469   RT @dog_rates: This is Betty. She's assisting ...         7.909461e+17   \n",
      "1160  This is Luther. He saw a ghost. Spooked af. 11...                  NaN   \n",
      "\n",
      "      retweeted_status_user_id retweeted_status_timestamp  \\\n",
      "517                        NaN                        NaN   \n",
      "113                        NaN                        NaN   \n",
      "1611                       NaN                        NaN   \n",
      "1232                       NaN                        NaN   \n",
      "634               4.196984e+09  2016-10-27 16:06:04 +0000   \n",
      "1409                       NaN                        NaN   \n",
      "1063                       NaN                        NaN   \n",
      "1112                       NaN                        NaN   \n",
      "694               4.196984e+09  2016-07-30 17:56:51 +0000   \n",
      "316                        NaN                        NaN   \n",
      "2184                       NaN                        NaN   \n",
      "1263                       NaN                        NaN   \n",
      "2071                       NaN                        NaN   \n",
      "978                        NaN                        NaN   \n",
      "511                        NaN                        NaN   \n",
      "1787                       NaN                        NaN   \n",
      "797                        NaN                        NaN   \n",
      "865                        NaN                        NaN   \n",
      "2052                       NaN                        NaN   \n",
      "612               4.196984e+09  2016-01-13 16:56:30 +0000   \n",
      "2234                       NaN                        NaN   \n",
      "219                        NaN                        NaN   \n",
      "2120                       NaN                        NaN   \n",
      "469               4.196984e+09  2016-10-25 16:00:09 +0000   \n",
      "1160                       NaN                        NaN   \n",
      "\n",
      "                                          expanded_urls  rating_numerator  \\\n",
      "517   https://twitter.com/dog_rates/status/810896069...                11   \n",
      "113                                                 NaN                10   \n",
      "1611  https://twitter.com/dog_rates/status/685325112...                10   \n",
      "1232  https://twitter.com/dog_rates/status/713175907...                10   \n",
      "634   https://twitter.com/dog_rates/status/791672322...                13   \n",
      "1409                      https://vine.co/v/inlmMHxtqDD                12   \n",
      "1063  https://twitter.com/dog_rates/status/741067306...                12   \n",
      "1112  https://twitter.com/dog_rates/status/733460102...                11   \n",
      "694   https://twitter.com/dog_rates/status/759447681...                11   \n",
      "316   https://twitter.com/dog_rates/status/834931633...                12   \n",
      "2184  https://twitter.com/dog_rates/status/668988183...                 7   \n",
      "1263  https://twitter.com/dog_rates/status/710117014...                11   \n",
      "2071  https://twitter.com/dog_rates/status/671115716...                 6   \n",
      "978   https://twitter.com/dog_rates/status/749996283...                12   \n",
      "511   https://twitter.com/dog_rates/status/811985624...                11   \n",
      "1787  https://twitter.com/dog_rates/status/677565715...                 6   \n",
      "797   https://twitter.com/dog_rates/status/773191612...                12   \n",
      "865   https://twitter.com/dog_rates/status/762316489...                11   \n",
      "2052  https://twitter.com/dog_rates/status/671486386...                10   \n",
      "612   https://twitter.com/dog_rates/status/687317306...                11   \n",
      "2234  https://twitter.com/dog_rates/status/668190681...                12   \n",
      "219   https://twitter.com/dog_rates/status/850145622...                11   \n",
      "2120  https://twitter.com/dog_rates/status/670411370...                12   \n",
      "469   https://twitter.com/dog_rates/status/790946055...                12   \n",
      "1160  https://twitter.com/dog_rates/status/724004602...                11   \n",
      "\n",
      "      rating_denominator      name  doggo floofer  pupper  puppo  \n",
      "517                   10    Hunter   None    None    None   None  \n",
      "113                   10      None   None    None    None   None  \n",
      "1611                  10      None   None    None    None   None  \n",
      "1232                  10      Opie   None    None    None   None  \n",
      "634                   10      None   None    None    None   None  \n",
      "1409                  10     Yukon   None    None    None   None  \n",
      "1063                  10      just  doggo    None  pupper   None  \n",
      "1112                  10  Hermione   None    None    None   None  \n",
      "694                   10    Oakley   None    None    None   None  \n",
      "316                   10    Tucker   None    None    None   None  \n",
      "2184                  10      None   None    None    None   None  \n",
      "1263                  10      None   None    None  pupper   None  \n",
      "2071                  10     Phred   None    None    None   None  \n",
      "978                   10        Bo   None    None    None   None  \n",
      "511                   10       Ted   None    None    None   None  \n",
      "1787                  10      None   None    None    None   None  \n",
      "797                   10      Grey   None    None    None   None  \n",
      "865                   10     Scout   None    None    None   None  \n",
      "2052                  10   Malcolm   None    None    None   None  \n",
      "612                   10    Tyrone   None    None    None   None  \n",
      "2234                  10  Skittles   None    None    None   None  \n",
      "219                   10     Riley   None    None    None   None  \n",
      "2120                  10   Scooter   None    None    None   None  \n",
      "469                   10     Betty   None    None    None  puppo  \n",
      "1160                  10    Luther   None    None  pupper   None  \n"
     ]
    },
    {
     "data": {
      "text/markdown": [
       "### wrd_archive - Programmatic assessment"
      ],
      "text/plain": [
       "<IPython.core.display.Markdown object>"
      ]
     },
     "metadata": {},
     "output_type": "display_data"
    },
    {
     "data": {
      "text/markdown": [
       "##### D. Shape from wrd_archive:"
      ],
      "text/plain": [
       "<IPython.core.display.Markdown object>"
      ]
     },
     "metadata": {},
     "output_type": "display_data"
    },
    {
     "name": "stdout",
     "output_type": "stream",
     "text": [
      "\n",
      "(2356, 17)\n"
     ]
    },
    {
     "data": {
      "text/markdown": [
       "##### E. Info from wrd_archive:"
      ],
      "text/plain": [
       "<IPython.core.display.Markdown object>"
      ]
     },
     "metadata": {},
     "output_type": "display_data"
    },
    {
     "name": "stdout",
     "output_type": "stream",
     "text": [
      "\n",
      "<class 'pandas.core.frame.DataFrame'>\n",
      "RangeIndex: 2356 entries, 0 to 2355\n",
      "Data columns (total 17 columns):\n",
      " #   Column                      Non-Null Count  Dtype  \n",
      "---  ------                      --------------  -----  \n",
      " 0   tweet_id                    2356 non-null   int64  \n",
      " 1   in_reply_to_status_id       78 non-null     float64\n",
      " 2   in_reply_to_user_id         78 non-null     float64\n",
      " 3   timestamp                   2356 non-null   object \n",
      " 4   source                      2356 non-null   object \n",
      " 5   text                        2356 non-null   object \n",
      " 6   retweeted_status_id         181 non-null    float64\n",
      " 7   retweeted_status_user_id    181 non-null    float64\n",
      " 8   retweeted_status_timestamp  181 non-null    object \n",
      " 9   expanded_urls               2297 non-null   object \n",
      " 10  rating_numerator            2356 non-null   int64  \n",
      " 11  rating_denominator          2356 non-null   int64  \n",
      " 12  name                        2356 non-null   object \n",
      " 13  doggo                       2356 non-null   object \n",
      " 14  floofer                     2356 non-null   object \n",
      " 15  pupper                      2356 non-null   object \n",
      " 16  puppo                       2356 non-null   object \n",
      "dtypes: float64(4), int64(3), object(10)\n",
      "memory usage: 313.0+ KB\n",
      "None\n"
     ]
    },
    {
     "data": {
      "text/markdown": [
       "##### F. isnull sum from wrd_archive:"
      ],
      "text/plain": [
       "<IPython.core.display.Markdown object>"
      ]
     },
     "metadata": {},
     "output_type": "display_data"
    },
    {
     "name": "stdout",
     "output_type": "stream",
     "text": [
      "\n",
      "tweet_id                         0\n",
      "in_reply_to_status_id         2278\n",
      "in_reply_to_user_id           2278\n",
      "timestamp                        0\n",
      "source                           0\n",
      "text                             0\n",
      "retweeted_status_id           2175\n",
      "retweeted_status_user_id      2175\n",
      "retweeted_status_timestamp    2175\n",
      "expanded_urls                   59\n",
      "rating_numerator                 0\n",
      "rating_denominator               0\n",
      "name                             0\n",
      "doggo                            0\n",
      "floofer                          0\n",
      "pupper                           0\n",
      "puppo                            0\n",
      "dtype: int64\n"
     ]
    },
    {
     "data": {
      "text/markdown": [
       "##### G. Duplicates from wrd_archive:"
      ],
      "text/plain": [
       "<IPython.core.display.Markdown object>"
      ]
     },
     "metadata": {},
     "output_type": "display_data"
    },
    {
     "name": "stdout",
     "output_type": "stream",
     "text": [
      "\n",
      "0\n"
     ]
    },
    {
     "data": {
      "text/markdown": [
       "##### H. Describe from wrd_archive:"
      ],
      "text/plain": [
       "<IPython.core.display.Markdown object>"
      ]
     },
     "metadata": {},
     "output_type": "display_data"
    },
    {
     "name": "stdout",
     "output_type": "stream",
     "text": [
      "\n",
      "           tweet_id  in_reply_to_status_id  in_reply_to_user_id  \\\n",
      "count  2.356000e+03           7.800000e+01         7.800000e+01   \n",
      "mean   7.427716e+17           7.455079e+17         2.014171e+16   \n",
      "std    6.856705e+16           7.582492e+16         1.252797e+17   \n",
      "min    6.660209e+17           6.658147e+17         1.185634e+07   \n",
      "25%    6.783989e+17           6.757419e+17         3.086374e+08   \n",
      "50%    7.196279e+17           7.038708e+17         4.196984e+09   \n",
      "75%    7.993373e+17           8.257804e+17         4.196984e+09   \n",
      "max    8.924206e+17           8.862664e+17         8.405479e+17   \n",
      "\n",
      "       retweeted_status_id  retweeted_status_user_id  rating_numerator  \\\n",
      "count         1.810000e+02              1.810000e+02       2356.000000   \n",
      "mean          7.720400e+17              1.241698e+16         13.126486   \n",
      "std           6.236928e+16              9.599254e+16         45.876648   \n",
      "min           6.661041e+17              7.832140e+05          0.000000   \n",
      "25%           7.186315e+17              4.196984e+09         10.000000   \n",
      "50%           7.804657e+17              4.196984e+09         11.000000   \n",
      "75%           8.203146e+17              4.196984e+09         12.000000   \n",
      "max           8.874740e+17              7.874618e+17       1776.000000   \n",
      "\n",
      "       rating_denominator  \n",
      "count         2356.000000  \n",
      "mean            10.455433  \n",
      "std              6.745237  \n",
      "min              0.000000  \n",
      "25%             10.000000  \n",
      "50%             10.000000  \n",
      "75%             10.000000  \n",
      "max            170.000000  \n"
     ]
    },
    {
     "data": {
      "text/markdown": [
       "##### I. Nunique from wrd_archive:"
      ],
      "text/plain": [
       "<IPython.core.display.Markdown object>"
      ]
     },
     "metadata": {},
     "output_type": "display_data"
    },
    {
     "name": "stdout",
     "output_type": "stream",
     "text": [
      "\n",
      "tweet_id                      2356\n",
      "in_reply_to_status_id           77\n",
      "in_reply_to_user_id             31\n",
      "timestamp                     2356\n",
      "source                           4\n",
      "text                          2356\n",
      "retweeted_status_id            181\n",
      "retweeted_status_user_id        25\n",
      "retweeted_status_timestamp     181\n",
      "expanded_urls                 2218\n",
      "rating_numerator                40\n",
      "rating_denominator              18\n",
      "name                           957\n",
      "doggo                            2\n",
      "floofer                          2\n",
      "pupper                           2\n",
      "puppo                            2\n",
      "dtype: int64\n"
     ]
    },
    {
     "data": {
      "text/markdown": [
       "##### J. Duplicates per column from wrd_archive:"
      ],
      "text/plain": [
       "<IPython.core.display.Markdown object>"
      ]
     },
     "metadata": {},
     "output_type": "display_data"
    },
    {
     "name": "stdout",
     "output_type": "stream",
     "text": [
      "\n",
      "Sum of duplicates in tweet_id = 0(int64)\n",
      "\n",
      "Sum of duplicates in in_reply_to_status_id = 2278(float64)\n",
      "\n",
      "Sum of duplicates in in_reply_to_user_id = 2324(float64)\n",
      "\n",
      "Sum of duplicates in timestamp = 0(object)\n",
      "\n",
      "Sum of duplicates in source = 2352(object)\n",
      "\n",
      "Sum of duplicates in text = 0(object)\n",
      "\n",
      "Sum of duplicates in retweeted_status_id = 2174(float64)\n",
      "\n",
      "Sum of duplicates in retweeted_status_user_id = 2330(float64)\n",
      "\n",
      "Sum of duplicates in retweeted_status_timestamp = 2174(object)\n",
      "\n",
      "Sum of duplicates in expanded_urls = 137(object)\n",
      "\n",
      "Sum of duplicates in rating_numerator = 2316(int64)\n",
      "\n",
      "Sum of duplicates in rating_denominator = 2338(int64)\n",
      "\n",
      "Sum of duplicates in name = 1399(object)\n",
      "\n",
      "Sum of duplicates in doggo = 2354(object)\n",
      "\n",
      "Sum of duplicates in floofer = 2354(object)\n",
      "\n",
      "Sum of duplicates in pupper = 2354(object)\n",
      "\n",
      "Sum of duplicates in puppo = 2354(object)\n"
     ]
    },
    {
     "data": {
      "text/markdown": [
       "##### K. Sorted numeric values per column in wrd_archive:"
      ],
      "text/plain": [
       "<IPython.core.display.Markdown object>"
      ]
     },
     "metadata": {},
     "output_type": "display_data"
    },
    {
     "name": "stdout",
     "output_type": "stream",
     "text": [
      "\n",
      "Sorted numeric values per column in tweet_id\n",
      "[666020888022790149 666029285002620928 666033412701032449 ...\n",
      " 891815181378084864 892177421306343426 892420643555336193]\n",
      "\n",
      "Sorted numeric values per column in in_reply_to_status_id\n",
      "[6.65814697e+17 6.67065536e+17 6.67152164e+17 6.67806455e+17\n",
      " 6.68920717e+17 6.69354383e+17 6.70668383e+17 6.71544874e+17\n",
      " 6.71561002e+17 6.71729907e+17 6.73715862e+17 6.74468881e+17\n",
      " 6.74739953e+17 6.74752233e+17 6.74793399e+17 6.74999808e+17\n",
      " 6.75349384e+17 6.75497103e+17 6.75707330e+17 6.75845657e+17\n",
      " 6.76588346e+17 6.78021116e+17 6.81339449e+17 6.82788442e+17\n",
      " 6.84222868e+17 6.84481075e+17 6.84959799e+17 6.85547936e+17\n",
      " 6.86034025e+17 6.90341254e+17 6.91416866e+17 6.92041935e+17\n",
      " 6.92417313e+17 6.93572216e+17 6.93642232e+17 6.96488711e+17\n",
      " 7.03041950e+17 7.03255936e+17 7.04485745e+17 7.07980066e+17\n",
      " 7.29113531e+17 7.33109485e+17 7.38411920e+17 7.46885919e+17\n",
      " 7.47648654e+17 7.50180499e+17 7.59099524e+17 7.63865175e+17\n",
      " 7.66711819e+17 7.72743019e+17 7.97123751e+17 8.00857954e+17\n",
      " 8.01854331e+17 8.11627233e+17 8.13127252e+17 8.21152593e+17\n",
      " 8.23326389e+17 8.26598365e+17 8.31903044e+17 8.32087548e+17\n",
      " 8.35245984e+17 8.38085539e+17 8.38145499e+17 8.40698300e+17\n",
      " 8.47606176e+17 8.48212112e+17 8.50328819e+17 8.55818117e+17\n",
      " 8.55858536e+17 8.55861584e+17 8.56286004e+17 8.57156678e+17\n",
      " 8.63425646e+17 8.70726203e+17 8.79553827e+17 8.81607037e+17\n",
      " 8.86266357e+17            nan]\n",
      "\n",
      "Sorted numeric values per column in in_reply_to_user_id\n",
      "[1.18563420e+07 1.36157220e+07 1.58464070e+07 1.63746780e+07\n",
      " 1.64877600e+07 2.06837240e+07 2.14356580e+07 2.19550580e+07\n",
      " 2.62595760e+07 2.87854860e+07 2.91663050e+07 3.05820820e+07\n",
      " 4.73844300e+07 7.75962000e+07 1.13211856e+08 1.80670967e+08\n",
      " 1.94351775e+08 2.79280991e+08 2.91859009e+08 3.58972768e+08\n",
      " 4.67036706e+08 1.19898851e+09 1.58285381e+09 2.28118160e+09\n",
      " 2.31910820e+09 2.89413118e+09 3.10544075e+09 4.19698384e+09\n",
      " 4.71729748e+09 7.30505014e+17 8.40547864e+17            nan]\n",
      "\n",
      "Sorted numeric values per column in timestamp\n",
      "timestamp is not numeric\n",
      "\n",
      "Sorted numeric values per column in source\n",
      "source is not numeric\n",
      "\n",
      "Sorted numeric values per column in text\n",
      "text is not numeric\n",
      "\n",
      "Sorted numeric values per column in retweeted_status_id\n",
      "[6.66104133e+17 6.67138270e+17 6.67152164e+17 6.67182792e+17\n",
      " 6.67509364e+17 6.67548415e+17 6.67548696e+17 6.67866724e+17\n",
      " 6.69000397e+17 6.70319131e+17 6.70444956e+17 6.71896809e+17\n",
      " 6.73295269e+17 6.73320133e+17 6.74291837e+17 6.75354436e+17\n",
      " 6.75501076e+17 6.76936542e+17 6.79062614e+17 6.79158374e+17\n",
      " 6.79462823e+17 6.79828447e+17 6.80055456e+17 6.81523178e+17\n",
      " 6.81694086e+17 6.82088079e+17 6.83391853e+17 6.83515932e+17\n",
      " 6.84830983e+17 6.85325113e+17 6.87317306e+17 6.91416866e+17\n",
      " 6.92417313e+17 6.94669722e+17 6.98195409e+17 7.00143752e+17\n",
      " 7.00747789e+17 7.01214701e+17 7.03041950e+17 7.04761121e+17\n",
      " 7.06904524e+17 7.07610949e+17 7.11694788e+17 7.11998280e+17\n",
      " 7.12809026e+17 7.18631498e+17 7.25842289e+17 7.32005617e+17\n",
      " 7.33109485e+17 7.36392552e+17 7.39238158e+17 7.39544079e+17\n",
      " 7.39979192e+17 7.40373189e+17 7.40676976e+17 7.41067307e+17\n",
      " 7.42423170e+17 7.46757706e+17 7.50429298e+17 7.50719633e+17\n",
      " 7.52932433e+17 7.53039831e+17 7.53375669e+17 7.56288534e+17\n",
      " 7.57597141e+17 7.58099636e+17 7.59447682e+17 7.59923799e+17\n",
      " 7.60153833e+17 7.61004548e+17 7.61672994e+17 7.62464539e+17\n",
      " 7.62699858e+17 7.63837566e+17 7.65222099e+17 7.67754930e+17\n",
      " 7.68193405e+17 7.69940426e+17 7.71002130e+17 7.71380798e+17\n",
      " 7.71770457e+17 7.73308824e+17 7.73547597e+17 7.74314404e+17\n",
      " 7.75085133e+17 7.75733305e+17 7.76113306e+17 7.77684234e+17\n",
      " 7.79056096e+17 7.79834333e+17 7.80465709e+17 7.80601304e+17\n",
      " 7.80931614e+17 7.81524693e+17 7.82305868e+17 7.82722599e+17\n",
      " 7.82969140e+17 7.83334640e+17 7.83839966e+17 7.84057940e+17\n",
      " 7.84183166e+17 7.84826020e+17 7.86233965e+17 7.86709083e+17\n",
      " 7.86963064e+17 7.88765915e+17 7.89530877e+17 7.89986466e+17\n",
      " 7.90277117e+17 7.90946056e+17 7.91406956e+17 7.91672323e+17\n",
      " 7.93286476e+17 7.93962222e+17 7.95076730e+17 7.96149749e+17\n",
      " 8.00065028e+17 8.00141422e+17 8.00854023e+17 8.01167903e+17\n",
      " 8.06629075e+17 8.07106841e+17 8.08344866e+17 8.09220051e+17\n",
      " 8.09920764e+17 8.10254108e+17 8.15966073e+17 8.15990721e+17\n",
      " 8.16450571e+17 8.17423860e+17 8.17827839e+17 8.19004803e+17\n",
      " 8.19006401e+17 8.19227688e+17 8.19952236e+17 8.20314634e+17\n",
      " 8.20749717e+17 8.22244817e+17 8.22489057e+17 8.25026591e+17\n",
      " 8.26958653e+17 8.29374342e+17 8.29501995e+17 8.30583321e+17\n",
      " 8.31650052e+17 8.32369877e+17 8.32434358e+17 8.32766382e+17\n",
      " 8.33124695e+17 8.35264099e+17 8.36648149e+17 8.37011345e+17\n",
      " 8.37820168e+17 8.38905981e+17 8.39289919e+17 8.39549326e+17\n",
      " 8.40632337e+17 8.41077006e+17 8.42163533e+17 8.44704788e+17\n",
      " 8.47971000e+17 8.48289382e+17 8.55122533e+17 8.56330159e+17\n",
      " 8.57061112e+17 8.59196979e+17 8.60563773e+17 8.60914485e+17\n",
      " 8.63062472e+17 8.65013420e+17 8.66334965e+17 8.66450706e+17\n",
      " 8.68552279e+17 8.68880398e+17 8.72657584e+17 8.73213776e+17\n",
      " 8.76850772e+17 8.78057613e+17 8.78281511e+17 8.86053734e+17\n",
      " 8.87473957e+17            nan]\n",
      "\n",
      "Sorted numeric values per column in retweeted_status_user_id\n",
      "[7.83214000e+05 1.96074000e+07 2.48855660e+07 4.11984180e+07\n",
      " 4.46675020e+07 5.87097230e+07 6.66990130e+07 7.99237010e+07\n",
      " 1.54767397e+08 1.95036846e+08 2.80479778e+08 3.41021133e+08\n",
      " 3.63890752e+08 4.87197737e+08 5.12804507e+08 5.97064155e+08\n",
      " 7.26634734e+08 8.11740824e+08 1.22832566e+09 1.73272909e+09\n",
      " 4.19698384e+09 4.29683174e+09 7.12457247e+17 7.47554344e+17\n",
      " 7.87461778e+17            nan]\n",
      "\n",
      "Sorted numeric values per column in retweeted_status_timestamp\n",
      "retweeted_status_timestamp is not numeric\n",
      "\n",
      "Sorted numeric values per column in expanded_urls\n",
      "expanded_urls is not numeric\n",
      "\n",
      "Sorted numeric values per column in rating_numerator\n",
      "[   0    1    2    3    4    5    6    7    8    9   10   11   12   13\n",
      "   14   15   17   20   24   26   27   44   45   50   60   75   80   84\n",
      "   88   99  121  143  144  165  182  204  420  666  960 1776]\n",
      "\n",
      "Sorted numeric values per column in rating_denominator\n",
      "[  0   2   7  10  11  15  16  20  40  50  70  80  90 110 120 130 150 170]\n",
      "\n",
      "Sorted numeric values per column in name\n",
      "name is not numeric\n",
      "\n",
      "Sorted numeric values per column in doggo\n",
      "doggo is not numeric\n",
      "\n",
      "Sorted numeric values per column in floofer\n",
      "floofer is not numeric\n",
      "\n",
      "Sorted numeric values per column in pupper\n",
      "pupper is not numeric\n",
      "\n",
      "Sorted numeric values per column in puppo\n",
      "puppo is not numeric\n"
     ]
    },
    {
     "data": {
      "text/markdown": [
       "##### L. Check which column is object type from wrd_archive:"
      ],
      "text/plain": [
       "<IPython.core.display.Markdown object>"
      ]
     },
     "metadata": {},
     "output_type": "display_data"
    },
    {
     "name": "stdout",
     "output_type": "stream",
     "text": [
      "\n",
      "tweet_id is not\n",
      "\n",
      "in_reply_to_status_id is not\n",
      "\n",
      "in_reply_to_user_id is not\n",
      "\n",
      "timestamp is object\n",
      "\n",
      "source is object\n",
      "\n",
      "text is object\n",
      "\n",
      "retweeted_status_id is not\n",
      "\n",
      "retweeted_status_user_id is not\n",
      "\n",
      "retweeted_status_timestamp is object\n",
      "\n",
      "expanded_urls is object\n",
      "\n",
      "rating_numerator is not\n",
      "\n",
      "rating_denominator is not\n",
      "\n",
      "name is object\n",
      "\n",
      "doggo is object\n",
      "\n",
      "floofer is object\n",
      "\n",
      "pupper is object\n",
      "\n",
      "puppo is object\n"
     ]
    },
    {
     "data": {
      "text/markdown": [
       "##### M. Count different values per column from wrd_archive:"
      ],
      "text/plain": [
       "<IPython.core.display.Markdown object>"
      ]
     },
     "metadata": {},
     "output_type": "display_data"
    },
    {
     "name": "stdout",
     "output_type": "stream",
     "text": [
      "\n",
      "tweet_id\n",
      "892420643555336193    1\n",
      "687102708889812993    1\n",
      "687826841265172480    1\n",
      "687818504314159109    1\n",
      "687807801670897665    1\n",
      "                     ..\n",
      "775085132600442880    1\n",
      "774757898236878852    1\n",
      "774639387460112384    1\n",
      "774314403806253056    1\n",
      "666020888022790149    1\n",
      "Name: tweet_id, Length: 2356, dtype: int64\n",
      "\n",
      "\n",
      "in_reply_to_status_id\n",
      "6.671522e+17    2\n",
      "8.862664e+17    1\n",
      "6.920419e+17    1\n",
      "6.827884e+17    1\n",
      "6.842229e+17    1\n",
      "               ..\n",
      "8.116272e+17    1\n",
      "8.131273e+17    1\n",
      "8.211526e+17    1\n",
      "8.233264e+17    1\n",
      "6.670655e+17    1\n",
      "Name: in_reply_to_status_id, Length: 77, dtype: int64\n",
      "\n",
      "\n",
      "in_reply_to_user_id\n",
      "4.196984e+09    47\n",
      "2.195506e+07     2\n",
      "2.281182e+09     1\n",
      "1.132119e+08     1\n",
      "1.637468e+07     1\n",
      "4.670367e+08     1\n",
      "1.198989e+09     1\n",
      "2.878549e+07     1\n",
      "2.319108e+09     1\n",
      "3.589728e+08     1\n",
      "4.717297e+09     1\n",
      "1.584641e+07     1\n",
      "7.305050e+17     1\n",
      "2.916630e+07     1\n",
      "2.918590e+08     1\n",
      "1.185634e+07     1\n",
      "2.068372e+07     1\n",
      "1.582854e+09     1\n",
      "4.738443e+07     1\n",
      "3.058208e+07     1\n",
      "2.625958e+07     1\n",
      "2.894131e+09     1\n",
      "8.405479e+17     1\n",
      "1.361572e+07     1\n",
      "1.943518e+08     1\n",
      "2.792810e+08     1\n",
      "1.806710e+08     1\n",
      "7.759620e+07     1\n",
      "1.648776e+07     1\n",
      "3.105441e+09     1\n",
      "2.143566e+07     1\n",
      "Name: in_reply_to_user_id, dtype: int64\n",
      "\n",
      "\n",
      "timestamp\n",
      "2017-08-01 16:23:56 +0000    1\n",
      "2016-01-13 02:43:46 +0000    1\n",
      "2016-01-15 02:41:12 +0000    1\n",
      "2016-01-15 02:08:05 +0000    1\n",
      "2016-01-15 01:25:33 +0000    1\n",
      "                            ..\n",
      "2016-09-11 21:34:30 +0000    1\n",
      "2016-09-10 23:54:11 +0000    1\n",
      "2016-09-10 16:03:16 +0000    1\n",
      "2016-09-09 18:31:54 +0000    1\n",
      "2015-11-15 22:32:08 +0000    1\n",
      "Name: timestamp, Length: 2356, dtype: int64\n",
      "\n",
      "\n",
      "source\n",
      "<a href=\"http://twitter.com/download/iphone\" rel=\"nofollow\">Twitter for iPhone</a>     2221\n",
      "<a href=\"http://vine.co\" rel=\"nofollow\">Vine - Make a Scene</a>                          91\n",
      "<a href=\"http://twitter.com\" rel=\"nofollow\">Twitter Web Client</a>                       33\n",
      "<a href=\"https://about.twitter.com/products/tweetdeck\" rel=\"nofollow\">TweetDeck</a>      11\n",
      "Name: source, dtype: int64\n",
      "\n",
      "\n",
      "text\n",
      "This is Phineas. He's a mystical boy. Only ever appears in the hole of a donut. 13/10 https://t.co/MgUWQ76dJU                                      1\n",
      "Army of water dogs here. None of them know where they're going. Have no real purpose. Aggressive barks. 5/10 for all https://t.co/A88x73TwMN       1\n",
      "This is Louis. He's a rollercoaster of emotions. Incalculably fluffy. 12/10 would pet firmly https://t.co/17RGvOZO9P                               1\n",
      "With great pupper comes great responsibility. 12/10 https://t.co/hK6xB042EP                                                                        1\n",
      "Meet Trooper &amp; Maya. Trooper protects Maya from bad things like dognappers and Comcast. So touching. 11/10 for both https://t.co/c98k1IoZKy    1\n",
      "                                                                                                                                                  ..\n",
      "This is Tucker. He would like a hug. 13/10 someone hug him https://t.co/wdgY9oHPrT                                                                 1\n",
      "This is Finley. She's a Beneboop Cumbersplash. 12/10 I'd do unspeakable things for Finley https://t.co/dS8SCbNF9P                                  1\n",
      "This is Sprinkles. He's trapped in light jail. 10/10 would post bail for him https://t.co/4s5Xlijogu                                               1\n",
      "I WAS SENT THE ACTUAL DOG IN THE PROFILE PIC BY HIS OWNER THIS IS SO WILD. 14/10 ULTIMATE LEGEND STATUS https://t.co/7oQ1wpfxIH                    1\n",
      "Here we have a Japanese Irish Setter. Lost eye in Vietnam (?). Big fan of relaxing on stair. 8/10 would pet https://t.co/BLDqew2Ijj                1\n",
      "Name: text, Length: 2356, dtype: int64\n",
      "\n",
      "\n",
      "retweeted_status_id\n",
      "8.874740e+17    1\n",
      "6.704450e+17    1\n",
      "6.671828e+17    1\n",
      "6.661041e+17    1\n",
      "7.717705e+17    1\n",
      "               ..\n",
      "7.950767e+17    1\n",
      "7.840579e+17    1\n",
      "8.222448e+17    1\n",
      "8.224891e+17    1\n",
      "6.675484e+17    1\n",
      "Name: retweeted_status_id, Length: 181, dtype: int64\n",
      "\n",
      "\n",
      "retweeted_status_user_id\n",
      "4.196984e+09    156\n",
      "4.296832e+09      2\n",
      "5.128045e+08      1\n",
      "7.124572e+17      1\n",
      "7.832140e+05      1\n",
      "2.804798e+08      1\n",
      "1.950368e+08      1\n",
      "1.732729e+09      1\n",
      "1.228326e+09      1\n",
      "7.992370e+07      1\n",
      "2.488557e+07      1\n",
      "4.871977e+08      1\n",
      "4.466750e+07      1\n",
      "7.266347e+08      1\n",
      "1.547674e+08      1\n",
      "1.960740e+07      1\n",
      "4.119842e+07      1\n",
      "5.970642e+08      1\n",
      "3.410211e+08      1\n",
      "7.475543e+17      1\n",
      "6.669901e+07      1\n",
      "5.870972e+07      1\n",
      "3.638908e+08      1\n",
      "7.874618e+17      1\n",
      "8.117408e+08      1\n",
      "Name: retweeted_status_user_id, dtype: int64\n",
      "\n",
      "\n",
      "retweeted_status_timestamp\n",
      "2017-07-19 00:47:34 +0000    1\n",
      "2015-11-28 03:31:48 +0000    1\n",
      "2015-11-19 03:29:07 +0000    1\n",
      "2015-11-16 04:02:55 +0000    1\n",
      "2016-09-02 18:03:10 +0000    1\n",
      "                            ..\n",
      "2016-11-06 01:33:58 +0000    1\n",
      "2016-10-06 15:49:14 +0000    1\n",
      "2017-01-20 00:50:15 +0000    1\n",
      "2017-01-20 17:00:46 +0000    1\n",
      "2015-11-20 03:41:59 +0000    1\n",
      "Name: retweeted_status_timestamp, Length: 181, dtype: int64\n",
      "\n",
      "\n",
      "expanded_urls\n",
      "https://twitter.com/dog_rates/status/667152164079423490/photo/1                                                                                                                                                                                                    2\n",
      "https://twitter.com/dog_rates/status/718631497683582976/photo/1                                                                                                                                                                                                    2\n",
      "https://twitter.com/dog_rates/status/783839966405230592/photo/1,https://twitter.com/dog_rates/status/783839966405230592/photo/1,https://twitter.com/dog_rates/status/783839966405230592/photo/1                                                                    2\n",
      "https://twitter.com/dog_rates/status/774314403806253056/photo/1,https://twitter.com/dog_rates/status/774314403806253056/photo/1,https://twitter.com/dog_rates/status/774314403806253056/photo/1,https://twitter.com/dog_rates/status/774314403806253056/photo/1    2\n",
      "https://twitter.com/dog_rates/status/781524693396357120/photo/1                                                                                                                                                                                                    2\n",
      "                                                                                                                                                                                                                                                                  ..\n",
      "https://twitter.com/dog_rates/status/763837565564780549/photo/1                                                                                                                                                                                                    1\n",
      "https://twitter.com/dog_rates/status/764259802650378240/photo/1,https://twitter.com/dog_rates/status/764259802650378240/photo/1                                                                                                                                    1\n",
      "https://twitter.com/dog_rates/status/764857477905154048/photo/1                                                                                                                                                                                                    1\n",
      "https://twitter.com/dog_rates/status/765222098633691136/photo/1                                                                                                                                                                                                    1\n",
      "https://twitter.com/dog_rates/status/666020888022790149/photo/1                                                                                                                                                                                                    1\n",
      "Name: expanded_urls, Length: 2218, dtype: int64\n",
      "\n",
      "\n",
      "rating_numerator\n",
      "12      558\n",
      "11      464\n",
      "10      461\n",
      "13      351\n",
      "9       158\n",
      "8       102\n",
      "7        55\n",
      "14       54\n",
      "5        37\n",
      "6        32\n",
      "3        19\n",
      "4        17\n",
      "2         9\n",
      "1         9\n",
      "75        2\n",
      "15        2\n",
      "420       2\n",
      "0         2\n",
      "80        1\n",
      "144       1\n",
      "17        1\n",
      "26        1\n",
      "20        1\n",
      "121       1\n",
      "143       1\n",
      "44        1\n",
      "60        1\n",
      "45        1\n",
      "50        1\n",
      "99        1\n",
      "204       1\n",
      "1776      1\n",
      "165       1\n",
      "666       1\n",
      "27        1\n",
      "182       1\n",
      "24        1\n",
      "960       1\n",
      "84        1\n",
      "88        1\n",
      "Name: rating_numerator, dtype: int64\n",
      "\n",
      "\n",
      "rating_denominator\n",
      "10     2333\n",
      "11        3\n",
      "50        3\n",
      "20        2\n",
      "80        2\n",
      "70        1\n",
      "7         1\n",
      "15        1\n",
      "150       1\n",
      "170       1\n",
      "0         1\n",
      "90        1\n",
      "40        1\n",
      "130       1\n",
      "110       1\n",
      "16        1\n",
      "120       1\n",
      "2         1\n",
      "Name: rating_denominator, dtype: int64\n",
      "\n",
      "\n",
      "name\n",
      "None          745\n",
      "a              55\n",
      "Charlie        12\n",
      "Cooper         11\n",
      "Lucy           11\n",
      "             ... \n",
      "Dex             1\n",
      "Ace             1\n",
      "Tayzie          1\n",
      "Grizzie         1\n",
      "Christoper      1\n",
      "Name: name, Length: 957, dtype: int64\n",
      "\n",
      "\n",
      "doggo\n",
      "None     2259\n",
      "doggo      97\n",
      "Name: doggo, dtype: int64\n",
      "\n",
      "\n",
      "floofer\n",
      "None       2346\n",
      "floofer      10\n",
      "Name: floofer, dtype: int64\n",
      "\n",
      "\n",
      "pupper\n",
      "None      2099\n",
      "pupper     257\n",
      "Name: pupper, dtype: int64\n",
      "\n",
      "\n",
      "puppo\n",
      "None     2326\n",
      "puppo      30\n",
      "Name: puppo, dtype: int64\n",
      "\n",
      "\n"
     ]
    },
    {
     "data": {
      "text/markdown": [
       "### wrd_image_prediction - Visual assessment"
      ],
      "text/plain": [
       "<IPython.core.display.Markdown object>"
      ]
     },
     "metadata": {},
     "output_type": "display_data"
    },
    {
     "data": {
      "text/markdown": [
       "##### A. Head from wrd_image_prediction"
      ],
      "text/plain": [
       "<IPython.core.display.Markdown object>"
      ]
     },
     "metadata": {},
     "output_type": "display_data"
    },
    {
     "name": "stdout",
     "output_type": "stream",
     "text": [
      "             tweet_id                                          jpg_url  \\\n",
      "0  666020888022790149  https://pbs.twimg.com/media/CT4udn0WwAA0aMy.jpg   \n",
      "1  666029285002620928  https://pbs.twimg.com/media/CT42GRgUYAA5iDo.jpg   \n",
      "2  666033412701032449  https://pbs.twimg.com/media/CT4521TWwAEvMyu.jpg   \n",
      "3  666044226329800704  https://pbs.twimg.com/media/CT5Dr8HUEAA-lEu.jpg   \n",
      "4  666049248165822465  https://pbs.twimg.com/media/CT5IQmsXIAAKY4A.jpg   \n",
      "\n",
      "   img_num                      p1   p1_conf  p1_dog                  p2  \\\n",
      "0        1  Welsh_springer_spaniel  0.465074    True              collie   \n",
      "1        1                 redbone  0.506826    True  miniature_pinscher   \n",
      "2        1         German_shepherd  0.596461    True            malinois   \n",
      "3        1     Rhodesian_ridgeback  0.408143    True             redbone   \n",
      "4        1      miniature_pinscher  0.560311    True          Rottweiler   \n",
      "\n",
      "    p2_conf  p2_dog                   p3   p3_conf  p3_dog  \n",
      "0  0.156665    True    Shetland_sheepdog  0.061428    True  \n",
      "1  0.074192    True  Rhodesian_ridgeback  0.072010    True  \n",
      "2  0.138584    True           bloodhound  0.116197    True  \n",
      "3  0.360687    True   miniature_pinscher  0.222752    True  \n",
      "4  0.243682    True             Doberman  0.154629    True  \n"
     ]
    },
    {
     "data": {
      "text/markdown": [
       "##### B. Tail from wrd_image_prediction"
      ],
      "text/plain": [
       "<IPython.core.display.Markdown object>"
      ]
     },
     "metadata": {},
     "output_type": "display_data"
    },
    {
     "name": "stdout",
     "output_type": "stream",
     "text": [
      "                tweet_id                                          jpg_url  \\\n",
      "2070  891327558926688256  https://pbs.twimg.com/media/DF6hr6BUMAAzZgT.jpg   \n",
      "2071  891689557279858688  https://pbs.twimg.com/media/DF_q7IAWsAEuuN8.jpg   \n",
      "2072  891815181378084864  https://pbs.twimg.com/media/DGBdLU1WsAANxJ9.jpg   \n",
      "2073  892177421306343426  https://pbs.twimg.com/media/DGGmoV4XsAAUL6n.jpg   \n",
      "2074  892420643555336193  https://pbs.twimg.com/media/DGKD1-bXoAAIAUK.jpg   \n",
      "\n",
      "      img_num           p1   p1_conf  p1_dog                  p2   p2_conf  \\\n",
      "2070        2       basset  0.555712    True    English_springer  0.225770   \n",
      "2071        1  paper_towel  0.170278   False  Labrador_retriever  0.168086   \n",
      "2072        1    Chihuahua  0.716012    True            malamute  0.078253   \n",
      "2073        1    Chihuahua  0.323581    True            Pekinese  0.090647   \n",
      "2074        1       orange  0.097049   False               bagel  0.085851   \n",
      "\n",
      "      p2_dog                           p3   p3_conf  p3_dog  \n",
      "2070    True  German_short-haired_pointer  0.175219    True  \n",
      "2071    True                      spatula  0.040836   False  \n",
      "2072    True                       kelpie  0.031379    True  \n",
      "2073    True                     papillon  0.068957    True  \n",
      "2074   False                       banana  0.076110   False  \n"
     ]
    },
    {
     "data": {
      "text/markdown": [
       "##### C. Sample of 25 rows from wrd_image_prediction"
      ],
      "text/plain": [
       "<IPython.core.display.Markdown object>"
      ]
     },
     "metadata": {},
     "output_type": "display_data"
    },
    {
     "name": "stdout",
     "output_type": "stream",
     "text": [
      "                tweet_id                                            jpg_url  \\\n",
      "374   672995267319328768    https://pbs.twimg.com/media/CVb1mRiWcAADBsE.jpg   \n",
      "36    666447344410484738    https://pbs.twimg.com/media/CT-yU5QWwAEjLX5.jpg   \n",
      "524   676603393314578432    https://pbs.twimg.com/media/CWPHMqKVAAAE78E.jpg   \n",
      "477   675166823650848770    https://pbs.twimg.com/media/CV6spB7XAAIpMyP.jpg   \n",
      "1153  732726085725589504    https://pbs.twimg.com/media/CisqdVcXEAE3iW7.jpg   \n",
      "1118  725842289046749185    https://pbs.twimg.com/media/ChK1tdBWwAQ1flD.jpg   \n",
      "1246  747594051852075008    https://pbs.twimg.com/media/Cl_80k5WkAEbo9m.jpg   \n",
      "1338  758467244762497024  https://pbs.twimg.com/ext_tw_video_thumb/75846...   \n",
      "2034  883838122936631299    https://pbs.twimg.com/media/DEQGFgAXUAAEvfi.jpg   \n",
      "1425  772193107915964416    https://pbs.twimg.com/media/Crdhh_1XEAAHKHi.jpg   \n",
      "1757  825147591692263424    https://pbs.twimg.com/media/C3ODWpfXAAAP1fb.jpg   \n",
      "1546  792394556390137856    https://pbs.twimg.com/media/Cv8moW9W8AIHOxR.jpg   \n",
      "217   670069087419133954    https://pbs.twimg.com/media/CUyQRzHWoAAhF1D.jpg   \n",
      "278   670995969505435648    https://pbs.twimg.com/media/CU_bRIEWcAAUVC7.jpg   \n",
      "1152  732585889486888962    https://pbs.twimg.com/media/Ciqq-VFUUAANlWm.jpg   \n",
      "621   680494726643068929    https://pbs.twimg.com/media/CXGaVxOWAAADjhF.jpg   \n",
      "33    666430724426358785    https://pbs.twimg.com/media/CT-jNYqW4AAPi2M.jpg   \n",
      "627   680836378243002368    https://pbs.twimg.com/media/CXLREjOW8AElfk6.jpg   \n",
      "631   680940246314430465    https://pbs.twimg.com/media/CXMvio7WQAAPZJj.jpg   \n",
      "1571  794983741416415232    https://pbs.twimg.com/media/CvT6IV6WEAQhhV5.jpg   \n",
      "1805  832273440279240704  https://pbs.twimg.com/ext_tw_video_thumb/83227...   \n",
      "1396  767884188863397888    https://pbs.twimg.com/media/CqgSl4DWcAA-x-o.jpg   \n",
      "606   679877062409191424    https://pbs.twimg.com/media/CW9olDsUsAA0XSf.jpg   \n",
      "190   669393256313184256    https://pbs.twimg.com/media/CUopnHPVEAAcL2o.jpg   \n",
      "94    667550882905632768    https://pbs.twimg.com/media/CUObvUJVEAAnYPF.jpg   \n",
      "\n",
      "      img_num                           p1   p1_conf  p1_dog  \\\n",
      "374         1               French_bulldog  0.719559    True   \n",
      "36          1       curly-coated_retriever  0.322084    True   \n",
      "524         1                      whippet  0.877021    True   \n",
      "477         1                        llama  0.284394   False   \n",
      "1153        1                   Pomeranian  0.961902    True   \n",
      "1118        1                   toy_poodle  0.420463    True   \n",
      "1246        1                      basenji  0.389136    True   \n",
      "1338        1           Labrador_retriever  0.436377    True   \n",
      "2034        1                     Doberman  0.610946    True   \n",
      "1425        1                     Pembroke  0.367945    True   \n",
      "1757        1                     Pekinese  0.354823    True   \n",
      "1546        2               cocker_spaniel  0.746387    True   \n",
      "217         1                    boathouse  0.313829   False   \n",
      "278         1                      redbone  0.866221    True   \n",
      "1152        2    Staffordshire_bullterrier  0.843359    True   \n",
      "621         1                       kuvasz  0.438627    True   \n",
      "33          1                        llama  0.505184   False   \n",
      "627         3                     Pembroke  0.427781    True   \n",
      "631         1  soft-coated_wheaten_terrier  0.289598    True   \n",
      "1571        3                   schipperke  0.363272    True   \n",
      "1805        1                     Pembroke  0.134081    True   \n",
      "1396        3                   coral_reef  0.327740   False   \n",
      "606         1                          hog  0.809466   False   \n",
      "190         1               cocker_spaniel  0.359843    True   \n",
      "94          1                     web_site  0.998258   False   \n",
      "\n",
      "                                  p2   p2_conf  p2_dog  \\\n",
      "374                            boxer  0.166927    True   \n",
      "36                   giant_schnauzer  0.287955    True   \n",
      "524                       Great_Dane  0.034182    True   \n",
      "477                  standard_poodle  0.132569    True   \n",
      "1153                         Samoyed  0.024289    True   \n",
      "1118                miniature_poodle  0.132640    True   \n",
      "1246                           dingo  0.270226   False   \n",
      "1338                       Chihuahua  0.113956    True   \n",
      "2034              miniature_pinscher  0.299603    True   \n",
      "1425                       Chihuahua  0.223522    True   \n",
      "1757                      Pomeranian  0.245390    True   \n",
      "1546                    Irish_setter  0.091615    True   \n",
      "217                        birdhouse  0.138331   False   \n",
      "278                           beagle  0.061194    True   \n",
      "1152  American_Staffordshire_terrier  0.028290    True   \n",
      "621                          Samoyed  0.111622    True   \n",
      "33                     Irish_terrier  0.104109    True   \n",
      "627                Shetland_sheepdog  0.160669    True   \n",
      "631      West_Highland_white_terrier  0.157195    True   \n",
      "1571                          kelpie  0.197021    True   \n",
      "1805                        ice_bear  0.051928   False   \n",
      "1396                           cliff  0.157182   False   \n",
      "606                              hay  0.060178   False   \n",
      "190                 Blenheim_spaniel  0.139519    True   \n",
      "94                        dishwasher  0.000201   False   \n",
      "\n",
      "                                  p3   p3_conf  p3_dog  \n",
      "374                      Boston_bull  0.101354    True  \n",
      "36                Labrador_retriever  0.166331    True  \n",
      "524                            boxer  0.028404    True  \n",
      "477                            teddy  0.127975   False  \n",
      "1153                            chow  0.005772    True  \n",
      "1118        Chesapeake_Bay_retriever  0.121523    True  \n",
      "1246                       Chihuahua  0.098939    True  \n",
      "1338  American_Staffordshire_terrier  0.099689    True  \n",
      "2034                          kelpie  0.063020    True  \n",
      "1425                        Pekinese  0.164871    True  \n",
      "1757                      toy_poodle  0.136545    True  \n",
      "1546                miniature_poodle  0.061078    True  \n",
      "217                           ashcan  0.045673   False  \n",
      "278              Rhodesian_ridgeback  0.024285    True  \n",
      "1152              miniature_pinscher  0.016793    True  \n",
      "621                   Great_Pyrenees  0.064061    True  \n",
      "33                             dingo  0.062071   False  \n",
      "627                       Pomeranian  0.111250    True  \n",
      "631                       toy_poodle  0.074435    True  \n",
      "1571              Norwegian_elkhound  0.151024    True  \n",
      "1805                             pug  0.044311    True  \n",
      "1396                        lakeside  0.048810   False  \n",
      "606                       lumbermill  0.016483   False  \n",
      "190                       toy_poodle  0.132746    True  \n",
      "94                      oscilloscope  0.000142   False  \n"
     ]
    },
    {
     "data": {
      "text/markdown": [
       "### wrd_image_prediction - Programmatic assessment"
      ],
      "text/plain": [
       "<IPython.core.display.Markdown object>"
      ]
     },
     "metadata": {},
     "output_type": "display_data"
    },
    {
     "data": {
      "text/markdown": [
       "##### D. Shape from wrd_image_prediction:"
      ],
      "text/plain": [
       "<IPython.core.display.Markdown object>"
      ]
     },
     "metadata": {},
     "output_type": "display_data"
    },
    {
     "name": "stdout",
     "output_type": "stream",
     "text": [
      "\n",
      "(2075, 12)\n"
     ]
    },
    {
     "data": {
      "text/markdown": [
       "##### E. Info from wrd_image_prediction:"
      ],
      "text/plain": [
       "<IPython.core.display.Markdown object>"
      ]
     },
     "metadata": {},
     "output_type": "display_data"
    },
    {
     "name": "stdout",
     "output_type": "stream",
     "text": [
      "\n",
      "<class 'pandas.core.frame.DataFrame'>\n",
      "RangeIndex: 2075 entries, 0 to 2074\n",
      "Data columns (total 12 columns):\n",
      " #   Column    Non-Null Count  Dtype  \n",
      "---  ------    --------------  -----  \n",
      " 0   tweet_id  2075 non-null   int64  \n",
      " 1   jpg_url   2075 non-null   object \n",
      " 2   img_num   2075 non-null   int64  \n",
      " 3   p1        2075 non-null   object \n",
      " 4   p1_conf   2075 non-null   float64\n",
      " 5   p1_dog    2075 non-null   bool   \n",
      " 6   p2        2075 non-null   object \n",
      " 7   p2_conf   2075 non-null   float64\n",
      " 8   p2_dog    2075 non-null   bool   \n",
      " 9   p3        2075 non-null   object \n",
      " 10  p3_conf   2075 non-null   float64\n",
      " 11  p3_dog    2075 non-null   bool   \n",
      "dtypes: bool(3), float64(3), int64(2), object(4)\n",
      "memory usage: 152.1+ KB\n",
      "None\n"
     ]
    },
    {
     "data": {
      "text/markdown": [
       "##### F. isnull sum from wrd_image_prediction:"
      ],
      "text/plain": [
       "<IPython.core.display.Markdown object>"
      ]
     },
     "metadata": {},
     "output_type": "display_data"
    },
    {
     "name": "stdout",
     "output_type": "stream",
     "text": [
      "\n",
      "tweet_id    0\n",
      "jpg_url     0\n",
      "img_num     0\n",
      "p1          0\n",
      "p1_conf     0\n",
      "p1_dog      0\n",
      "p2          0\n",
      "p2_conf     0\n",
      "p2_dog      0\n",
      "p3          0\n",
      "p3_conf     0\n",
      "p3_dog      0\n",
      "dtype: int64\n"
     ]
    },
    {
     "data": {
      "text/markdown": [
       "##### G. Duplicates from wrd_image_prediction:"
      ],
      "text/plain": [
       "<IPython.core.display.Markdown object>"
      ]
     },
     "metadata": {},
     "output_type": "display_data"
    },
    {
     "name": "stdout",
     "output_type": "stream",
     "text": [
      "\n",
      "0\n"
     ]
    },
    {
     "data": {
      "text/markdown": [
       "##### H. Describe from wrd_image_prediction:"
      ],
      "text/plain": [
       "<IPython.core.display.Markdown object>"
      ]
     },
     "metadata": {},
     "output_type": "display_data"
    },
    {
     "name": "stdout",
     "output_type": "stream",
     "text": [
      "\n",
      "           tweet_id      img_num      p1_conf       p2_conf       p3_conf\n",
      "count  2.075000e+03  2075.000000  2075.000000  2.075000e+03  2.075000e+03\n",
      "mean   7.384514e+17     1.203855     0.594548  1.345886e-01  6.032417e-02\n",
      "std    6.785203e+16     0.561875     0.271174  1.006657e-01  5.090593e-02\n",
      "min    6.660209e+17     1.000000     0.044333  1.011300e-08  1.740170e-10\n",
      "25%    6.764835e+17     1.000000     0.364412  5.388625e-02  1.622240e-02\n",
      "50%    7.119988e+17     1.000000     0.588230  1.181810e-01  4.944380e-02\n",
      "75%    7.932034e+17     1.000000     0.843855  1.955655e-01  9.180755e-02\n",
      "max    8.924206e+17     4.000000     1.000000  4.880140e-01  2.734190e-01\n"
     ]
    },
    {
     "data": {
      "text/markdown": [
       "##### I. Nunique from wrd_image_prediction:"
      ],
      "text/plain": [
       "<IPython.core.display.Markdown object>"
      ]
     },
     "metadata": {},
     "output_type": "display_data"
    },
    {
     "name": "stdout",
     "output_type": "stream",
     "text": [
      "\n",
      "tweet_id    2075\n",
      "jpg_url     2009\n",
      "img_num        4\n",
      "p1           378\n",
      "p1_conf     2006\n",
      "p1_dog         2\n",
      "p2           405\n",
      "p2_conf     2004\n",
      "p2_dog         2\n",
      "p3           408\n",
      "p3_conf     2006\n",
      "p3_dog         2\n",
      "dtype: int64\n"
     ]
    },
    {
     "data": {
      "text/markdown": [
       "##### J. Duplicates per column from wrd_image_prediction:"
      ],
      "text/plain": [
       "<IPython.core.display.Markdown object>"
      ]
     },
     "metadata": {},
     "output_type": "display_data"
    },
    {
     "name": "stdout",
     "output_type": "stream",
     "text": [
      "\n",
      "Sum of duplicates in tweet_id = 0(int64)\n",
      "\n",
      "Sum of duplicates in jpg_url = 66(object)\n",
      "\n",
      "Sum of duplicates in img_num = 2071(int64)\n",
      "\n",
      "Sum of duplicates in p1 = 1697(object)\n",
      "\n",
      "Sum of duplicates in p1_conf = 69(float64)\n",
      "\n",
      "Sum of duplicates in p1_dog = 2073(bool)\n",
      "\n",
      "Sum of duplicates in p2 = 1670(object)\n",
      "\n",
      "Sum of duplicates in p2_conf = 71(float64)\n",
      "\n",
      "Sum of duplicates in p2_dog = 2073(bool)\n",
      "\n",
      "Sum of duplicates in p3 = 1667(object)\n",
      "\n",
      "Sum of duplicates in p3_conf = 69(float64)\n",
      "\n",
      "Sum of duplicates in p3_dog = 2073(bool)\n"
     ]
    },
    {
     "data": {
      "text/markdown": [
       "##### K. Sorted numeric values per column in wrd_image_prediction:"
      ],
      "text/plain": [
       "<IPython.core.display.Markdown object>"
      ]
     },
     "metadata": {},
     "output_type": "display_data"
    },
    {
     "name": "stdout",
     "output_type": "stream",
     "text": [
      "\n",
      "Sorted numeric values per column in tweet_id\n",
      "[666020888022790149 666029285002620928 666033412701032449 ...\n",
      " 891815181378084864 892177421306343426 892420643555336193]\n",
      "\n",
      "Sorted numeric values per column in jpg_url\n",
      "jpg_url is not numeric\n",
      "\n",
      "Sorted numeric values per column in img_num\n",
      "[1 2 3 4]\n",
      "\n",
      "Sorted numeric values per column in p1\n",
      "p1 is not numeric\n",
      "\n",
      "Sorted numeric values per column in p1_conf\n",
      "[0.0443334 0.0553794 0.0590326 ... 0.999962  0.999984  1.       ]\n",
      "\n",
      "Sorted numeric values per column in p1_dog\n",
      "[False  True]\n",
      "\n",
      "Sorted numeric values per column in p2\n",
      "p2 is not numeric\n",
      "\n",
      "Sorted numeric values per column in p2_conf\n",
      "[1.01130e-08 1.00288e-05 1.44895e-05 ... 4.64816e-01 4.67678e-01\n",
      " 4.88014e-01]\n",
      "\n",
      "Sorted numeric values per column in p2_dog\n",
      "[False  True]\n",
      "\n",
      "Sorted numeric values per column in p3\n",
      "p3 is not numeric\n",
      "\n",
      "Sorted numeric values per column in p3_conf\n",
      "[1.74017e-10 2.16090e-07 5.59504e-07 ... 2.70673e-01 2.71042e-01\n",
      " 2.73419e-01]\n",
      "\n",
      "Sorted numeric values per column in p3_dog\n",
      "[False  True]\n"
     ]
    },
    {
     "data": {
      "text/markdown": [
       "##### L. Check which column is object type from wrd_image_prediction:"
      ],
      "text/plain": [
       "<IPython.core.display.Markdown object>"
      ]
     },
     "metadata": {},
     "output_type": "display_data"
    },
    {
     "name": "stdout",
     "output_type": "stream",
     "text": [
      "\n",
      "tweet_id is not\n",
      "\n",
      "jpg_url is object\n",
      "\n",
      "img_num is not\n",
      "\n",
      "p1 is object\n",
      "\n",
      "p1_conf is not\n",
      "\n",
      "p1_dog is not\n",
      "\n",
      "p2 is object\n",
      "\n",
      "p2_conf is not\n",
      "\n",
      "p2_dog is not\n",
      "\n",
      "p3 is object\n",
      "\n",
      "p3_conf is not\n",
      "\n",
      "p3_dog is not\n"
     ]
    },
    {
     "data": {
      "text/markdown": [
       "##### M. Count different values per column from wrd_image_prediction:"
      ],
      "text/plain": [
       "<IPython.core.display.Markdown object>"
      ]
     },
     "metadata": {},
     "output_type": "display_data"
    },
    {
     "name": "stdout",
     "output_type": "stream",
     "text": [
      "\n",
      "tweet_id\n",
      "666020888022790149    1\n",
      "761292947749015552    1\n",
      "767122157629476866    1\n",
      "766793450729734144    1\n",
      "766693177336135680    1\n",
      "                     ..\n",
      "684097758874210310    1\n",
      "683857920510050305    1\n",
      "683852578183077888    1\n",
      "683849932751646720    1\n",
      "892420643555336193    1\n",
      "Name: tweet_id, Length: 2075, dtype: int64\n",
      "\n",
      "\n",
      "jpg_url\n",
      "https://pbs.twimg.com/media/CZhn-QAWwAASQan.jpg                                            2\n",
      "https://pbs.twimg.com/media/Cq9guJ5WgAADfpF.jpg                                            2\n",
      "https://pbs.twimg.com/ext_tw_video_thumb/807106774843039744/pu/img/8XZg1xW35Xp2J6JW.jpg    2\n",
      "https://pbs.twimg.com/media/CU1zsMSUAAAS0qW.jpg                                            2\n",
      "https://pbs.twimg.com/media/CsrjryzWgAAZY00.jpg                                            2\n",
      "                                                                                          ..\n",
      "https://pbs.twimg.com/media/CXrmMSpUwAAdeRj.jpg                                            1\n",
      "https://pbs.twimg.com/media/CXrawAhWkAAWSxC.jpg                                            1\n",
      "https://pbs.twimg.com/media/CXrIntsUsAEkv0d.jpg                                            1\n",
      "https://pbs.twimg.com/media/CXqcOHCUQAAugTB.jpg                                            1\n",
      "https://pbs.twimg.com/media/DGKD1-bXoAAIAUK.jpg                                            1\n",
      "Name: jpg_url, Length: 2009, dtype: int64\n",
      "\n",
      "\n",
      "img_num\n",
      "1    1780\n",
      "2     198\n",
      "3      66\n",
      "4      31\n",
      "Name: img_num, dtype: int64\n",
      "\n",
      "\n",
      "p1\n",
      "golden_retriever      150\n",
      "Labrador_retriever    100\n",
      "Pembroke               89\n",
      "Chihuahua              83\n",
      "pug                    57\n",
      "                     ... \n",
      "pillow                  1\n",
      "carousel                1\n",
      "bald_eagle              1\n",
      "lorikeet                1\n",
      "orange                  1\n",
      "Name: p1, Length: 378, dtype: int64\n",
      "\n",
      "\n",
      "p1_conf\n",
      "0.721188    2\n",
      "0.676439    2\n",
      "0.505370    2\n",
      "0.777468    2\n",
      "0.254856    2\n",
      "           ..\n",
      "0.141432    1\n",
      "0.722218    1\n",
      "0.278600    1\n",
      "0.375610    1\n",
      "0.097049    1\n",
      "Name: p1_conf, Length: 2006, dtype: int64\n",
      "\n",
      "\n",
      "p1_dog\n",
      "True     1532\n",
      "False     543\n",
      "Name: p1_dog, dtype: int64\n",
      "\n",
      "\n",
      "p2\n",
      "Labrador_retriever    104\n",
      "golden_retriever       92\n",
      "Cardigan               73\n",
      "Chihuahua              44\n",
      "Pomeranian             42\n",
      "                     ... \n",
      "medicine_chest          1\n",
      "quail                   1\n",
      "horse_cart              1\n",
      "waffle_iron             1\n",
      "bagel                   1\n",
      "Name: p2, Length: 405, dtype: int64\n",
      "\n",
      "\n",
      "p2_conf\n",
      "0.069362    3\n",
      "0.001186    2\n",
      "0.181351    2\n",
      "0.016641    2\n",
      "0.112943    2\n",
      "           ..\n",
      "0.053008    1\n",
      "0.094044    1\n",
      "0.193804    1\n",
      "0.155207    1\n",
      "0.085851    1\n",
      "Name: p2_conf, Length: 2004, dtype: int64\n",
      "\n",
      "\n",
      "p2_dog\n",
      "True     1553\n",
      "False     522\n",
      "Name: p2_dog, dtype: int64\n",
      "\n",
      "\n",
      "p3\n",
      "Labrador_retriever    79\n",
      "Chihuahua             58\n",
      "golden_retriever      48\n",
      "Eskimo_dog            38\n",
      "kelpie                35\n",
      "                      ..\n",
      "ox                     1\n",
      "assault_rifle          1\n",
      "axolotl                1\n",
      "pot                    1\n",
      "banana                 1\n",
      "Name: p3, Length: 408, dtype: int64\n",
      "\n",
      "\n",
      "p3_conf\n",
      "0.023353    2\n",
      "0.046403    2\n",
      "0.077008    2\n",
      "0.017492    2\n",
      "0.223263    2\n",
      "           ..\n",
      "0.037881    1\n",
      "0.085237    1\n",
      "0.055194    1\n",
      "0.153598    1\n",
      "0.076110    1\n",
      "Name: p3_conf, Length: 2006, dtype: int64\n",
      "\n",
      "\n",
      "p3_dog\n",
      "True     1499\n",
      "False     576\n",
      "Name: p3_dog, dtype: int64\n",
      "\n",
      "\n"
     ]
    },
    {
     "data": {
      "text/markdown": [
       "### wrd_archive_add - Visual assessment"
      ],
      "text/plain": [
       "<IPython.core.display.Markdown object>"
      ]
     },
     "metadata": {},
     "output_type": "display_data"
    },
    {
     "data": {
      "text/markdown": [
       "##### A. Head from wrd_archive_add"
      ],
      "text/plain": [
       "<IPython.core.display.Markdown object>"
      ]
     },
     "metadata": {},
     "output_type": "display_data"
    },
    {
     "name": "stdout",
     "output_type": "stream",
     "text": [
      "             tweet_id  retweet_count  favorite_count\n",
      "0  892420643555336193           6975           33711\n",
      "1  892177421306343426           5276           29231\n",
      "2  891815181378084864           3465           21982\n",
      "3  891689557279858688           7196           36804\n",
      "4  891327558926688256           7721           35192\n"
     ]
    },
    {
     "data": {
      "text/markdown": [
       "##### B. Tail from wrd_archive_add"
      ],
      "text/plain": [
       "<IPython.core.display.Markdown object>"
      ]
     },
     "metadata": {},
     "output_type": "display_data"
    },
    {
     "name": "stdout",
     "output_type": "stream",
     "text": [
      "                tweet_id  retweet_count  favorite_count\n",
      "2322  666049248165822465             36              88\n",
      "2323  666044226329800704            115             246\n",
      "2324  666033412701032449             36             100\n",
      "2325  666029285002620928             39             112\n",
      "2326  666020888022790149            420            2285\n"
     ]
    },
    {
     "data": {
      "text/markdown": [
       "##### C. Sample of 25 rows from wrd_archive_add"
      ],
      "text/plain": [
       "<IPython.core.display.Markdown object>"
      ]
     },
     "metadata": {},
     "output_type": "display_data"
    },
    {
     "name": "stdout",
     "output_type": "stream",
     "text": [
      "                tweet_id  retweet_count  favorite_count\n",
      "1603  684481074559381504           1069            3559\n",
      "2263  667160273090932737             50             219\n",
      "1412  696886256886657024           1626            4441\n",
      "1022  743210557239623680           1232            3551\n",
      "2310  666102155909144576             11              66\n",
      "492   811985624773361665           1304            6893\n",
      "2197  668274247790391296            196             718\n",
      "2222  667806454573760512            416             926\n",
      "266   839549326359670784           7057           25521\n",
      "978   747648653817413632           5305           11932\n",
      "371   826476773533745153           3885           17330\n",
      "1406  697270446429966336           1712            4340\n",
      "737   778408200802557953           3994           12830\n",
      "1541  687807801670897665            657            2197\n",
      "1448  693629975228977152            719            2257\n",
      "250   842163532590374912           5249           22687\n",
      "915   752701944171524096           2609               0\n",
      "1585  685315239903100929            944            3025\n",
      "387   823939628516474880           2523           10039\n",
      "1159  718460005985447936            474            2501\n",
      "834   763183847194451968           1352            5045\n",
      "211   849668094696017920           4435               0\n",
      "1708  679530280114372609           1878            4361\n",
      "895   756275833623502848           1402            5962\n",
      "574   798705661114773508           6187               0\n"
     ]
    },
    {
     "data": {
      "text/markdown": [
       "### wrd_archive_add - Programmatic assessment"
      ],
      "text/plain": [
       "<IPython.core.display.Markdown object>"
      ]
     },
     "metadata": {},
     "output_type": "display_data"
    },
    {
     "data": {
      "text/markdown": [
       "##### D. Shape from wrd_archive_add:"
      ],
      "text/plain": [
       "<IPython.core.display.Markdown object>"
      ]
     },
     "metadata": {},
     "output_type": "display_data"
    },
    {
     "name": "stdout",
     "output_type": "stream",
     "text": [
      "\n",
      "(2327, 3)\n"
     ]
    },
    {
     "data": {
      "text/markdown": [
       "##### E. Info from wrd_archive_add:"
      ],
      "text/plain": [
       "<IPython.core.display.Markdown object>"
      ]
     },
     "metadata": {},
     "output_type": "display_data"
    },
    {
     "name": "stdout",
     "output_type": "stream",
     "text": [
      "\n",
      "<class 'pandas.core.frame.DataFrame'>\n",
      "RangeIndex: 2327 entries, 0 to 2326\n",
      "Data columns (total 3 columns):\n",
      " #   Column          Non-Null Count  Dtype\n",
      "---  ------          --------------  -----\n",
      " 0   tweet_id        2327 non-null   int64\n",
      " 1   retweet_count   2327 non-null   int64\n",
      " 2   favorite_count  2327 non-null   int64\n",
      "dtypes: int64(3)\n",
      "memory usage: 54.7 KB\n",
      "None\n"
     ]
    },
    {
     "data": {
      "text/markdown": [
       "##### F. isnull sum from wrd_archive_add:"
      ],
      "text/plain": [
       "<IPython.core.display.Markdown object>"
      ]
     },
     "metadata": {},
     "output_type": "display_data"
    },
    {
     "name": "stdout",
     "output_type": "stream",
     "text": [
      "\n",
      "tweet_id          0\n",
      "retweet_count     0\n",
      "favorite_count    0\n",
      "dtype: int64\n"
     ]
    },
    {
     "data": {
      "text/markdown": [
       "##### G. Duplicates from wrd_archive_add:"
      ],
      "text/plain": [
       "<IPython.core.display.Markdown object>"
      ]
     },
     "metadata": {},
     "output_type": "display_data"
    },
    {
     "name": "stdout",
     "output_type": "stream",
     "text": [
      "\n",
      "0\n"
     ]
    },
    {
     "data": {
      "text/markdown": [
       "##### H. Describe from wrd_archive_add:"
      ],
      "text/plain": [
       "<IPython.core.display.Markdown object>"
      ]
     },
     "metadata": {},
     "output_type": "display_data"
    },
    {
     "name": "stdout",
     "output_type": "stream",
     "text": [
      "\n",
      "           tweet_id  retweet_count  favorite_count\n",
      "count  2.327000e+03    2327.000000     2327.000000\n",
      "mean   7.417930e+17    2459.823378     7029.201117\n",
      "std    6.820795e+16    4165.838143    10923.364445\n",
      "min    6.660209e+17       1.000000        0.000000\n",
      "25%    6.781394e+17     492.500000     1220.500000\n",
      "50%    7.178418e+17    1144.000000     3040.000000\n",
      "75%    7.986547e+17    2845.000000     8568.000000\n",
      "max    8.924206e+17   70366.000000   144304.000000\n"
     ]
    },
    {
     "data": {
      "text/markdown": [
       "##### I. Nunique from wrd_archive_add:"
      ],
      "text/plain": [
       "<IPython.core.display.Markdown object>"
      ]
     },
     "metadata": {},
     "output_type": "display_data"
    },
    {
     "name": "stdout",
     "output_type": "stream",
     "text": [
      "\n",
      "tweet_id          2327\n",
      "retweet_count     1633\n",
      "favorite_count    1971\n",
      "dtype: int64\n"
     ]
    },
    {
     "data": {
      "text/markdown": [
       "##### J. Duplicates per column from wrd_archive_add:"
      ],
      "text/plain": [
       "<IPython.core.display.Markdown object>"
      ]
     },
     "metadata": {},
     "output_type": "display_data"
    },
    {
     "name": "stdout",
     "output_type": "stream",
     "text": [
      "\n",
      "Sum of duplicates in tweet_id = 0(int64)\n",
      "\n",
      "Sum of duplicates in retweet_count = 694(int64)\n",
      "\n",
      "Sum of duplicates in favorite_count = 356(int64)\n"
     ]
    },
    {
     "data": {
      "text/markdown": [
       "##### K. Sorted numeric values per column in wrd_archive_add:"
      ],
      "text/plain": [
       "<IPython.core.display.Markdown object>"
      ]
     },
     "metadata": {},
     "output_type": "display_data"
    },
    {
     "name": "stdout",
     "output_type": "stream",
     "text": [
      "\n",
      "Sorted numeric values per column in tweet_id\n",
      "[666020888022790149 666029285002620928 666033412701032449 ...\n",
      " 891815181378084864 892177421306343426 892420643555336193]\n",
      "\n",
      "Sorted numeric values per column in retweet_count\n",
      "[    1     2     3 ... 51452 52659 70366]\n",
      "\n",
      "Sorted numeric values per column in favorite_count\n",
      "[     0     45     59 ... 111241 123716 144304]\n"
     ]
    },
    {
     "data": {
      "text/markdown": [
       "##### L. Check which column is object type from wrd_archive_add:"
      ],
      "text/plain": [
       "<IPython.core.display.Markdown object>"
      ]
     },
     "metadata": {},
     "output_type": "display_data"
    },
    {
     "name": "stdout",
     "output_type": "stream",
     "text": [
      "\n",
      "tweet_id is not\n",
      "\n",
      "retweet_count is not\n",
      "\n",
      "favorite_count is not\n"
     ]
    },
    {
     "data": {
      "text/markdown": [
       "##### M. Count different values per column from wrd_archive_add:"
      ],
      "text/plain": [
       "<IPython.core.display.Markdown object>"
      ]
     },
     "metadata": {},
     "output_type": "display_data"
    },
    {
     "name": "stdout",
     "output_type": "stream",
     "text": [
      "\n",
      "tweet_id\n",
      "892420643555336193    1\n",
      "688828561667567616    1\n",
      "687460506001633280    1\n",
      "687399393394311168    1\n",
      "687317306314240000    1\n",
      "                     ..\n",
      "772877495989305348    1\n",
      "772826264096874500    1\n",
      "772615324260794368    1\n",
      "772581559778025472    1\n",
      "666020888022790149    1\n",
      "Name: tweet_id, Length: 2327, dtype: int64\n",
      "\n",
      "\n",
      "retweet_count\n",
      "819     5\n",
      "521     5\n",
      "406     5\n",
      "50      5\n",
      "669     5\n",
      "       ..\n",
      "3614    1\n",
      "2707    1\n",
      "4261    1\n",
      "2328    1\n",
      "420     1\n",
      "Name: retweet_count, Length: 1633, dtype: int64\n",
      "\n",
      "\n",
      "favorite_count\n",
      "0        160\n",
      "1148       4\n",
      "371        4\n",
      "1275       3\n",
      "657        3\n",
      "        ... \n",
      "4724       1\n",
      "3919       1\n",
      "13356      1\n",
      "5070       1\n",
      "2285       1\n",
      "Name: favorite_count, Length: 1971, dtype: int64\n",
      "\n",
      "\n"
     ]
    }
   ],
   "source": [
    "dfs = {'wrd_archive' : wrd_archive,\n",
    "       'wrd_image_prediction' : wrd_image_prediction,\n",
    "       'wrd_archive_add':wrd_archive_add\n",
    "      }\n",
    "print('__________________________')\n",
    "\n",
    "for k, v in dfs.items():\n",
    "    display(Markdown(f'### {k} - Visual assessment'))\n",
    "    visual(v, k)\n",
    "    display(Markdown(f'### {k} - Programmatic assessment'))\n",
    "    programmatic(v, k)\n",
    "    print ('')"
   ]
  },
  {
   "cell_type": "code",
   "execution_count": 13,
   "metadata": {},
   "outputs": [
    {
     "ename": "NameError",
     "evalue": "name 'num' is not defined",
     "output_type": "error",
     "traceback": [
      "\u001b[0;31m---------------------------------------------------------------------------\u001b[0m",
      "\u001b[0;31mNameError\u001b[0m                                 Traceback (most recent call last)",
      "Cell \u001b[0;32mIn [13], line 1\u001b[0m\n\u001b[0;32m----> 1\u001b[0m \u001b[43mnum\u001b[49m\n",
      "\u001b[0;31mNameError\u001b[0m: name 'num' is not defined"
     ]
    }
   ],
   "source": [
    "num"
   ]
  },
  {
   "cell_type": "markdown",
   "metadata": {},
   "source": [
    "[top](#Tableofcontents)"
   ]
  },
  {
   "cell_type": "markdown",
   "metadata": {},
   "source": [
    "### Table overview <a class=\"anchor\" id=\"Tableoverview\"></a>\n",
    " - **wrd_archive - contains twitter archive data of WeRateDogs**\n",
    " - **wrd_image_prediction - contains twitter api data (retweets and likes) of WeRateDogs**\n",
    " - **wrd_archive_add - contains tweet image prediction data**\n",
    "---\n",
    "#### What should the type and possible values of the columns be\n",
    "##### wrd_archive\n",
    "|Column|actual type|target type | possible values|\n",
    "|----------------------------|-------|----------|-------|\n",
    "| tweet_id                   |  int64 | string | 1 != empty  |\n",
    "| in_reply_to_status_id      |  float64 | int64 |   |\n",
    "| in_reply_to_user_id        |  float64 | int64 |   |\n",
    "| timestamp                  |  object | Timestamp |   |\n",
    "| source                     |  object | string |   |\n",
    "| text                       |  object | string |   |\n",
    "| retweeted_status_id        | float64  | int64 |   |\n",
    "| retweeted_status_user_id   | float64  | int64 |   |\n",
    "| retweeted_status_timestamp | object  | int64 |   |\n",
    "| expanded_urls              |  object | string |   |\n",
    "| rating_numerator           | int64  | int64 |   |\n",
    "| rating_denominator         |  int64 | int64 |   |\n",
    "| name                       | object  | string |   |\n",
    "| doggo                      |  object | string |   |\n",
    "| floofer                    | object  | string |   |\n",
    "| pupper                     | object  | string |   |\n",
    "| puppo                      | object  | string |    |\n",
    "\n",
    "##### wrd_image_prediction\n",
    "|Column|actual type|target type | possible values|\n",
    "|----------|-----------------------|---|---| \n",
    "| tweet_id  |int64 | string  |   |\n",
    "| jpg_url  |object | string  |   |\n",
    "| img_num  | int64| int64   |   |\n",
    "| p1       |object | string  |   |\n",
    "| p1_conf  | float64| float64 |   |\n",
    "| p1_dog   |bool | bool    |   |\n",
    "| p2       | object| string  |   |\n",
    "| p2_conf  | float64| float64 |   |\n",
    "| p2_dog   | bool| bool    |   |\n",
    "| p3       |object | string  |   |\n",
    "| p3_conf  |float64 | float64 |   |\n",
    "| p3_dog   | bool| bool    |   |\n",
    "\n",
    "##### wrd_archive_add\n",
    "|Column|actual type|target type | possible values|\n",
    "|----------|-----------------------|---|---| \n",
    "| tweet_id  | int64 | string  |   |\n",
    "| retweet_count  | int64 | int64   |   |\n",
    "| favorite_count | int64 | int64  |   |"
   ]
  },
  {
   "cell_type": "markdown",
   "metadata": {},
   "source": [
    "### All found issues <a class=\"anchor\" id=\"Allfoundissues\"></a>"
   ]
  },
  {
   "cell_type": "markdown",
   "metadata": {},
   "source": [
    "| **Issue ID** | **Issue Type** | **Method** | **Dimension** | **Table** | **Column** | **Description** |\n",
    "|---|---|---|---|---|---|---|\n",
    "| 1 | Q | P | Completeness | wrd_archive | in_reply_to_status_id<br>in_reply_to_user_id | Observations for Uninterested reply columns present(78). |\n",
    "| 2 | Q | P | Completeness | wrd_archive | retweeted_status_timestamp<br>retweeted_status_id<br>retweeted_status_user_id | Observations for Uninterested retweet columns present(181). |\n",
    "| 3 | Q | V | Completeness | wrd_archive | in_reply_to_status_id<br>in_reply_to_user_id<br>retweeted_status_timestamp<br>retweeted_status_id<br>retweeted_status_user_id | Unnecessary columns |\n",
    "| 4 | Q | P | Validity | wrd_archive<br>wrd_image_prediction<br>wrd_archive_add | tweet_id | Type *int64* instead of *string* |\n",
    "| 5 | Q | P | Validity | wrd_archive | timestamp<br>retweeted_status_timestamp | Type *object* instead of *timestamp* |\n",
    "| 6 | Q | V | Accuracy | wrd_archive | rating_numerator | Inaccurate values |\n",
    "| 7 | Q | V | Accuracy | wrd_archive | rating_denominator | Inaccurate values != 10 |\n",
    "| 8 | Q | V | Consistency | wrd_archive | rating_numerator<br>rating_denominator | Inconsistent rating |\n",
    "| 9 | Q | P | Consistency | wrd_archive | expanded_urls | Sometimes more than one value |\n",
    "| 10 | Q | V | Validity | wrd_archive | name | Invalid names or non-names |\n",
    "| 11 | Q | P | Consistency | wrd_archive | text | ‘&’ and ‘\\n’ in (sub)strings |\n",
    "| 12 | Q | V | Consistency | wrd_archive | doggo<br>floofer<br>pupper<br>puppo | Categorical variables represented as separate column. |\n",
    "| 13 | Q | V | Validity | wrd_image_prediction | p1_conf, p2_conf, p3_conf | Drop the rows with FALSE in all these columns |\n",
    "| 14 | Q | V | Consistency | wrd_image_prediction | p1<br>p2<br>p3 | One Prediction data with TRUE and higher confidence is enough among the top three predictions. |\n",
    "| 15 | T | P | - | wrd_archive | source | Multiple data values in one column (HTML tags URL and content) |\n",
    "| 16 | T | P | - | wrd_archive | text | Multiple data values in one column (Text and URL) |\n",
    "| 17 | T | P | - | wrd_archive<br>wrd_image_prediction<br>wrd_archive_add | tweet_id | Duplicate column in three DataFrame |\n",
    "| 18 | T | V | - | wrd_image_prediction | p1, p1_dog, p1_conf<br>p2, p2_dog, p2_conf<br>p3, p3_dog, p3_conf | For quality I will create two new columns for image prediction and confidence level. After I will drop p1, p2, p3, p1_conf, p2_conf, p3_conf, p1_dog, p2_conf and p3_conf |\n",
    "| 19 | Q | V | Consistency | wrd_image_prediction | p1<br>p2<br>p3 | Replace '_' with space in breed and Replace '-' with space/no space for breeds wherever needed based on actual name browsing |\n",
    "| 20 | T | V | - | wrd_image_prediction | breed | Capitalize the breed strings |"
   ]
  },
  {
   "cell_type": "markdown",
   "metadata": {},
   "source": [
    "### Quality issues <a class=\"anchor\" id=\"Qualityissues\"></a>\n",
    "\n",
    "I choose the issues 1,2,3,4,5,6,7 and 12"
   ]
  },
  {
   "cell_type": "markdown",
   "metadata": {},
   "source": [
    "[top](#Tableofcontents)"
   ]
  },
  {
   "cell_type": "markdown",
   "metadata": {
    "extensions": {
     "jupyter_dashboards": {
      "version": 1,
      "views": {
       "grid_default": {
        "col": 0,
        "height": 7,
        "hidden": false,
        "row": 40,
        "width": 12
       },
       "report_default": {
        "hidden": false
       }
      }
     }
    }
   },
   "source": [
    "### Tidiness issues <a class=\"anchor\" id=\"Tidinessissues\"></a>\n",
    "\n",
    "I choose the issues 15, 16 and 18"
   ]
  },
  {
   "cell_type": "markdown",
   "metadata": {},
   "source": [
    "[top](#Tableofcontents)"
   ]
  },
  {
   "cell_type": "markdown",
   "metadata": {
    "extensions": {
     "jupyter_dashboards": {
      "version": 1,
      "views": {
       "grid_default": {
        "col": 4,
        "height": 4,
        "hidden": false,
        "row": 32,
        "width": 4
       },
       "report_default": {
        "hidden": false
       }
      }
     }
    }
   },
   "source": [
    "## Cleaning Data <a class=\"anchor\" id=\"CleaningData\"></a>\n",
    "In this section, clean **all** of the issues you documented while assessing. \n",
    "\n",
    "**Note:** Make a copy of the original data before cleaning. Cleaning includes merging individual pieces of data according to the rules of [tidy data](https://cran.r-project.org/web/packages/tidyr/vignettes/tidy-data.html). The result should be a high-quality and tidy master pandas DataFrame (or DataFrames, if appropriate)."
   ]
  },
  {
   "cell_type": "markdown",
   "metadata": {},
   "source": [
    "[top](#Tableofcontents)"
   ]
  },
  {
   "cell_type": "code",
   "execution_count": 32,
   "metadata": {},
   "outputs": [],
   "source": [
    "# Make copies of original pieces of data\n",
    "wrd_archive_clean = wrd_archive.copy()\n",
    "wrd_image_prediction_clean = wrd_image_prediction.copy()\n",
    "wrd_archive_add_clean = wrd_archive_add.copy()"
   ]
  },
  {
   "cell_type": "markdown",
   "metadata": {},
   "source": [
    "### Issue 1-Q"
   ]
  },
  {
   "cell_type": "markdown",
   "metadata": {},
   "source": [
    "#### Define\n",
    "**wrd_archive_clean/in_reply_to_status_id, in_reply_to_user_id**\tNot necessary observations of uninterested reply columns present. I will drop the rows with input in these columns."
   ]
  },
  {
   "cell_type": "markdown",
   "metadata": {},
   "source": [
    "#### Code"
   ]
  },
  {
   "cell_type": "code",
   "execution_count": 33,
   "metadata": {},
   "outputs": [
    {
     "name": "stdout",
     "output_type": "stream",
     "text": [
      "78\n",
      "78\n"
     ]
    }
   ],
   "source": [
    "# After counting the affected rows I will delete them within the 'Test' block bellow\n",
    "print(len(wrd_archive_clean.query('in_reply_to_status_id != \"NaN\"')))\n",
    "print(len(wrd_archive_clean.query('in_reply_to_user_id != \"NaN\"')))"
   ]
  },
  {
   "cell_type": "markdown",
   "metadata": {},
   "source": [
    "#### Test"
   ]
  },
  {
   "cell_type": "code",
   "execution_count": 34,
   "metadata": {},
   "outputs": [
    {
     "name": "stdout",
     "output_type": "stream",
     "text": [
      "(2356, 17)\n",
      "(2278, 17)\n"
     ]
    }
   ],
   "source": [
    "print(wrd_archive_clean.shape)\n",
    "wrd_archive_clean = wrd_archive_clean[~wrd_archive_clean['in_reply_to_status_id'].notna()]\n",
    "print(wrd_archive_clean.shape)"
   ]
  },
  {
   "cell_type": "markdown",
   "metadata": {},
   "source": [
    "### Issue 2-Q"
   ]
  },
  {
   "cell_type": "markdown",
   "metadata": {},
   "source": [
    "#### Define\n",
    "**wrd_archive_clean/retweeted_status_timestamp, retweeted_status_id, retweeted_status_user_id**\n",
    "\n",
    "Not necessary observations of uninterested retweet columns present.\n",
    "I will drop the rows with input in these columns.\n",
    "I am facing a problem here with counting the NaN in column 'retweeted_status_timestamp', so I let it."
   ]
  },
  {
   "cell_type": "markdown",
   "metadata": {},
   "source": [
    "#### Code"
   ]
  },
  {
   "cell_type": "code",
   "execution_count": 35,
   "metadata": {},
   "outputs": [
    {
     "name": "stdout",
     "output_type": "stream",
     "text": [
      "181\n",
      "181\n"
     ]
    }
   ],
   "source": [
    "# After counting the affected rows I will delete them within the 'Test' block bellow\n",
    "print(len(wrd_archive_clean[~wrd_archive_clean['retweeted_status_id'].isnull()]))\n",
    "print(len(wrd_archive_clean[~wrd_archive_clean['retweeted_status_user_id'].isnull()]))\n"
   ]
  },
  {
   "cell_type": "markdown",
   "metadata": {},
   "source": [
    "#### Test"
   ]
  },
  {
   "cell_type": "code",
   "execution_count": 36,
   "metadata": {},
   "outputs": [
    {
     "name": "stdout",
     "output_type": "stream",
     "text": [
      "(2278, 17)\n",
      "(2097, 17)\n"
     ]
    }
   ],
   "source": [
    "print(wrd_archive_clean.shape)\n",
    "wrd_archive_clean = wrd_archive_clean[wrd_archive_clean['retweeted_status_id'].isnull()]\n",
    "wrd_archive_clean = wrd_archive_clean[wrd_archive_clean['retweeted_status_user_id'].isnull()]\n",
    "print(wrd_archive_clean.shape)"
   ]
  },
  {
   "cell_type": "markdown",
   "metadata": {},
   "source": [
    "### Issue 3-Q"
   ]
  },
  {
   "cell_type": "markdown",
   "metadata": {},
   "source": [
    "#### Define\n",
    "**wrd_archive_clean/in_reply_to_status_id, in_reply_to_user_id, retweeted_status_timestamp, retweeted_status_id, retweeted_status_user_id**\n",
    "\n",
    "Unnecessary columns.\n",
    "\n",
    "I will drop these columns"
   ]
  },
  {
   "cell_type": "markdown",
   "metadata": {},
   "source": [
    "#### Code"
   ]
  },
  {
   "cell_type": "code",
   "execution_count": 37,
   "metadata": {},
   "outputs": [
    {
     "name": "stdout",
     "output_type": "stream",
     "text": [
      "(2097, 17)\n"
     ]
    }
   ],
   "source": [
    "print(wrd_archive_clean.shape)\n",
    "wrd_archive_clean.drop(['in_reply_to_status_id',\n",
    "                        'in_reply_to_user_id',\n",
    "                        'retweeted_status_timestamp',\n",
    "                        'retweeted_status_id',\n",
    "                        'retweeted_status_user_id'\n",
    "                        ], axis=1, inplace=True)"
   ]
  },
  {
   "cell_type": "markdown",
   "metadata": {},
   "source": [
    "#### Test"
   ]
  },
  {
   "cell_type": "code",
   "execution_count": 38,
   "metadata": {},
   "outputs": [
    {
     "name": "stdout",
     "output_type": "stream",
     "text": [
      "(2097, 12) \n",
      "\n",
      "<class 'pandas.core.frame.DataFrame'>\n",
      "Int64Index: 2097 entries, 0 to 2355\n",
      "Data columns (total 12 columns):\n",
      "tweet_id              2097 non-null int64\n",
      "timestamp             2097 non-null object\n",
      "source                2097 non-null object\n",
      "text                  2097 non-null object\n",
      "expanded_urls         2094 non-null object\n",
      "rating_numerator      2097 non-null int64\n",
      "rating_denominator    2097 non-null int64\n",
      "name                  2097 non-null object\n",
      "doggo                 2097 non-null object\n",
      "floofer               2097 non-null object\n",
      "pupper                2097 non-null object\n",
      "puppo                 2097 non-null object\n",
      "dtypes: int64(3), object(9)\n",
      "memory usage: 213.0+ KB\n",
      "None\n"
     ]
    }
   ],
   "source": [
    "print(wrd_archive_clean.shape, \"\\n\")\n",
    "print(wrd_archive_clean.info())"
   ]
  },
  {
   "cell_type": "markdown",
   "metadata": {},
   "source": [
    "### Issue 4-Q"
   ]
  },
  {
   "cell_type": "markdown",
   "metadata": {},
   "source": [
    "#### Define\n",
    "**wrd_archive, wrd_image_prediction, wrd_archive_add/tweet_id**\tType int64 instead of string\n",
    "I will change the type of the columns to string."
   ]
  },
  {
   "cell_type": "markdown",
   "metadata": {},
   "source": [
    "#### Code"
   ]
  },
  {
   "cell_type": "code",
   "execution_count": 39,
   "metadata": {},
   "outputs": [],
   "source": [
    "wrd_archive_clean.tweet_id = wrd_archive_clean.tweet_id.astype(str)\n",
    "wrd_image_prediction_clean.tweet_id = wrd_image_prediction_clean.tweet_id.astype(str)\n",
    "wrd_archive_add_clean.tweet_id = wrd_archive_add_clean.tweet_id.astype(str)"
   ]
  },
  {
   "cell_type": "markdown",
   "metadata": {},
   "source": [
    "#### Test"
   ]
  },
  {
   "cell_type": "code",
   "execution_count": 40,
   "metadata": {},
   "outputs": [
    {
     "name": "stdout",
     "output_type": "stream",
     "text": [
      "0       <class 'str'>\n",
      "1       <class 'str'>\n",
      "2       <class 'str'>\n",
      "3       <class 'str'>\n",
      "4       <class 'str'>\n",
      "5       <class 'str'>\n",
      "6       <class 'str'>\n",
      "7       <class 'str'>\n",
      "8       <class 'str'>\n",
      "9       <class 'str'>\n",
      "10      <class 'str'>\n",
      "11      <class 'str'>\n",
      "12      <class 'str'>\n",
      "13      <class 'str'>\n",
      "14      <class 'str'>\n",
      "15      <class 'str'>\n",
      "16      <class 'str'>\n",
      "17      <class 'str'>\n",
      "18      <class 'str'>\n",
      "20      <class 'str'>\n",
      "21      <class 'str'>\n",
      "22      <class 'str'>\n",
      "23      <class 'str'>\n",
      "24      <class 'str'>\n",
      "25      <class 'str'>\n",
      "26      <class 'str'>\n",
      "27      <class 'str'>\n",
      "28      <class 'str'>\n",
      "29      <class 'str'>\n",
      "31      <class 'str'>\n",
      "            ...      \n",
      "2326    <class 'str'>\n",
      "2327    <class 'str'>\n",
      "2328    <class 'str'>\n",
      "2329    <class 'str'>\n",
      "2330    <class 'str'>\n",
      "2331    <class 'str'>\n",
      "2332    <class 'str'>\n",
      "2333    <class 'str'>\n",
      "2334    <class 'str'>\n",
      "2335    <class 'str'>\n",
      "2336    <class 'str'>\n",
      "2337    <class 'str'>\n",
      "2338    <class 'str'>\n",
      "2339    <class 'str'>\n",
      "2340    <class 'str'>\n",
      "2341    <class 'str'>\n",
      "2342    <class 'str'>\n",
      "2343    <class 'str'>\n",
      "2344    <class 'str'>\n",
      "2345    <class 'str'>\n",
      "2346    <class 'str'>\n",
      "2347    <class 'str'>\n",
      "2348    <class 'str'>\n",
      "2349    <class 'str'>\n",
      "2350    <class 'str'>\n",
      "2351    <class 'str'>\n",
      "2352    <class 'str'>\n",
      "2353    <class 'str'>\n",
      "2354    <class 'str'>\n",
      "2355    <class 'str'>\n",
      "Name: tweet_id, Length: 2097, dtype: object \n",
      "\n",
      "0       <class 'str'>\n",
      "1       <class 'str'>\n",
      "2       <class 'str'>\n",
      "3       <class 'str'>\n",
      "4       <class 'str'>\n",
      "5       <class 'str'>\n",
      "6       <class 'str'>\n",
      "7       <class 'str'>\n",
      "8       <class 'str'>\n",
      "9       <class 'str'>\n",
      "10      <class 'str'>\n",
      "11      <class 'str'>\n",
      "12      <class 'str'>\n",
      "13      <class 'str'>\n",
      "14      <class 'str'>\n",
      "15      <class 'str'>\n",
      "16      <class 'str'>\n",
      "17      <class 'str'>\n",
      "18      <class 'str'>\n",
      "19      <class 'str'>\n",
      "20      <class 'str'>\n",
      "21      <class 'str'>\n",
      "22      <class 'str'>\n",
      "23      <class 'str'>\n",
      "24      <class 'str'>\n",
      "25      <class 'str'>\n",
      "26      <class 'str'>\n",
      "27      <class 'str'>\n",
      "28      <class 'str'>\n",
      "29      <class 'str'>\n",
      "            ...      \n",
      "2045    <class 'str'>\n",
      "2046    <class 'str'>\n",
      "2047    <class 'str'>\n",
      "2048    <class 'str'>\n",
      "2049    <class 'str'>\n",
      "2050    <class 'str'>\n",
      "2051    <class 'str'>\n",
      "2052    <class 'str'>\n",
      "2053    <class 'str'>\n",
      "2054    <class 'str'>\n",
      "2055    <class 'str'>\n",
      "2056    <class 'str'>\n",
      "2057    <class 'str'>\n",
      "2058    <class 'str'>\n",
      "2059    <class 'str'>\n",
      "2060    <class 'str'>\n",
      "2061    <class 'str'>\n",
      "2062    <class 'str'>\n",
      "2063    <class 'str'>\n",
      "2064    <class 'str'>\n",
      "2065    <class 'str'>\n",
      "2066    <class 'str'>\n",
      "2067    <class 'str'>\n",
      "2068    <class 'str'>\n",
      "2069    <class 'str'>\n",
      "2070    <class 'str'>\n",
      "2071    <class 'str'>\n",
      "2072    <class 'str'>\n",
      "2073    <class 'str'>\n",
      "2074    <class 'str'>\n",
      "Name: tweet_id, Length: 2075, dtype: object \n",
      "\n",
      "0       <class 'str'>\n",
      "1       <class 'str'>\n",
      "2       <class 'str'>\n",
      "3       <class 'str'>\n",
      "4       <class 'str'>\n",
      "5       <class 'str'>\n",
      "6       <class 'str'>\n",
      "7       <class 'str'>\n",
      "8       <class 'str'>\n",
      "9       <class 'str'>\n",
      "10      <class 'str'>\n",
      "11      <class 'str'>\n",
      "12      <class 'str'>\n",
      "13      <class 'str'>\n",
      "14      <class 'str'>\n",
      "15      <class 'str'>\n",
      "16      <class 'str'>\n",
      "17      <class 'str'>\n",
      "18      <class 'str'>\n",
      "19      <class 'str'>\n",
      "20      <class 'str'>\n",
      "21      <class 'str'>\n",
      "22      <class 'str'>\n",
      "23      <class 'str'>\n",
      "24      <class 'str'>\n",
      "25      <class 'str'>\n",
      "26      <class 'str'>\n",
      "27      <class 'str'>\n",
      "28      <class 'str'>\n",
      "29      <class 'str'>\n",
      "            ...      \n",
      "2297    <class 'str'>\n",
      "2298    <class 'str'>\n",
      "2299    <class 'str'>\n",
      "2300    <class 'str'>\n",
      "2301    <class 'str'>\n",
      "2302    <class 'str'>\n",
      "2303    <class 'str'>\n",
      "2304    <class 'str'>\n",
      "2305    <class 'str'>\n",
      "2306    <class 'str'>\n",
      "2307    <class 'str'>\n",
      "2308    <class 'str'>\n",
      "2309    <class 'str'>\n",
      "2310    <class 'str'>\n",
      "2311    <class 'str'>\n",
      "2312    <class 'str'>\n",
      "2313    <class 'str'>\n",
      "2314    <class 'str'>\n",
      "2315    <class 'str'>\n",
      "2316    <class 'str'>\n",
      "2317    <class 'str'>\n",
      "2318    <class 'str'>\n",
      "2319    <class 'str'>\n",
      "2320    <class 'str'>\n",
      "2321    <class 'str'>\n",
      "2322    <class 'str'>\n",
      "2323    <class 'str'>\n",
      "2324    <class 'str'>\n",
      "2325    <class 'str'>\n",
      "2326    <class 'str'>\n",
      "Name: tweet_id, Length: 2327, dtype: object \n",
      "\n"
     ]
    }
   ],
   "source": [
    "print(wrd_archive_clean.tweet_id.apply(type), \"\\n\")\n",
    "print(wrd_image_prediction_clean.tweet_id.apply(type), \"\\n\")\n",
    "print(wrd_archive_add_clean.tweet_id.apply(type), \"\\n\")"
   ]
  },
  {
   "cell_type": "markdown",
   "metadata": {},
   "source": [
    "### Issue 5-Q"
   ]
  },
  {
   "cell_type": "markdown",
   "metadata": {
    "collapsed": true,
    "extensions": {
     "jupyter_dashboards": {
      "version": 1,
      "views": {
       "grid_default": {
        "hidden": true
       },
       "report_default": {
        "hidden": true
       }
      }
     }
    }
   },
   "source": [
    "#### Define\n",
    "**wrd_archive_clean/timestamp, retweeted_status_timestamp (already dropped)** Type *object* instead of *timestamp*\n",
    "I will change the column type to `timestamp`"
   ]
  },
  {
   "cell_type": "markdown",
   "metadata": {},
   "source": [
    "#### Code"
   ]
  },
  {
   "cell_type": "code",
   "execution_count": 41,
   "metadata": {},
   "outputs": [],
   "source": [
    "wrd_archive_clean.timestamp = pd.to_datetime(wrd_archive_clean.timestamp)"
   ]
  },
  {
   "cell_type": "markdown",
   "metadata": {},
   "source": [
    "#### Test"
   ]
  },
  {
   "cell_type": "code",
   "execution_count": 42,
   "metadata": {},
   "outputs": [
    {
     "name": "stdout",
     "output_type": "stream",
     "text": [
      "<class 'pandas.core.frame.DataFrame'>\n",
      "Int64Index: 2097 entries, 0 to 2355\n",
      "Data columns (total 12 columns):\n",
      "tweet_id              2097 non-null object\n",
      "timestamp             2097 non-null datetime64[ns]\n",
      "source                2097 non-null object\n",
      "text                  2097 non-null object\n",
      "expanded_urls         2094 non-null object\n",
      "rating_numerator      2097 non-null int64\n",
      "rating_denominator    2097 non-null int64\n",
      "name                  2097 non-null object\n",
      "doggo                 2097 non-null object\n",
      "floofer               2097 non-null object\n",
      "pupper                2097 non-null object\n",
      "puppo                 2097 non-null object\n",
      "dtypes: datetime64[ns](1), int64(2), object(9)\n",
      "memory usage: 213.0+ KB\n",
      "None\n"
     ]
    }
   ],
   "source": [
    "print(wrd_archive_clean.info())"
   ]
  },
  {
   "cell_type": "markdown",
   "metadata": {},
   "source": [
    "### Issue 6-Q"
   ]
  },
  {
   "cell_type": "markdown",
   "metadata": {},
   "source": [
    "#### Define\n",
    "**wrd_archive_clean/rating_denominator**\n",
    "Inaccurate values != 10. As these are just 17 rows I will drop them."
   ]
  },
  {
   "cell_type": "markdown",
   "metadata": {},
   "source": [
    "#### Code"
   ]
  },
  {
   "cell_type": "code",
   "execution_count": 43,
   "metadata": {},
   "outputs": [
    {
     "data": {
      "text/plain": [
       "17"
      ]
     },
     "execution_count": 43,
     "metadata": {},
     "output_type": "execute_result"
    }
   ],
   "source": [
    "# After counting the affected rows I will delete them within the 'Test' block bellow\n",
    "len(wrd_archive_clean.query('rating_denominator != 10'))"
   ]
  },
  {
   "cell_type": "markdown",
   "metadata": {},
   "source": [
    "#### Test"
   ]
  },
  {
   "cell_type": "code",
   "execution_count": 44,
   "metadata": {},
   "outputs": [
    {
     "name": "stdout",
     "output_type": "stream",
     "text": [
      "(2097, 12)\n",
      "(2080, 12)\n"
     ]
    }
   ],
   "source": [
    "print(wrd_archive_clean.shape)\n",
    "wrd_archive_clean = wrd_archive_clean[wrd_archive_clean.rating_denominator == 10]\n",
    "print(wrd_archive_clean.shape)"
   ]
  },
  {
   "cell_type": "markdown",
   "metadata": {},
   "source": [
    "### Issue 7-Q"
   ]
  },
  {
   "cell_type": "markdown",
   "metadata": {},
   "source": [
    "#### Define\n",
    "**wrd_archive_clean/rating_numerator**\n",
    "\n",
    "We have some numerator >= 15 rows, there is a big gap between 14 and 26. This seems unrealisted watching the distribution. As these are just 5 rows I will drop them."
   ]
  },
  {
   "cell_type": "markdown",
   "metadata": {},
   "source": [
    "#### Code"
   ]
  },
  {
   "cell_type": "code",
   "execution_count": 45,
   "metadata": {},
   "outputs": [
    {
     "data": {
      "text/plain": [
       "1776      1\n",
       "420       1\n",
       "75        1\n",
       "27        1\n",
       "26        1\n",
       "14       38\n",
       "13      287\n",
       "12      486\n",
       "11      413\n",
       "10      436\n",
       "9       152\n",
       "8        98\n",
       "7        51\n",
       "6        32\n",
       "5        34\n",
       "4        15\n",
       "3        19\n",
       "2         9\n",
       "1         4\n",
       "0         1\n",
       "Name: rating_numerator, dtype: int64"
      ]
     },
     "execution_count": 45,
     "metadata": {},
     "output_type": "execute_result"
    }
   ],
   "source": [
    "wrd_archive_clean['rating_numerator'].value_counts().sort_index(ascending = False)"
   ]
  },
  {
   "cell_type": "markdown",
   "metadata": {},
   "source": [
    "#### Test"
   ]
  },
  {
   "cell_type": "code",
   "execution_count": 46,
   "metadata": {},
   "outputs": [
    {
     "name": "stdout",
     "output_type": "stream",
     "text": [
      "5 \n",
      "\n",
      "(2080, 12)\n",
      "(2075, 12)\n"
     ]
    }
   ],
   "source": [
    "# After counting the affected rows I will delete them within the 'Test' block bellow\n",
    "print(len(wrd_archive_clean.query('rating_numerator >= 15')),\"\\n\")\n",
    "\n",
    "print(wrd_archive_clean.shape)\n",
    "wrd_archive_clean = wrd_archive_clean[wrd_archive_clean.rating_numerator <= 15]\n",
    "print(wrd_archive_clean.shape)"
   ]
  },
  {
   "cell_type": "markdown",
   "metadata": {},
   "source": [
    "### Issue 12-Q"
   ]
  },
  {
   "cell_type": "markdown",
   "metadata": {},
   "source": [
    "#### Define\n",
    "\n",
    "**wrd_archive_clean/doggo, floofer, pupper, puppo**\n",
    "\n",
    "Categorical variables represented as separate columns.\n",
    "\n",
    "I will create a column dog_stage with the values from these columns and drop them afterwards."
   ]
  },
  {
   "cell_type": "markdown",
   "metadata": {},
   "source": [
    "#### Code"
   ]
  },
  {
   "cell_type": "code",
   "execution_count": 47,
   "metadata": {},
   "outputs": [],
   "source": [
    "import re\n",
    "wrd_archive_clean['dog_stage'] = wrd_archive_clean.apply(lambda x : re.sub('None,*','',(x.doggo +','+ x.floofer + x.puppo + x.pupper)).rstrip(',') \n",
    "                     if re.sub('None','',(x.doggo + x.floofer + x.pupper + x.puppo)) != ''\n",
    "                     else 'None', axis=1)\n",
    "\n",
    "columns_to_drop = ['doggo',\n",
    "                   'floofer',\n",
    "                   'pupper',\n",
    "                   'puppo'\n",
    "                  ]\n",
    "wrd_archive_clean.drop(columns = columns_to_drop, inplace = True)\n"
   ]
  },
  {
   "cell_type": "markdown",
   "metadata": {},
   "source": [
    "#### Test"
   ]
  },
  {
   "cell_type": "code",
   "execution_count": 48,
   "metadata": {},
   "outputs": [
    {
     "data": {
      "text/html": [
       "<div>\n",
       "<style scoped>\n",
       "    .dataframe tbody tr th:only-of-type {\n",
       "        vertical-align: middle;\n",
       "    }\n",
       "\n",
       "    .dataframe tbody tr th {\n",
       "        vertical-align: top;\n",
       "    }\n",
       "\n",
       "    .dataframe thead th {\n",
       "        text-align: right;\n",
       "    }\n",
       "</style>\n",
       "<table border=\"1\" class=\"dataframe\">\n",
       "  <thead>\n",
       "    <tr style=\"text-align: right;\">\n",
       "      <th></th>\n",
       "      <th>tweet_id</th>\n",
       "      <th>timestamp</th>\n",
       "      <th>source</th>\n",
       "      <th>text</th>\n",
       "      <th>expanded_urls</th>\n",
       "      <th>rating_numerator</th>\n",
       "      <th>rating_denominator</th>\n",
       "      <th>name</th>\n",
       "      <th>dog_stage</th>\n",
       "    </tr>\n",
       "  </thead>\n",
       "  <tbody>\n",
       "    <tr>\n",
       "      <th>0</th>\n",
       "      <td>892420643555336193</td>\n",
       "      <td>2017-08-01 16:23:56</td>\n",
       "      <td>&lt;a href=\"http://twitter.com/download/iphone\" r...</td>\n",
       "      <td>This is Phineas. He's a mystical boy. Only eve...</td>\n",
       "      <td>https://twitter.com/dog_rates/status/892420643...</td>\n",
       "      <td>13</td>\n",
       "      <td>10</td>\n",
       "      <td>Phineas</td>\n",
       "      <td>None</td>\n",
       "    </tr>\n",
       "    <tr>\n",
       "      <th>1</th>\n",
       "      <td>892177421306343426</td>\n",
       "      <td>2017-08-01 00:17:27</td>\n",
       "      <td>&lt;a href=\"http://twitter.com/download/iphone\" r...</td>\n",
       "      <td>This is Tilly. She's just checking pup on you....</td>\n",
       "      <td>https://twitter.com/dog_rates/status/892177421...</td>\n",
       "      <td>13</td>\n",
       "      <td>10</td>\n",
       "      <td>Tilly</td>\n",
       "      <td>None</td>\n",
       "    </tr>\n",
       "    <tr>\n",
       "      <th>2</th>\n",
       "      <td>891815181378084864</td>\n",
       "      <td>2017-07-31 00:18:03</td>\n",
       "      <td>&lt;a href=\"http://twitter.com/download/iphone\" r...</td>\n",
       "      <td>This is Archie. He is a rare Norwegian Pouncin...</td>\n",
       "      <td>https://twitter.com/dog_rates/status/891815181...</td>\n",
       "      <td>12</td>\n",
       "      <td>10</td>\n",
       "      <td>Archie</td>\n",
       "      <td>None</td>\n",
       "    </tr>\n",
       "    <tr>\n",
       "      <th>3</th>\n",
       "      <td>891689557279858688</td>\n",
       "      <td>2017-07-30 15:58:51</td>\n",
       "      <td>&lt;a href=\"http://twitter.com/download/iphone\" r...</td>\n",
       "      <td>This is Darla. She commenced a snooze mid meal...</td>\n",
       "      <td>https://twitter.com/dog_rates/status/891689557...</td>\n",
       "      <td>13</td>\n",
       "      <td>10</td>\n",
       "      <td>Darla</td>\n",
       "      <td>None</td>\n",
       "    </tr>\n",
       "    <tr>\n",
       "      <th>4</th>\n",
       "      <td>891327558926688256</td>\n",
       "      <td>2017-07-29 16:00:24</td>\n",
       "      <td>&lt;a href=\"http://twitter.com/download/iphone\" r...</td>\n",
       "      <td>This is Franklin. He would like you to stop ca...</td>\n",
       "      <td>https://twitter.com/dog_rates/status/891327558...</td>\n",
       "      <td>12</td>\n",
       "      <td>10</td>\n",
       "      <td>Franklin</td>\n",
       "      <td>None</td>\n",
       "    </tr>\n",
       "    <tr>\n",
       "      <th>5</th>\n",
       "      <td>891087950875897856</td>\n",
       "      <td>2017-07-29 00:08:17</td>\n",
       "      <td>&lt;a href=\"http://twitter.com/download/iphone\" r...</td>\n",
       "      <td>Here we have a majestic great white breaching ...</td>\n",
       "      <td>https://twitter.com/dog_rates/status/891087950...</td>\n",
       "      <td>13</td>\n",
       "      <td>10</td>\n",
       "      <td>None</td>\n",
       "      <td>None</td>\n",
       "    </tr>\n",
       "    <tr>\n",
       "      <th>6</th>\n",
       "      <td>890971913173991426</td>\n",
       "      <td>2017-07-28 16:27:12</td>\n",
       "      <td>&lt;a href=\"http://twitter.com/download/iphone\" r...</td>\n",
       "      <td>Meet Jax. He enjoys ice cream so much he gets ...</td>\n",
       "      <td>https://gofundme.com/ydvmve-surgery-for-jax,ht...</td>\n",
       "      <td>13</td>\n",
       "      <td>10</td>\n",
       "      <td>Jax</td>\n",
       "      <td>None</td>\n",
       "    </tr>\n",
       "    <tr>\n",
       "      <th>7</th>\n",
       "      <td>890729181411237888</td>\n",
       "      <td>2017-07-28 00:22:40</td>\n",
       "      <td>&lt;a href=\"http://twitter.com/download/iphone\" r...</td>\n",
       "      <td>When you watch your owner call another dog a g...</td>\n",
       "      <td>https://twitter.com/dog_rates/status/890729181...</td>\n",
       "      <td>13</td>\n",
       "      <td>10</td>\n",
       "      <td>None</td>\n",
       "      <td>None</td>\n",
       "    </tr>\n",
       "    <tr>\n",
       "      <th>8</th>\n",
       "      <td>890609185150312448</td>\n",
       "      <td>2017-07-27 16:25:51</td>\n",
       "      <td>&lt;a href=\"http://twitter.com/download/iphone\" r...</td>\n",
       "      <td>This is Zoey. She doesn't want to be one of th...</td>\n",
       "      <td>https://twitter.com/dog_rates/status/890609185...</td>\n",
       "      <td>13</td>\n",
       "      <td>10</td>\n",
       "      <td>Zoey</td>\n",
       "      <td>None</td>\n",
       "    </tr>\n",
       "    <tr>\n",
       "      <th>9</th>\n",
       "      <td>890240255349198849</td>\n",
       "      <td>2017-07-26 15:59:51</td>\n",
       "      <td>&lt;a href=\"http://twitter.com/download/iphone\" r...</td>\n",
       "      <td>This is Cassie. She is a college pup. Studying...</td>\n",
       "      <td>https://twitter.com/dog_rates/status/890240255...</td>\n",
       "      <td>14</td>\n",
       "      <td>10</td>\n",
       "      <td>Cassie</td>\n",
       "      <td>doggo</td>\n",
       "    </tr>\n",
       "    <tr>\n",
       "      <th>10</th>\n",
       "      <td>890006608113172480</td>\n",
       "      <td>2017-07-26 00:31:25</td>\n",
       "      <td>&lt;a href=\"http://twitter.com/download/iphone\" r...</td>\n",
       "      <td>This is Koda. He is a South Australian decksha...</td>\n",
       "      <td>https://twitter.com/dog_rates/status/890006608...</td>\n",
       "      <td>13</td>\n",
       "      <td>10</td>\n",
       "      <td>Koda</td>\n",
       "      <td>None</td>\n",
       "    </tr>\n",
       "    <tr>\n",
       "      <th>11</th>\n",
       "      <td>889880896479866881</td>\n",
       "      <td>2017-07-25 16:11:53</td>\n",
       "      <td>&lt;a href=\"http://twitter.com/download/iphone\" r...</td>\n",
       "      <td>This is Bruno. He is a service shark. Only get...</td>\n",
       "      <td>https://twitter.com/dog_rates/status/889880896...</td>\n",
       "      <td>13</td>\n",
       "      <td>10</td>\n",
       "      <td>Bruno</td>\n",
       "      <td>None</td>\n",
       "    </tr>\n",
       "    <tr>\n",
       "      <th>12</th>\n",
       "      <td>889665388333682689</td>\n",
       "      <td>2017-07-25 01:55:32</td>\n",
       "      <td>&lt;a href=\"http://twitter.com/download/iphone\" r...</td>\n",
       "      <td>Here's a puppo that seems to be on the fence a...</td>\n",
       "      <td>https://twitter.com/dog_rates/status/889665388...</td>\n",
       "      <td>13</td>\n",
       "      <td>10</td>\n",
       "      <td>None</td>\n",
       "      <td>puppo</td>\n",
       "    </tr>\n",
       "    <tr>\n",
       "      <th>13</th>\n",
       "      <td>889638837579907072</td>\n",
       "      <td>2017-07-25 00:10:02</td>\n",
       "      <td>&lt;a href=\"http://twitter.com/download/iphone\" r...</td>\n",
       "      <td>This is Ted. He does his best. Sometimes that'...</td>\n",
       "      <td>https://twitter.com/dog_rates/status/889638837...</td>\n",
       "      <td>12</td>\n",
       "      <td>10</td>\n",
       "      <td>Ted</td>\n",
       "      <td>None</td>\n",
       "    </tr>\n",
       "    <tr>\n",
       "      <th>14</th>\n",
       "      <td>889531135344209921</td>\n",
       "      <td>2017-07-24 17:02:04</td>\n",
       "      <td>&lt;a href=\"http://twitter.com/download/iphone\" r...</td>\n",
       "      <td>This is Stuart. He's sporting his favorite fan...</td>\n",
       "      <td>https://twitter.com/dog_rates/status/889531135...</td>\n",
       "      <td>13</td>\n",
       "      <td>10</td>\n",
       "      <td>Stuart</td>\n",
       "      <td>puppo</td>\n",
       "    </tr>\n",
       "    <tr>\n",
       "      <th>15</th>\n",
       "      <td>889278841981685760</td>\n",
       "      <td>2017-07-24 00:19:32</td>\n",
       "      <td>&lt;a href=\"http://twitter.com/download/iphone\" r...</td>\n",
       "      <td>This is Oliver. You're witnessing one of his m...</td>\n",
       "      <td>https://twitter.com/dog_rates/status/889278841...</td>\n",
       "      <td>13</td>\n",
       "      <td>10</td>\n",
       "      <td>Oliver</td>\n",
       "      <td>None</td>\n",
       "    </tr>\n",
       "    <tr>\n",
       "      <th>16</th>\n",
       "      <td>888917238123831296</td>\n",
       "      <td>2017-07-23 00:22:39</td>\n",
       "      <td>&lt;a href=\"http://twitter.com/download/iphone\" r...</td>\n",
       "      <td>This is Jim. He found a fren. Taught him how t...</td>\n",
       "      <td>https://twitter.com/dog_rates/status/888917238...</td>\n",
       "      <td>12</td>\n",
       "      <td>10</td>\n",
       "      <td>Jim</td>\n",
       "      <td>None</td>\n",
       "    </tr>\n",
       "    <tr>\n",
       "      <th>17</th>\n",
       "      <td>888804989199671297</td>\n",
       "      <td>2017-07-22 16:56:37</td>\n",
       "      <td>&lt;a href=\"http://twitter.com/download/iphone\" r...</td>\n",
       "      <td>This is Zeke. He has a new stick. Very proud o...</td>\n",
       "      <td>https://twitter.com/dog_rates/status/888804989...</td>\n",
       "      <td>13</td>\n",
       "      <td>10</td>\n",
       "      <td>Zeke</td>\n",
       "      <td>None</td>\n",
       "    </tr>\n",
       "    <tr>\n",
       "      <th>18</th>\n",
       "      <td>888554962724278272</td>\n",
       "      <td>2017-07-22 00:23:06</td>\n",
       "      <td>&lt;a href=\"http://twitter.com/download/iphone\" r...</td>\n",
       "      <td>This is Ralphus. He's powering up. Attempting ...</td>\n",
       "      <td>https://twitter.com/dog_rates/status/888554962...</td>\n",
       "      <td>13</td>\n",
       "      <td>10</td>\n",
       "      <td>Ralphus</td>\n",
       "      <td>None</td>\n",
       "    </tr>\n",
       "    <tr>\n",
       "      <th>20</th>\n",
       "      <td>888078434458587136</td>\n",
       "      <td>2017-07-20 16:49:33</td>\n",
       "      <td>&lt;a href=\"http://twitter.com/download/iphone\" r...</td>\n",
       "      <td>This is Gerald. He was just told he didn't get...</td>\n",
       "      <td>https://twitter.com/dog_rates/status/888078434...</td>\n",
       "      <td>12</td>\n",
       "      <td>10</td>\n",
       "      <td>Gerald</td>\n",
       "      <td>None</td>\n",
       "    </tr>\n",
       "    <tr>\n",
       "      <th>21</th>\n",
       "      <td>887705289381826560</td>\n",
       "      <td>2017-07-19 16:06:48</td>\n",
       "      <td>&lt;a href=\"http://twitter.com/download/iphone\" r...</td>\n",
       "      <td>This is Jeffrey. He has a monopoly on the pool...</td>\n",
       "      <td>https://twitter.com/dog_rates/status/887705289...</td>\n",
       "      <td>13</td>\n",
       "      <td>10</td>\n",
       "      <td>Jeffrey</td>\n",
       "      <td>None</td>\n",
       "    </tr>\n",
       "    <tr>\n",
       "      <th>22</th>\n",
       "      <td>887517139158093824</td>\n",
       "      <td>2017-07-19 03:39:09</td>\n",
       "      <td>&lt;a href=\"http://twitter.com/download/iphone\" r...</td>\n",
       "      <td>I've yet to rate a Venezuelan Hover Wiener. Th...</td>\n",
       "      <td>https://twitter.com/dog_rates/status/887517139...</td>\n",
       "      <td>14</td>\n",
       "      <td>10</td>\n",
       "      <td>such</td>\n",
       "      <td>None</td>\n",
       "    </tr>\n",
       "    <tr>\n",
       "      <th>23</th>\n",
       "      <td>887473957103951883</td>\n",
       "      <td>2017-07-19 00:47:34</td>\n",
       "      <td>&lt;a href=\"http://twitter.com/download/iphone\" r...</td>\n",
       "      <td>This is Canela. She attempted some fancy porch...</td>\n",
       "      <td>https://twitter.com/dog_rates/status/887473957...</td>\n",
       "      <td>13</td>\n",
       "      <td>10</td>\n",
       "      <td>Canela</td>\n",
       "      <td>None</td>\n",
       "    </tr>\n",
       "    <tr>\n",
       "      <th>24</th>\n",
       "      <td>887343217045368832</td>\n",
       "      <td>2017-07-18 16:08:03</td>\n",
       "      <td>&lt;a href=\"http://twitter.com/download/iphone\" r...</td>\n",
       "      <td>You may not have known you needed to see this ...</td>\n",
       "      <td>https://twitter.com/dog_rates/status/887343217...</td>\n",
       "      <td>13</td>\n",
       "      <td>10</td>\n",
       "      <td>None</td>\n",
       "      <td>None</td>\n",
       "    </tr>\n",
       "    <tr>\n",
       "      <th>25</th>\n",
       "      <td>887101392804085760</td>\n",
       "      <td>2017-07-18 00:07:08</td>\n",
       "      <td>&lt;a href=\"http://twitter.com/download/iphone\" r...</td>\n",
       "      <td>This... is a Jubilant Antarctic House Bear. We...</td>\n",
       "      <td>https://twitter.com/dog_rates/status/887101392...</td>\n",
       "      <td>12</td>\n",
       "      <td>10</td>\n",
       "      <td>None</td>\n",
       "      <td>None</td>\n",
       "    </tr>\n",
       "    <tr>\n",
       "      <th>26</th>\n",
       "      <td>886983233522544640</td>\n",
       "      <td>2017-07-17 16:17:36</td>\n",
       "      <td>&lt;a href=\"http://twitter.com/download/iphone\" r...</td>\n",
       "      <td>This is Maya. She's very shy. Rarely leaves he...</td>\n",
       "      <td>https://twitter.com/dog_rates/status/886983233...</td>\n",
       "      <td>13</td>\n",
       "      <td>10</td>\n",
       "      <td>Maya</td>\n",
       "      <td>None</td>\n",
       "    </tr>\n",
       "    <tr>\n",
       "      <th>27</th>\n",
       "      <td>886736880519319552</td>\n",
       "      <td>2017-07-16 23:58:41</td>\n",
       "      <td>&lt;a href=\"http://twitter.com/download/iphone\" r...</td>\n",
       "      <td>This is Mingus. He's a wonderful father to his...</td>\n",
       "      <td>https://www.gofundme.com/mingusneedsus,https:/...</td>\n",
       "      <td>13</td>\n",
       "      <td>10</td>\n",
       "      <td>Mingus</td>\n",
       "      <td>None</td>\n",
       "    </tr>\n",
       "    <tr>\n",
       "      <th>28</th>\n",
       "      <td>886680336477933568</td>\n",
       "      <td>2017-07-16 20:14:00</td>\n",
       "      <td>&lt;a href=\"http://twitter.com/download/iphone\" r...</td>\n",
       "      <td>This is Derek. He's late for a dog meeting. 13...</td>\n",
       "      <td>https://twitter.com/dog_rates/status/886680336...</td>\n",
       "      <td>13</td>\n",
       "      <td>10</td>\n",
       "      <td>Derek</td>\n",
       "      <td>None</td>\n",
       "    </tr>\n",
       "    <tr>\n",
       "      <th>29</th>\n",
       "      <td>886366144734445568</td>\n",
       "      <td>2017-07-15 23:25:31</td>\n",
       "      <td>&lt;a href=\"http://twitter.com/download/iphone\" r...</td>\n",
       "      <td>This is Roscoe. Another pupper fallen victim t...</td>\n",
       "      <td>https://twitter.com/dog_rates/status/886366144...</td>\n",
       "      <td>12</td>\n",
       "      <td>10</td>\n",
       "      <td>Roscoe</td>\n",
       "      <td>pupper</td>\n",
       "    </tr>\n",
       "    <tr>\n",
       "      <th>31</th>\n",
       "      <td>886258384151887873</td>\n",
       "      <td>2017-07-15 16:17:19</td>\n",
       "      <td>&lt;a href=\"http://twitter.com/download/iphone\" r...</td>\n",
       "      <td>This is Waffles. His doggles are pupside down....</td>\n",
       "      <td>https://twitter.com/dog_rates/status/886258384...</td>\n",
       "      <td>13</td>\n",
       "      <td>10</td>\n",
       "      <td>Waffles</td>\n",
       "      <td>None</td>\n",
       "    </tr>\n",
       "    <tr>\n",
       "      <th>...</th>\n",
       "      <td>...</td>\n",
       "      <td>...</td>\n",
       "      <td>...</td>\n",
       "      <td>...</td>\n",
       "      <td>...</td>\n",
       "      <td>...</td>\n",
       "      <td>...</td>\n",
       "      <td>...</td>\n",
       "      <td>...</td>\n",
       "    </tr>\n",
       "    <tr>\n",
       "      <th>2325</th>\n",
       "      <td>666418789513326592</td>\n",
       "      <td>2015-11-17 00:53:15</td>\n",
       "      <td>&lt;a href=\"http://twitter.com/download/iphone\" r...</td>\n",
       "      <td>This is Walter. He is an Alaskan Terrapin. Lov...</td>\n",
       "      <td>https://twitter.com/dog_rates/status/666418789...</td>\n",
       "      <td>10</td>\n",
       "      <td>10</td>\n",
       "      <td>Walter</td>\n",
       "      <td>None</td>\n",
       "    </tr>\n",
       "    <tr>\n",
       "      <th>2326</th>\n",
       "      <td>666411507551481857</td>\n",
       "      <td>2015-11-17 00:24:19</td>\n",
       "      <td>&lt;a href=\"http://twitter.com/download/iphone\" r...</td>\n",
       "      <td>This is quite the dog. Gets really excited whe...</td>\n",
       "      <td>https://twitter.com/dog_rates/status/666411507...</td>\n",
       "      <td>2</td>\n",
       "      <td>10</td>\n",
       "      <td>quite</td>\n",
       "      <td>None</td>\n",
       "    </tr>\n",
       "    <tr>\n",
       "      <th>2327</th>\n",
       "      <td>666407126856765440</td>\n",
       "      <td>2015-11-17 00:06:54</td>\n",
       "      <td>&lt;a href=\"http://twitter.com/download/iphone\" r...</td>\n",
       "      <td>This is a southern Vesuvius bumblegruff. Can d...</td>\n",
       "      <td>https://twitter.com/dog_rates/status/666407126...</td>\n",
       "      <td>7</td>\n",
       "      <td>10</td>\n",
       "      <td>a</td>\n",
       "      <td>None</td>\n",
       "    </tr>\n",
       "    <tr>\n",
       "      <th>2328</th>\n",
       "      <td>666396247373291520</td>\n",
       "      <td>2015-11-16 23:23:41</td>\n",
       "      <td>&lt;a href=\"http://twitter.com/download/iphone\" r...</td>\n",
       "      <td>Oh goodness. A super rare northeast Qdoba kang...</td>\n",
       "      <td>https://twitter.com/dog_rates/status/666396247...</td>\n",
       "      <td>9</td>\n",
       "      <td>10</td>\n",
       "      <td>None</td>\n",
       "      <td>None</td>\n",
       "    </tr>\n",
       "    <tr>\n",
       "      <th>2329</th>\n",
       "      <td>666373753744588802</td>\n",
       "      <td>2015-11-16 21:54:18</td>\n",
       "      <td>&lt;a href=\"http://twitter.com/download/iphone\" r...</td>\n",
       "      <td>Those are sunglasses and a jean jacket. 11/10 ...</td>\n",
       "      <td>https://twitter.com/dog_rates/status/666373753...</td>\n",
       "      <td>11</td>\n",
       "      <td>10</td>\n",
       "      <td>None</td>\n",
       "      <td>None</td>\n",
       "    </tr>\n",
       "    <tr>\n",
       "      <th>2330</th>\n",
       "      <td>666362758909284353</td>\n",
       "      <td>2015-11-16 21:10:36</td>\n",
       "      <td>&lt;a href=\"http://twitter.com/download/iphone\" r...</td>\n",
       "      <td>Unique dog here. Very small. Lives in containe...</td>\n",
       "      <td>https://twitter.com/dog_rates/status/666362758...</td>\n",
       "      <td>6</td>\n",
       "      <td>10</td>\n",
       "      <td>None</td>\n",
       "      <td>None</td>\n",
       "    </tr>\n",
       "    <tr>\n",
       "      <th>2331</th>\n",
       "      <td>666353288456101888</td>\n",
       "      <td>2015-11-16 20:32:58</td>\n",
       "      <td>&lt;a href=\"http://twitter.com/download/iphone\" r...</td>\n",
       "      <td>Here we have a mixed Asiago from the Galápagos...</td>\n",
       "      <td>https://twitter.com/dog_rates/status/666353288...</td>\n",
       "      <td>8</td>\n",
       "      <td>10</td>\n",
       "      <td>None</td>\n",
       "      <td>None</td>\n",
       "    </tr>\n",
       "    <tr>\n",
       "      <th>2332</th>\n",
       "      <td>666345417576210432</td>\n",
       "      <td>2015-11-16 20:01:42</td>\n",
       "      <td>&lt;a href=\"http://twitter.com/download/iphone\" r...</td>\n",
       "      <td>Look at this jokester thinking seat belt laws ...</td>\n",
       "      <td>https://twitter.com/dog_rates/status/666345417...</td>\n",
       "      <td>10</td>\n",
       "      <td>10</td>\n",
       "      <td>None</td>\n",
       "      <td>None</td>\n",
       "    </tr>\n",
       "    <tr>\n",
       "      <th>2333</th>\n",
       "      <td>666337882303524864</td>\n",
       "      <td>2015-11-16 19:31:45</td>\n",
       "      <td>&lt;a href=\"http://twitter.com/download/iphone\" r...</td>\n",
       "      <td>This is an extremely rare horned Parthenon. No...</td>\n",
       "      <td>https://twitter.com/dog_rates/status/666337882...</td>\n",
       "      <td>9</td>\n",
       "      <td>10</td>\n",
       "      <td>an</td>\n",
       "      <td>None</td>\n",
       "    </tr>\n",
       "    <tr>\n",
       "      <th>2334</th>\n",
       "      <td>666293911632134144</td>\n",
       "      <td>2015-11-16 16:37:02</td>\n",
       "      <td>&lt;a href=\"http://twitter.com/download/iphone\" r...</td>\n",
       "      <td>This is a funny dog. Weird toes. Won't come do...</td>\n",
       "      <td>https://twitter.com/dog_rates/status/666293911...</td>\n",
       "      <td>3</td>\n",
       "      <td>10</td>\n",
       "      <td>a</td>\n",
       "      <td>None</td>\n",
       "    </tr>\n",
       "    <tr>\n",
       "      <th>2336</th>\n",
       "      <td>666273097616637952</td>\n",
       "      <td>2015-11-16 15:14:19</td>\n",
       "      <td>&lt;a href=\"http://twitter.com/download/iphone\" r...</td>\n",
       "      <td>Can take selfies 11/10 https://t.co/ws2AMaNwPW</td>\n",
       "      <td>https://twitter.com/dog_rates/status/666273097...</td>\n",
       "      <td>11</td>\n",
       "      <td>10</td>\n",
       "      <td>None</td>\n",
       "      <td>None</td>\n",
       "    </tr>\n",
       "    <tr>\n",
       "      <th>2337</th>\n",
       "      <td>666268910803644416</td>\n",
       "      <td>2015-11-16 14:57:41</td>\n",
       "      <td>&lt;a href=\"http://twitter.com/download/iphone\" r...</td>\n",
       "      <td>Very concerned about fellow dog trapped in com...</td>\n",
       "      <td>https://twitter.com/dog_rates/status/666268910...</td>\n",
       "      <td>10</td>\n",
       "      <td>10</td>\n",
       "      <td>None</td>\n",
       "      <td>None</td>\n",
       "    </tr>\n",
       "    <tr>\n",
       "      <th>2338</th>\n",
       "      <td>666104133288665088</td>\n",
       "      <td>2015-11-16 04:02:55</td>\n",
       "      <td>&lt;a href=\"http://twitter.com/download/iphone\" r...</td>\n",
       "      <td>Not familiar with this breed. No tail (weird)....</td>\n",
       "      <td>https://twitter.com/dog_rates/status/666104133...</td>\n",
       "      <td>1</td>\n",
       "      <td>10</td>\n",
       "      <td>None</td>\n",
       "      <td>None</td>\n",
       "    </tr>\n",
       "    <tr>\n",
       "      <th>2339</th>\n",
       "      <td>666102155909144576</td>\n",
       "      <td>2015-11-16 03:55:04</td>\n",
       "      <td>&lt;a href=\"http://twitter.com/download/iphone\" r...</td>\n",
       "      <td>Oh my. Here you are seeing an Adobe Setter giv...</td>\n",
       "      <td>https://twitter.com/dog_rates/status/666102155...</td>\n",
       "      <td>11</td>\n",
       "      <td>10</td>\n",
       "      <td>None</td>\n",
       "      <td>None</td>\n",
       "    </tr>\n",
       "    <tr>\n",
       "      <th>2340</th>\n",
       "      <td>666099513787052032</td>\n",
       "      <td>2015-11-16 03:44:34</td>\n",
       "      <td>&lt;a href=\"http://twitter.com/download/iphone\" r...</td>\n",
       "      <td>Can stand on stump for what seems like a while...</td>\n",
       "      <td>https://twitter.com/dog_rates/status/666099513...</td>\n",
       "      <td>8</td>\n",
       "      <td>10</td>\n",
       "      <td>None</td>\n",
       "      <td>None</td>\n",
       "    </tr>\n",
       "    <tr>\n",
       "      <th>2341</th>\n",
       "      <td>666094000022159362</td>\n",
       "      <td>2015-11-16 03:22:39</td>\n",
       "      <td>&lt;a href=\"http://twitter.com/download/iphone\" r...</td>\n",
       "      <td>This appears to be a Mongolian Presbyterian mi...</td>\n",
       "      <td>https://twitter.com/dog_rates/status/666094000...</td>\n",
       "      <td>9</td>\n",
       "      <td>10</td>\n",
       "      <td>None</td>\n",
       "      <td>None</td>\n",
       "    </tr>\n",
       "    <tr>\n",
       "      <th>2342</th>\n",
       "      <td>666082916733198337</td>\n",
       "      <td>2015-11-16 02:38:37</td>\n",
       "      <td>&lt;a href=\"http://twitter.com/download/iphone\" r...</td>\n",
       "      <td>Here we have a well-established sunblockerspan...</td>\n",
       "      <td>https://twitter.com/dog_rates/status/666082916...</td>\n",
       "      <td>6</td>\n",
       "      <td>10</td>\n",
       "      <td>None</td>\n",
       "      <td>None</td>\n",
       "    </tr>\n",
       "    <tr>\n",
       "      <th>2343</th>\n",
       "      <td>666073100786774016</td>\n",
       "      <td>2015-11-16 01:59:36</td>\n",
       "      <td>&lt;a href=\"http://twitter.com/download/iphone\" r...</td>\n",
       "      <td>Let's hope this flight isn't Malaysian (lol). ...</td>\n",
       "      <td>https://twitter.com/dog_rates/status/666073100...</td>\n",
       "      <td>10</td>\n",
       "      <td>10</td>\n",
       "      <td>None</td>\n",
       "      <td>None</td>\n",
       "    </tr>\n",
       "    <tr>\n",
       "      <th>2344</th>\n",
       "      <td>666071193221509120</td>\n",
       "      <td>2015-11-16 01:52:02</td>\n",
       "      <td>&lt;a href=\"http://twitter.com/download/iphone\" r...</td>\n",
       "      <td>Here we have a northern speckled Rhododendron....</td>\n",
       "      <td>https://twitter.com/dog_rates/status/666071193...</td>\n",
       "      <td>9</td>\n",
       "      <td>10</td>\n",
       "      <td>None</td>\n",
       "      <td>None</td>\n",
       "    </tr>\n",
       "    <tr>\n",
       "      <th>2345</th>\n",
       "      <td>666063827256086533</td>\n",
       "      <td>2015-11-16 01:22:45</td>\n",
       "      <td>&lt;a href=\"http://twitter.com/download/iphone\" r...</td>\n",
       "      <td>This is the happiest dog you will ever see. Ve...</td>\n",
       "      <td>https://twitter.com/dog_rates/status/666063827...</td>\n",
       "      <td>10</td>\n",
       "      <td>10</td>\n",
       "      <td>the</td>\n",
       "      <td>None</td>\n",
       "    </tr>\n",
       "    <tr>\n",
       "      <th>2346</th>\n",
       "      <td>666058600524156928</td>\n",
       "      <td>2015-11-16 01:01:59</td>\n",
       "      <td>&lt;a href=\"http://twitter.com/download/iphone\" r...</td>\n",
       "      <td>Here is the Rand Paul of retrievers folks! He'...</td>\n",
       "      <td>https://twitter.com/dog_rates/status/666058600...</td>\n",
       "      <td>8</td>\n",
       "      <td>10</td>\n",
       "      <td>the</td>\n",
       "      <td>None</td>\n",
       "    </tr>\n",
       "    <tr>\n",
       "      <th>2347</th>\n",
       "      <td>666057090499244032</td>\n",
       "      <td>2015-11-16 00:55:59</td>\n",
       "      <td>&lt;a href=\"http://twitter.com/download/iphone\" r...</td>\n",
       "      <td>My oh my. This is a rare blond Canadian terrie...</td>\n",
       "      <td>https://twitter.com/dog_rates/status/666057090...</td>\n",
       "      <td>9</td>\n",
       "      <td>10</td>\n",
       "      <td>a</td>\n",
       "      <td>None</td>\n",
       "    </tr>\n",
       "    <tr>\n",
       "      <th>2348</th>\n",
       "      <td>666055525042405380</td>\n",
       "      <td>2015-11-16 00:49:46</td>\n",
       "      <td>&lt;a href=\"http://twitter.com/download/iphone\" r...</td>\n",
       "      <td>Here is a Siberian heavily armored polar bear ...</td>\n",
       "      <td>https://twitter.com/dog_rates/status/666055525...</td>\n",
       "      <td>10</td>\n",
       "      <td>10</td>\n",
       "      <td>a</td>\n",
       "      <td>None</td>\n",
       "    </tr>\n",
       "    <tr>\n",
       "      <th>2349</th>\n",
       "      <td>666051853826850816</td>\n",
       "      <td>2015-11-16 00:35:11</td>\n",
       "      <td>&lt;a href=\"http://twitter.com/download/iphone\" r...</td>\n",
       "      <td>This is an odd dog. Hard on the outside but lo...</td>\n",
       "      <td>https://twitter.com/dog_rates/status/666051853...</td>\n",
       "      <td>2</td>\n",
       "      <td>10</td>\n",
       "      <td>an</td>\n",
       "      <td>None</td>\n",
       "    </tr>\n",
       "    <tr>\n",
       "      <th>2350</th>\n",
       "      <td>666050758794694657</td>\n",
       "      <td>2015-11-16 00:30:50</td>\n",
       "      <td>&lt;a href=\"http://twitter.com/download/iphone\" r...</td>\n",
       "      <td>This is a truly beautiful English Wilson Staff...</td>\n",
       "      <td>https://twitter.com/dog_rates/status/666050758...</td>\n",
       "      <td>10</td>\n",
       "      <td>10</td>\n",
       "      <td>a</td>\n",
       "      <td>None</td>\n",
       "    </tr>\n",
       "    <tr>\n",
       "      <th>2351</th>\n",
       "      <td>666049248165822465</td>\n",
       "      <td>2015-11-16 00:24:50</td>\n",
       "      <td>&lt;a href=\"http://twitter.com/download/iphone\" r...</td>\n",
       "      <td>Here we have a 1949 1st generation vulpix. Enj...</td>\n",
       "      <td>https://twitter.com/dog_rates/status/666049248...</td>\n",
       "      <td>5</td>\n",
       "      <td>10</td>\n",
       "      <td>None</td>\n",
       "      <td>None</td>\n",
       "    </tr>\n",
       "    <tr>\n",
       "      <th>2352</th>\n",
       "      <td>666044226329800704</td>\n",
       "      <td>2015-11-16 00:04:52</td>\n",
       "      <td>&lt;a href=\"http://twitter.com/download/iphone\" r...</td>\n",
       "      <td>This is a purebred Piers Morgan. Loves to Netf...</td>\n",
       "      <td>https://twitter.com/dog_rates/status/666044226...</td>\n",
       "      <td>6</td>\n",
       "      <td>10</td>\n",
       "      <td>a</td>\n",
       "      <td>None</td>\n",
       "    </tr>\n",
       "    <tr>\n",
       "      <th>2353</th>\n",
       "      <td>666033412701032449</td>\n",
       "      <td>2015-11-15 23:21:54</td>\n",
       "      <td>&lt;a href=\"http://twitter.com/download/iphone\" r...</td>\n",
       "      <td>Here is a very happy pup. Big fan of well-main...</td>\n",
       "      <td>https://twitter.com/dog_rates/status/666033412...</td>\n",
       "      <td>9</td>\n",
       "      <td>10</td>\n",
       "      <td>a</td>\n",
       "      <td>None</td>\n",
       "    </tr>\n",
       "    <tr>\n",
       "      <th>2354</th>\n",
       "      <td>666029285002620928</td>\n",
       "      <td>2015-11-15 23:05:30</td>\n",
       "      <td>&lt;a href=\"http://twitter.com/download/iphone\" r...</td>\n",
       "      <td>This is a western brown Mitsubishi terrier. Up...</td>\n",
       "      <td>https://twitter.com/dog_rates/status/666029285...</td>\n",
       "      <td>7</td>\n",
       "      <td>10</td>\n",
       "      <td>a</td>\n",
       "      <td>None</td>\n",
       "    </tr>\n",
       "    <tr>\n",
       "      <th>2355</th>\n",
       "      <td>666020888022790149</td>\n",
       "      <td>2015-11-15 22:32:08</td>\n",
       "      <td>&lt;a href=\"http://twitter.com/download/iphone\" r...</td>\n",
       "      <td>Here we have a Japanese Irish Setter. Lost eye...</td>\n",
       "      <td>https://twitter.com/dog_rates/status/666020888...</td>\n",
       "      <td>8</td>\n",
       "      <td>10</td>\n",
       "      <td>None</td>\n",
       "      <td>None</td>\n",
       "    </tr>\n",
       "  </tbody>\n",
       "</table>\n",
       "<p>2075 rows × 9 columns</p>\n",
       "</div>"
      ],
      "text/plain": [
       "                tweet_id           timestamp  \\\n",
       "0     892420643555336193 2017-08-01 16:23:56   \n",
       "1     892177421306343426 2017-08-01 00:17:27   \n",
       "2     891815181378084864 2017-07-31 00:18:03   \n",
       "3     891689557279858688 2017-07-30 15:58:51   \n",
       "4     891327558926688256 2017-07-29 16:00:24   \n",
       "5     891087950875897856 2017-07-29 00:08:17   \n",
       "6     890971913173991426 2017-07-28 16:27:12   \n",
       "7     890729181411237888 2017-07-28 00:22:40   \n",
       "8     890609185150312448 2017-07-27 16:25:51   \n",
       "9     890240255349198849 2017-07-26 15:59:51   \n",
       "10    890006608113172480 2017-07-26 00:31:25   \n",
       "11    889880896479866881 2017-07-25 16:11:53   \n",
       "12    889665388333682689 2017-07-25 01:55:32   \n",
       "13    889638837579907072 2017-07-25 00:10:02   \n",
       "14    889531135344209921 2017-07-24 17:02:04   \n",
       "15    889278841981685760 2017-07-24 00:19:32   \n",
       "16    888917238123831296 2017-07-23 00:22:39   \n",
       "17    888804989199671297 2017-07-22 16:56:37   \n",
       "18    888554962724278272 2017-07-22 00:23:06   \n",
       "20    888078434458587136 2017-07-20 16:49:33   \n",
       "21    887705289381826560 2017-07-19 16:06:48   \n",
       "22    887517139158093824 2017-07-19 03:39:09   \n",
       "23    887473957103951883 2017-07-19 00:47:34   \n",
       "24    887343217045368832 2017-07-18 16:08:03   \n",
       "25    887101392804085760 2017-07-18 00:07:08   \n",
       "26    886983233522544640 2017-07-17 16:17:36   \n",
       "27    886736880519319552 2017-07-16 23:58:41   \n",
       "28    886680336477933568 2017-07-16 20:14:00   \n",
       "29    886366144734445568 2017-07-15 23:25:31   \n",
       "31    886258384151887873 2017-07-15 16:17:19   \n",
       "...                  ...                 ...   \n",
       "2325  666418789513326592 2015-11-17 00:53:15   \n",
       "2326  666411507551481857 2015-11-17 00:24:19   \n",
       "2327  666407126856765440 2015-11-17 00:06:54   \n",
       "2328  666396247373291520 2015-11-16 23:23:41   \n",
       "2329  666373753744588802 2015-11-16 21:54:18   \n",
       "2330  666362758909284353 2015-11-16 21:10:36   \n",
       "2331  666353288456101888 2015-11-16 20:32:58   \n",
       "2332  666345417576210432 2015-11-16 20:01:42   \n",
       "2333  666337882303524864 2015-11-16 19:31:45   \n",
       "2334  666293911632134144 2015-11-16 16:37:02   \n",
       "2336  666273097616637952 2015-11-16 15:14:19   \n",
       "2337  666268910803644416 2015-11-16 14:57:41   \n",
       "2338  666104133288665088 2015-11-16 04:02:55   \n",
       "2339  666102155909144576 2015-11-16 03:55:04   \n",
       "2340  666099513787052032 2015-11-16 03:44:34   \n",
       "2341  666094000022159362 2015-11-16 03:22:39   \n",
       "2342  666082916733198337 2015-11-16 02:38:37   \n",
       "2343  666073100786774016 2015-11-16 01:59:36   \n",
       "2344  666071193221509120 2015-11-16 01:52:02   \n",
       "2345  666063827256086533 2015-11-16 01:22:45   \n",
       "2346  666058600524156928 2015-11-16 01:01:59   \n",
       "2347  666057090499244032 2015-11-16 00:55:59   \n",
       "2348  666055525042405380 2015-11-16 00:49:46   \n",
       "2349  666051853826850816 2015-11-16 00:35:11   \n",
       "2350  666050758794694657 2015-11-16 00:30:50   \n",
       "2351  666049248165822465 2015-11-16 00:24:50   \n",
       "2352  666044226329800704 2015-11-16 00:04:52   \n",
       "2353  666033412701032449 2015-11-15 23:21:54   \n",
       "2354  666029285002620928 2015-11-15 23:05:30   \n",
       "2355  666020888022790149 2015-11-15 22:32:08   \n",
       "\n",
       "                                                 source  \\\n",
       "0     <a href=\"http://twitter.com/download/iphone\" r...   \n",
       "1     <a href=\"http://twitter.com/download/iphone\" r...   \n",
       "2     <a href=\"http://twitter.com/download/iphone\" r...   \n",
       "3     <a href=\"http://twitter.com/download/iphone\" r...   \n",
       "4     <a href=\"http://twitter.com/download/iphone\" r...   \n",
       "5     <a href=\"http://twitter.com/download/iphone\" r...   \n",
       "6     <a href=\"http://twitter.com/download/iphone\" r...   \n",
       "7     <a href=\"http://twitter.com/download/iphone\" r...   \n",
       "8     <a href=\"http://twitter.com/download/iphone\" r...   \n",
       "9     <a href=\"http://twitter.com/download/iphone\" r...   \n",
       "10    <a href=\"http://twitter.com/download/iphone\" r...   \n",
       "11    <a href=\"http://twitter.com/download/iphone\" r...   \n",
       "12    <a href=\"http://twitter.com/download/iphone\" r...   \n",
       "13    <a href=\"http://twitter.com/download/iphone\" r...   \n",
       "14    <a href=\"http://twitter.com/download/iphone\" r...   \n",
       "15    <a href=\"http://twitter.com/download/iphone\" r...   \n",
       "16    <a href=\"http://twitter.com/download/iphone\" r...   \n",
       "17    <a href=\"http://twitter.com/download/iphone\" r...   \n",
       "18    <a href=\"http://twitter.com/download/iphone\" r...   \n",
       "20    <a href=\"http://twitter.com/download/iphone\" r...   \n",
       "21    <a href=\"http://twitter.com/download/iphone\" r...   \n",
       "22    <a href=\"http://twitter.com/download/iphone\" r...   \n",
       "23    <a href=\"http://twitter.com/download/iphone\" r...   \n",
       "24    <a href=\"http://twitter.com/download/iphone\" r...   \n",
       "25    <a href=\"http://twitter.com/download/iphone\" r...   \n",
       "26    <a href=\"http://twitter.com/download/iphone\" r...   \n",
       "27    <a href=\"http://twitter.com/download/iphone\" r...   \n",
       "28    <a href=\"http://twitter.com/download/iphone\" r...   \n",
       "29    <a href=\"http://twitter.com/download/iphone\" r...   \n",
       "31    <a href=\"http://twitter.com/download/iphone\" r...   \n",
       "...                                                 ...   \n",
       "2325  <a href=\"http://twitter.com/download/iphone\" r...   \n",
       "2326  <a href=\"http://twitter.com/download/iphone\" r...   \n",
       "2327  <a href=\"http://twitter.com/download/iphone\" r...   \n",
       "2328  <a href=\"http://twitter.com/download/iphone\" r...   \n",
       "2329  <a href=\"http://twitter.com/download/iphone\" r...   \n",
       "2330  <a href=\"http://twitter.com/download/iphone\" r...   \n",
       "2331  <a href=\"http://twitter.com/download/iphone\" r...   \n",
       "2332  <a href=\"http://twitter.com/download/iphone\" r...   \n",
       "2333  <a href=\"http://twitter.com/download/iphone\" r...   \n",
       "2334  <a href=\"http://twitter.com/download/iphone\" r...   \n",
       "2336  <a href=\"http://twitter.com/download/iphone\" r...   \n",
       "2337  <a href=\"http://twitter.com/download/iphone\" r...   \n",
       "2338  <a href=\"http://twitter.com/download/iphone\" r...   \n",
       "2339  <a href=\"http://twitter.com/download/iphone\" r...   \n",
       "2340  <a href=\"http://twitter.com/download/iphone\" r...   \n",
       "2341  <a href=\"http://twitter.com/download/iphone\" r...   \n",
       "2342  <a href=\"http://twitter.com/download/iphone\" r...   \n",
       "2343  <a href=\"http://twitter.com/download/iphone\" r...   \n",
       "2344  <a href=\"http://twitter.com/download/iphone\" r...   \n",
       "2345  <a href=\"http://twitter.com/download/iphone\" r...   \n",
       "2346  <a href=\"http://twitter.com/download/iphone\" r...   \n",
       "2347  <a href=\"http://twitter.com/download/iphone\" r...   \n",
       "2348  <a href=\"http://twitter.com/download/iphone\" r...   \n",
       "2349  <a href=\"http://twitter.com/download/iphone\" r...   \n",
       "2350  <a href=\"http://twitter.com/download/iphone\" r...   \n",
       "2351  <a href=\"http://twitter.com/download/iphone\" r...   \n",
       "2352  <a href=\"http://twitter.com/download/iphone\" r...   \n",
       "2353  <a href=\"http://twitter.com/download/iphone\" r...   \n",
       "2354  <a href=\"http://twitter.com/download/iphone\" r...   \n",
       "2355  <a href=\"http://twitter.com/download/iphone\" r...   \n",
       "\n",
       "                                                   text  \\\n",
       "0     This is Phineas. He's a mystical boy. Only eve...   \n",
       "1     This is Tilly. She's just checking pup on you....   \n",
       "2     This is Archie. He is a rare Norwegian Pouncin...   \n",
       "3     This is Darla. She commenced a snooze mid meal...   \n",
       "4     This is Franklin. He would like you to stop ca...   \n",
       "5     Here we have a majestic great white breaching ...   \n",
       "6     Meet Jax. He enjoys ice cream so much he gets ...   \n",
       "7     When you watch your owner call another dog a g...   \n",
       "8     This is Zoey. She doesn't want to be one of th...   \n",
       "9     This is Cassie. She is a college pup. Studying...   \n",
       "10    This is Koda. He is a South Australian decksha...   \n",
       "11    This is Bruno. He is a service shark. Only get...   \n",
       "12    Here's a puppo that seems to be on the fence a...   \n",
       "13    This is Ted. He does his best. Sometimes that'...   \n",
       "14    This is Stuart. He's sporting his favorite fan...   \n",
       "15    This is Oliver. You're witnessing one of his m...   \n",
       "16    This is Jim. He found a fren. Taught him how t...   \n",
       "17    This is Zeke. He has a new stick. Very proud o...   \n",
       "18    This is Ralphus. He's powering up. Attempting ...   \n",
       "20    This is Gerald. He was just told he didn't get...   \n",
       "21    This is Jeffrey. He has a monopoly on the pool...   \n",
       "22    I've yet to rate a Venezuelan Hover Wiener. Th...   \n",
       "23    This is Canela. She attempted some fancy porch...   \n",
       "24    You may not have known you needed to see this ...   \n",
       "25    This... is a Jubilant Antarctic House Bear. We...   \n",
       "26    This is Maya. She's very shy. Rarely leaves he...   \n",
       "27    This is Mingus. He's a wonderful father to his...   \n",
       "28    This is Derek. He's late for a dog meeting. 13...   \n",
       "29    This is Roscoe. Another pupper fallen victim t...   \n",
       "31    This is Waffles. His doggles are pupside down....   \n",
       "...                                                 ...   \n",
       "2325  This is Walter. He is an Alaskan Terrapin. Lov...   \n",
       "2326  This is quite the dog. Gets really excited whe...   \n",
       "2327  This is a southern Vesuvius bumblegruff. Can d...   \n",
       "2328  Oh goodness. A super rare northeast Qdoba kang...   \n",
       "2329  Those are sunglasses and a jean jacket. 11/10 ...   \n",
       "2330  Unique dog here. Very small. Lives in containe...   \n",
       "2331  Here we have a mixed Asiago from the Galápagos...   \n",
       "2332  Look at this jokester thinking seat belt laws ...   \n",
       "2333  This is an extremely rare horned Parthenon. No...   \n",
       "2334  This is a funny dog. Weird toes. Won't come do...   \n",
       "2336     Can take selfies 11/10 https://t.co/ws2AMaNwPW   \n",
       "2337  Very concerned about fellow dog trapped in com...   \n",
       "2338  Not familiar with this breed. No tail (weird)....   \n",
       "2339  Oh my. Here you are seeing an Adobe Setter giv...   \n",
       "2340  Can stand on stump for what seems like a while...   \n",
       "2341  This appears to be a Mongolian Presbyterian mi...   \n",
       "2342  Here we have a well-established sunblockerspan...   \n",
       "2343  Let's hope this flight isn't Malaysian (lol). ...   \n",
       "2344  Here we have a northern speckled Rhododendron....   \n",
       "2345  This is the happiest dog you will ever see. Ve...   \n",
       "2346  Here is the Rand Paul of retrievers folks! He'...   \n",
       "2347  My oh my. This is a rare blond Canadian terrie...   \n",
       "2348  Here is a Siberian heavily armored polar bear ...   \n",
       "2349  This is an odd dog. Hard on the outside but lo...   \n",
       "2350  This is a truly beautiful English Wilson Staff...   \n",
       "2351  Here we have a 1949 1st generation vulpix. Enj...   \n",
       "2352  This is a purebred Piers Morgan. Loves to Netf...   \n",
       "2353  Here is a very happy pup. Big fan of well-main...   \n",
       "2354  This is a western brown Mitsubishi terrier. Up...   \n",
       "2355  Here we have a Japanese Irish Setter. Lost eye...   \n",
       "\n",
       "                                          expanded_urls  rating_numerator  \\\n",
       "0     https://twitter.com/dog_rates/status/892420643...                13   \n",
       "1     https://twitter.com/dog_rates/status/892177421...                13   \n",
       "2     https://twitter.com/dog_rates/status/891815181...                12   \n",
       "3     https://twitter.com/dog_rates/status/891689557...                13   \n",
       "4     https://twitter.com/dog_rates/status/891327558...                12   \n",
       "5     https://twitter.com/dog_rates/status/891087950...                13   \n",
       "6     https://gofundme.com/ydvmve-surgery-for-jax,ht...                13   \n",
       "7     https://twitter.com/dog_rates/status/890729181...                13   \n",
       "8     https://twitter.com/dog_rates/status/890609185...                13   \n",
       "9     https://twitter.com/dog_rates/status/890240255...                14   \n",
       "10    https://twitter.com/dog_rates/status/890006608...                13   \n",
       "11    https://twitter.com/dog_rates/status/889880896...                13   \n",
       "12    https://twitter.com/dog_rates/status/889665388...                13   \n",
       "13    https://twitter.com/dog_rates/status/889638837...                12   \n",
       "14    https://twitter.com/dog_rates/status/889531135...                13   \n",
       "15    https://twitter.com/dog_rates/status/889278841...                13   \n",
       "16    https://twitter.com/dog_rates/status/888917238...                12   \n",
       "17    https://twitter.com/dog_rates/status/888804989...                13   \n",
       "18    https://twitter.com/dog_rates/status/888554962...                13   \n",
       "20    https://twitter.com/dog_rates/status/888078434...                12   \n",
       "21    https://twitter.com/dog_rates/status/887705289...                13   \n",
       "22    https://twitter.com/dog_rates/status/887517139...                14   \n",
       "23    https://twitter.com/dog_rates/status/887473957...                13   \n",
       "24    https://twitter.com/dog_rates/status/887343217...                13   \n",
       "25    https://twitter.com/dog_rates/status/887101392...                12   \n",
       "26    https://twitter.com/dog_rates/status/886983233...                13   \n",
       "27    https://www.gofundme.com/mingusneedsus,https:/...                13   \n",
       "28    https://twitter.com/dog_rates/status/886680336...                13   \n",
       "29    https://twitter.com/dog_rates/status/886366144...                12   \n",
       "31    https://twitter.com/dog_rates/status/886258384...                13   \n",
       "...                                                 ...               ...   \n",
       "2325  https://twitter.com/dog_rates/status/666418789...                10   \n",
       "2326  https://twitter.com/dog_rates/status/666411507...                 2   \n",
       "2327  https://twitter.com/dog_rates/status/666407126...                 7   \n",
       "2328  https://twitter.com/dog_rates/status/666396247...                 9   \n",
       "2329  https://twitter.com/dog_rates/status/666373753...                11   \n",
       "2330  https://twitter.com/dog_rates/status/666362758...                 6   \n",
       "2331  https://twitter.com/dog_rates/status/666353288...                 8   \n",
       "2332  https://twitter.com/dog_rates/status/666345417...                10   \n",
       "2333  https://twitter.com/dog_rates/status/666337882...                 9   \n",
       "2334  https://twitter.com/dog_rates/status/666293911...                 3   \n",
       "2336  https://twitter.com/dog_rates/status/666273097...                11   \n",
       "2337  https://twitter.com/dog_rates/status/666268910...                10   \n",
       "2338  https://twitter.com/dog_rates/status/666104133...                 1   \n",
       "2339  https://twitter.com/dog_rates/status/666102155...                11   \n",
       "2340  https://twitter.com/dog_rates/status/666099513...                 8   \n",
       "2341  https://twitter.com/dog_rates/status/666094000...                 9   \n",
       "2342  https://twitter.com/dog_rates/status/666082916...                 6   \n",
       "2343  https://twitter.com/dog_rates/status/666073100...                10   \n",
       "2344  https://twitter.com/dog_rates/status/666071193...                 9   \n",
       "2345  https://twitter.com/dog_rates/status/666063827...                10   \n",
       "2346  https://twitter.com/dog_rates/status/666058600...                 8   \n",
       "2347  https://twitter.com/dog_rates/status/666057090...                 9   \n",
       "2348  https://twitter.com/dog_rates/status/666055525...                10   \n",
       "2349  https://twitter.com/dog_rates/status/666051853...                 2   \n",
       "2350  https://twitter.com/dog_rates/status/666050758...                10   \n",
       "2351  https://twitter.com/dog_rates/status/666049248...                 5   \n",
       "2352  https://twitter.com/dog_rates/status/666044226...                 6   \n",
       "2353  https://twitter.com/dog_rates/status/666033412...                 9   \n",
       "2354  https://twitter.com/dog_rates/status/666029285...                 7   \n",
       "2355  https://twitter.com/dog_rates/status/666020888...                 8   \n",
       "\n",
       "      rating_denominator      name dog_stage  \n",
       "0                     10   Phineas      None  \n",
       "1                     10     Tilly      None  \n",
       "2                     10    Archie      None  \n",
       "3                     10     Darla      None  \n",
       "4                     10  Franklin      None  \n",
       "5                     10      None      None  \n",
       "6                     10       Jax      None  \n",
       "7                     10      None      None  \n",
       "8                     10      Zoey      None  \n",
       "9                     10    Cassie     doggo  \n",
       "10                    10      Koda      None  \n",
       "11                    10     Bruno      None  \n",
       "12                    10      None     puppo  \n",
       "13                    10       Ted      None  \n",
       "14                    10    Stuart     puppo  \n",
       "15                    10    Oliver      None  \n",
       "16                    10       Jim      None  \n",
       "17                    10      Zeke      None  \n",
       "18                    10   Ralphus      None  \n",
       "20                    10    Gerald      None  \n",
       "21                    10   Jeffrey      None  \n",
       "22                    10      such      None  \n",
       "23                    10    Canela      None  \n",
       "24                    10      None      None  \n",
       "25                    10      None      None  \n",
       "26                    10      Maya      None  \n",
       "27                    10    Mingus      None  \n",
       "28                    10     Derek      None  \n",
       "29                    10    Roscoe    pupper  \n",
       "31                    10   Waffles      None  \n",
       "...                  ...       ...       ...  \n",
       "2325                  10    Walter      None  \n",
       "2326                  10     quite      None  \n",
       "2327                  10         a      None  \n",
       "2328                  10      None      None  \n",
       "2329                  10      None      None  \n",
       "2330                  10      None      None  \n",
       "2331                  10      None      None  \n",
       "2332                  10      None      None  \n",
       "2333                  10        an      None  \n",
       "2334                  10         a      None  \n",
       "2336                  10      None      None  \n",
       "2337                  10      None      None  \n",
       "2338                  10      None      None  \n",
       "2339                  10      None      None  \n",
       "2340                  10      None      None  \n",
       "2341                  10      None      None  \n",
       "2342                  10      None      None  \n",
       "2343                  10      None      None  \n",
       "2344                  10      None      None  \n",
       "2345                  10       the      None  \n",
       "2346                  10       the      None  \n",
       "2347                  10         a      None  \n",
       "2348                  10         a      None  \n",
       "2349                  10        an      None  \n",
       "2350                  10         a      None  \n",
       "2351                  10      None      None  \n",
       "2352                  10         a      None  \n",
       "2353                  10         a      None  \n",
       "2354                  10         a      None  \n",
       "2355                  10      None      None  \n",
       "\n",
       "[2075 rows x 9 columns]"
      ]
     },
     "execution_count": 48,
     "metadata": {},
     "output_type": "execute_result"
    }
   ],
   "source": [
    "wrd_archive_clean"
   ]
  },
  {
   "cell_type": "markdown",
   "metadata": {},
   "source": [
    "### Issue 7-Q"
   ]
  },
  {
   "cell_type": "markdown",
   "metadata": {},
   "source": [
    "#### Define\n",
    "\n",
    "**wrd_image_prediction_clean/p1, p1_dog, p1_conf, p2, p2_dog, p2_conf, p3, p3_dog, p3_conf**\n",
    "\n",
    "For quality I will create two new columns for image prediction and confidence level. After I will drop p1, p2, p3, p1_conf, p2_conf, p3_conf, p1_dog, p2_conf and p3_conf"
   ]
  },
  {
   "cell_type": "markdown",
   "metadata": {},
   "source": [
    "#### Define\n"
   ]
  },
  {
   "cell_type": "markdown",
   "metadata": {},
   "source": [
    "#### Code"
   ]
  },
  {
   "cell_type": "code",
   "execution_count": 51,
   "metadata": {},
   "outputs": [],
   "source": [
    "# Create a list to store the best prediction and confidence values\n",
    "prediction_list = []\n",
    "\n",
    "# Define a function to perform the extraction process\n",
    "def extract_breed_info(row):\n",
    "    \"\"\"\n",
    "        Extracts the best prediction and confidence value from passed row.\n",
    "        Params:\n",
    "            row: a row from the dataframe of interest.\n",
    "        Output:\n",
    "            A dictionary containing prediction and confidence appended into prediction list.\n",
    "            Prints a status update of extraction process.\n",
    "    \"\"\"\n",
    "    if row.p1_dog:\n",
    "        prediction_list.append({'breed': row.p1,'confidence': row.p1_conf})\n",
    "    elif row.p2_dog:\n",
    "        prediction_list.append({'breed': row.p2,'confidence': row.p2_conf})\n",
    "    elif row.p3_dog:\n",
    "        prediction_list.append({'breed': row.p3,'confidence': row.p3_conf})\n",
    "    else:\n",
    "        prediction_list.append({'breed': 'Unknown','confidence': 0})\n",
    "        \n",
    "    return 'Info extracted to prediction list'"
   ]
  },
  {
   "cell_type": "code",
   "execution_count": 53,
   "metadata": {},
   "outputs": [
    {
     "data": {
      "text/plain": [
       "0       Info extracted to prediction list\n",
       "1       Info extracted to prediction list\n",
       "2       Info extracted to prediction list\n",
       "3       Info extracted to prediction list\n",
       "4       Info extracted to prediction list\n",
       "5       Info extracted to prediction list\n",
       "6       Info extracted to prediction list\n",
       "7       Info extracted to prediction list\n",
       "8       Info extracted to prediction list\n",
       "9       Info extracted to prediction list\n",
       "10      Info extracted to prediction list\n",
       "11      Info extracted to prediction list\n",
       "12      Info extracted to prediction list\n",
       "13      Info extracted to prediction list\n",
       "14      Info extracted to prediction list\n",
       "15      Info extracted to prediction list\n",
       "16      Info extracted to prediction list\n",
       "17      Info extracted to prediction list\n",
       "18      Info extracted to prediction list\n",
       "19      Info extracted to prediction list\n",
       "20      Info extracted to prediction list\n",
       "21      Info extracted to prediction list\n",
       "22      Info extracted to prediction list\n",
       "23      Info extracted to prediction list\n",
       "24      Info extracted to prediction list\n",
       "25      Info extracted to prediction list\n",
       "26      Info extracted to prediction list\n",
       "27      Info extracted to prediction list\n",
       "28      Info extracted to prediction list\n",
       "29      Info extracted to prediction list\n",
       "                      ...                \n",
       "2045    Info extracted to prediction list\n",
       "2046    Info extracted to prediction list\n",
       "2047    Info extracted to prediction list\n",
       "2048    Info extracted to prediction list\n",
       "2049    Info extracted to prediction list\n",
       "2050    Info extracted to prediction list\n",
       "2051    Info extracted to prediction list\n",
       "2052    Info extracted to prediction list\n",
       "2053    Info extracted to prediction list\n",
       "2054    Info extracted to prediction list\n",
       "2055    Info extracted to prediction list\n",
       "2056    Info extracted to prediction list\n",
       "2057    Info extracted to prediction list\n",
       "2058    Info extracted to prediction list\n",
       "2059    Info extracted to prediction list\n",
       "2060    Info extracted to prediction list\n",
       "2061    Info extracted to prediction list\n",
       "2062    Info extracted to prediction list\n",
       "2063    Info extracted to prediction list\n",
       "2064    Info extracted to prediction list\n",
       "2065    Info extracted to prediction list\n",
       "2066    Info extracted to prediction list\n",
       "2067    Info extracted to prediction list\n",
       "2068    Info extracted to prediction list\n",
       "2069    Info extracted to prediction list\n",
       "2070    Info extracted to prediction list\n",
       "2071    Info extracted to prediction list\n",
       "2072    Info extracted to prediction list\n",
       "2073    Info extracted to prediction list\n",
       "2074    Info extracted to prediction list\n",
       "Length: 2075, dtype: object"
      ]
     },
     "execution_count": 53,
     "metadata": {},
     "output_type": "execute_result"
    }
   ],
   "source": [
    "# Run the extraction process\n",
    "wrd_image_prediction_clean.apply(extract_breed_info, axis=1)"
   ]
  },
  {
   "cell_type": "code",
   "execution_count": 56,
   "metadata": {},
   "outputs": [],
   "source": [
    "# Assign the values in prediction list into new columns in predictions_clean\n",
    "wrd_image_prediction_clean[['breed', 'confidence']] = pd.DataFrame(prediction_list)\n",
    "\n",
    "# Round confidence to three decimal places\n",
    "wrd_image_prediction_clean.confidence = round(wrd_image_prediction_clean.confidence, 3)"
   ]
  },
  {
   "cell_type": "code",
   "execution_count": 57,
   "metadata": {},
   "outputs": [
    {
     "data": {
      "text/html": [
       "<div>\n",
       "<style scoped>\n",
       "    .dataframe tbody tr th:only-of-type {\n",
       "        vertical-align: middle;\n",
       "    }\n",
       "\n",
       "    .dataframe tbody tr th {\n",
       "        vertical-align: top;\n",
       "    }\n",
       "\n",
       "    .dataframe thead th {\n",
       "        text-align: right;\n",
       "    }\n",
       "</style>\n",
       "<table border=\"1\" class=\"dataframe\">\n",
       "  <thead>\n",
       "    <tr style=\"text-align: right;\">\n",
       "      <th></th>\n",
       "      <th>p1</th>\n",
       "      <th>p1_conf</th>\n",
       "      <th>p1_dog</th>\n",
       "      <th>p2</th>\n",
       "      <th>p2_conf</th>\n",
       "      <th>p2_dog</th>\n",
       "      <th>p3</th>\n",
       "      <th>p3_conf</th>\n",
       "      <th>p3_dog</th>\n",
       "      <th>breed</th>\n",
       "      <th>confidence</th>\n",
       "    </tr>\n",
       "  </thead>\n",
       "  <tbody>\n",
       "    <tr>\n",
       "      <th>635</th>\n",
       "      <td>Irish_setter</td>\n",
       "      <td>0.406047</td>\n",
       "      <td>True</td>\n",
       "      <td>cocker_spaniel</td>\n",
       "      <td>0.345646</td>\n",
       "      <td>True</td>\n",
       "      <td>Airedale</td>\n",
       "      <td>1.479120e-01</td>\n",
       "      <td>True</td>\n",
       "      <td>Irish_setter</td>\n",
       "      <td>0.406</td>\n",
       "    </tr>\n",
       "    <tr>\n",
       "      <th>1748</th>\n",
       "      <td>dingo</td>\n",
       "      <td>0.280949</td>\n",
       "      <td>False</td>\n",
       "      <td>German_shepherd</td>\n",
       "      <td>0.194044</td>\n",
       "      <td>True</td>\n",
       "      <td>Pembroke</td>\n",
       "      <td>1.200510e-01</td>\n",
       "      <td>True</td>\n",
       "      <td>German_shepherd</td>\n",
       "      <td>0.194</td>\n",
       "    </tr>\n",
       "    <tr>\n",
       "      <th>119</th>\n",
       "      <td>Chihuahua</td>\n",
       "      <td>0.664834</td>\n",
       "      <td>True</td>\n",
       "      <td>cowboy_boot</td>\n",
       "      <td>0.060343</td>\n",
       "      <td>False</td>\n",
       "      <td>giant_panda</td>\n",
       "      <td>5.983750e-02</td>\n",
       "      <td>False</td>\n",
       "      <td>Chihuahua</td>\n",
       "      <td>0.665</td>\n",
       "    </tr>\n",
       "    <tr>\n",
       "      <th>1556</th>\n",
       "      <td>doormat</td>\n",
       "      <td>0.874431</td>\n",
       "      <td>False</td>\n",
       "      <td>French_bulldog</td>\n",
       "      <td>0.018759</td>\n",
       "      <td>True</td>\n",
       "      <td>Boston_bull</td>\n",
       "      <td>1.513440e-02</td>\n",
       "      <td>True</td>\n",
       "      <td>French_bulldog</td>\n",
       "      <td>0.019</td>\n",
       "    </tr>\n",
       "    <tr>\n",
       "      <th>1760</th>\n",
       "      <td>shopping_cart</td>\n",
       "      <td>0.995941</td>\n",
       "      <td>False</td>\n",
       "      <td>shopping_basket</td>\n",
       "      <td>0.004057</td>\n",
       "      <td>False</td>\n",
       "      <td>mousetrap</td>\n",
       "      <td>8.832830e-07</td>\n",
       "      <td>False</td>\n",
       "      <td>Unknown</td>\n",
       "      <td>0.000</td>\n",
       "    </tr>\n",
       "  </tbody>\n",
       "</table>\n",
       "</div>"
      ],
      "text/plain": [
       "                 p1   p1_conf  p1_dog               p2   p2_conf  p2_dog  \\\n",
       "635    Irish_setter  0.406047    True   cocker_spaniel  0.345646    True   \n",
       "1748          dingo  0.280949   False  German_shepherd  0.194044    True   \n",
       "119       Chihuahua  0.664834    True      cowboy_boot  0.060343   False   \n",
       "1556        doormat  0.874431   False   French_bulldog  0.018759    True   \n",
       "1760  shopping_cart  0.995941   False  shopping_basket  0.004057   False   \n",
       "\n",
       "               p3       p3_conf  p3_dog            breed  confidence  \n",
       "635      Airedale  1.479120e-01    True     Irish_setter       0.406  \n",
       "1748     Pembroke  1.200510e-01    True  German_shepherd       0.194  \n",
       "119   giant_panda  5.983750e-02   False        Chihuahua       0.665  \n",
       "1556  Boston_bull  1.513440e-02    True   French_bulldog       0.019  \n",
       "1760    mousetrap  8.832830e-07   False          Unknown       0.000  "
      ]
     },
     "execution_count": 57,
     "metadata": {},
     "output_type": "execute_result"
    }
   ],
   "source": [
    "# Verify the extraction process\n",
    "wrd_image_prediction_clean.iloc[:, 3:].sample(5)"
   ]
  },
  {
   "cell_type": "code",
   "execution_count": 87,
   "metadata": {},
   "outputs": [
    {
     "ename": "ValueError",
     "evalue": "Length of values does not match length of index",
     "output_type": "error",
     "traceback": [
      "\u001b[0;31m---------------------------------------------------------------------------\u001b[0m",
      "\u001b[0;31mValueError\u001b[0m                                Traceback (most recent call last)",
      "\u001b[0;32m<ipython-input-87-0200c4dcf36a>\u001b[0m in \u001b[0;36m<module>\u001b[0;34m()\u001b[0m\n\u001b[1;32m      1\u001b[0m \u001b[0;31m#create new columns\u001b[0m\u001b[0;34m\u001b[0m\u001b[0;34m\u001b[0m\u001b[0m\n\u001b[0;32m----> 2\u001b[0;31m \u001b[0mwrd_image_prediction_clean\u001b[0m\u001b[0;34m[\u001b[0m\u001b[0;34m'dog_breed'\u001b[0m\u001b[0;34m]\u001b[0m \u001b[0;34m=\u001b[0m \u001b[0mdog_breed\u001b[0m\u001b[0;34m\u001b[0m\u001b[0m\n\u001b[0m\u001b[1;32m      3\u001b[0m \u001b[0mwrd_image_prediction_clean\u001b[0m\u001b[0;34m[\u001b[0m\u001b[0;34m'confidence_level'\u001b[0m\u001b[0;34m]\u001b[0m \u001b[0;34m=\u001b[0m \u001b[0mconfidence_level\u001b[0m\u001b[0;34m\u001b[0m\u001b[0m\n",
      "\u001b[0;32m/opt/conda/lib/python3.6/site-packages/pandas/core/frame.py\u001b[0m in \u001b[0;36m__setitem__\u001b[0;34m(self, key, value)\u001b[0m\n\u001b[1;32m   3117\u001b[0m         \u001b[0;32melse\u001b[0m\u001b[0;34m:\u001b[0m\u001b[0;34m\u001b[0m\u001b[0m\n\u001b[1;32m   3118\u001b[0m             \u001b[0;31m# set column\u001b[0m\u001b[0;34m\u001b[0m\u001b[0;34m\u001b[0m\u001b[0m\n\u001b[0;32m-> 3119\u001b[0;31m             \u001b[0mself\u001b[0m\u001b[0;34m.\u001b[0m\u001b[0m_set_item\u001b[0m\u001b[0;34m(\u001b[0m\u001b[0mkey\u001b[0m\u001b[0;34m,\u001b[0m \u001b[0mvalue\u001b[0m\u001b[0;34m)\u001b[0m\u001b[0;34m\u001b[0m\u001b[0m\n\u001b[0m\u001b[1;32m   3120\u001b[0m \u001b[0;34m\u001b[0m\u001b[0m\n\u001b[1;32m   3121\u001b[0m     \u001b[0;32mdef\u001b[0m \u001b[0m_setitem_slice\u001b[0m\u001b[0;34m(\u001b[0m\u001b[0mself\u001b[0m\u001b[0;34m,\u001b[0m \u001b[0mkey\u001b[0m\u001b[0;34m,\u001b[0m \u001b[0mvalue\u001b[0m\u001b[0;34m)\u001b[0m\u001b[0;34m:\u001b[0m\u001b[0;34m\u001b[0m\u001b[0m\n",
      "\u001b[0;32m/opt/conda/lib/python3.6/site-packages/pandas/core/frame.py\u001b[0m in \u001b[0;36m_set_item\u001b[0;34m(self, key, value)\u001b[0m\n\u001b[1;32m   3192\u001b[0m \u001b[0;34m\u001b[0m\u001b[0m\n\u001b[1;32m   3193\u001b[0m         \u001b[0mself\u001b[0m\u001b[0;34m.\u001b[0m\u001b[0m_ensure_valid_index\u001b[0m\u001b[0;34m(\u001b[0m\u001b[0mvalue\u001b[0m\u001b[0;34m)\u001b[0m\u001b[0;34m\u001b[0m\u001b[0m\n\u001b[0;32m-> 3194\u001b[0;31m         \u001b[0mvalue\u001b[0m \u001b[0;34m=\u001b[0m \u001b[0mself\u001b[0m\u001b[0;34m.\u001b[0m\u001b[0m_sanitize_column\u001b[0m\u001b[0;34m(\u001b[0m\u001b[0mkey\u001b[0m\u001b[0;34m,\u001b[0m \u001b[0mvalue\u001b[0m\u001b[0;34m)\u001b[0m\u001b[0;34m\u001b[0m\u001b[0m\n\u001b[0m\u001b[1;32m   3195\u001b[0m         \u001b[0mNDFrame\u001b[0m\u001b[0;34m.\u001b[0m\u001b[0m_set_item\u001b[0m\u001b[0;34m(\u001b[0m\u001b[0mself\u001b[0m\u001b[0;34m,\u001b[0m \u001b[0mkey\u001b[0m\u001b[0;34m,\u001b[0m \u001b[0mvalue\u001b[0m\u001b[0;34m)\u001b[0m\u001b[0;34m\u001b[0m\u001b[0m\n\u001b[1;32m   3196\u001b[0m \u001b[0;34m\u001b[0m\u001b[0m\n",
      "\u001b[0;32m/opt/conda/lib/python3.6/site-packages/pandas/core/frame.py\u001b[0m in \u001b[0;36m_sanitize_column\u001b[0;34m(self, key, value, broadcast)\u001b[0m\n\u001b[1;32m   3389\u001b[0m \u001b[0;34m\u001b[0m\u001b[0m\n\u001b[1;32m   3390\u001b[0m             \u001b[0;31m# turn me into an ndarray\u001b[0m\u001b[0;34m\u001b[0m\u001b[0;34m\u001b[0m\u001b[0m\n\u001b[0;32m-> 3391\u001b[0;31m             \u001b[0mvalue\u001b[0m \u001b[0;34m=\u001b[0m \u001b[0m_sanitize_index\u001b[0m\u001b[0;34m(\u001b[0m\u001b[0mvalue\u001b[0m\u001b[0;34m,\u001b[0m \u001b[0mself\u001b[0m\u001b[0;34m.\u001b[0m\u001b[0mindex\u001b[0m\u001b[0;34m,\u001b[0m \u001b[0mcopy\u001b[0m\u001b[0;34m=\u001b[0m\u001b[0;32mFalse\u001b[0m\u001b[0;34m)\u001b[0m\u001b[0;34m\u001b[0m\u001b[0m\n\u001b[0m\u001b[1;32m   3392\u001b[0m             \u001b[0;32mif\u001b[0m \u001b[0;32mnot\u001b[0m \u001b[0misinstance\u001b[0m\u001b[0;34m(\u001b[0m\u001b[0mvalue\u001b[0m\u001b[0;34m,\u001b[0m \u001b[0;34m(\u001b[0m\u001b[0mnp\u001b[0m\u001b[0;34m.\u001b[0m\u001b[0mndarray\u001b[0m\u001b[0;34m,\u001b[0m \u001b[0mIndex\u001b[0m\u001b[0;34m)\u001b[0m\u001b[0;34m)\u001b[0m\u001b[0;34m:\u001b[0m\u001b[0;34m\u001b[0m\u001b[0m\n\u001b[1;32m   3393\u001b[0m                 \u001b[0;32mif\u001b[0m \u001b[0misinstance\u001b[0m\u001b[0;34m(\u001b[0m\u001b[0mvalue\u001b[0m\u001b[0;34m,\u001b[0m \u001b[0mlist\u001b[0m\u001b[0;34m)\u001b[0m \u001b[0;32mand\u001b[0m \u001b[0mlen\u001b[0m\u001b[0;34m(\u001b[0m\u001b[0mvalue\u001b[0m\u001b[0;34m)\u001b[0m \u001b[0;34m>\u001b[0m \u001b[0;36m0\u001b[0m\u001b[0;34m:\u001b[0m\u001b[0;34m\u001b[0m\u001b[0m\n",
      "\u001b[0;32m/opt/conda/lib/python3.6/site-packages/pandas/core/series.py\u001b[0m in \u001b[0;36m_sanitize_index\u001b[0;34m(data, index, copy)\u001b[0m\n\u001b[1;32m   3999\u001b[0m \u001b[0;34m\u001b[0m\u001b[0m\n\u001b[1;32m   4000\u001b[0m     \u001b[0;32mif\u001b[0m \u001b[0mlen\u001b[0m\u001b[0;34m(\u001b[0m\u001b[0mdata\u001b[0m\u001b[0;34m)\u001b[0m \u001b[0;34m!=\u001b[0m \u001b[0mlen\u001b[0m\u001b[0;34m(\u001b[0m\u001b[0mindex\u001b[0m\u001b[0;34m)\u001b[0m\u001b[0;34m:\u001b[0m\u001b[0;34m\u001b[0m\u001b[0m\n\u001b[0;32m-> 4001\u001b[0;31m         \u001b[0;32mraise\u001b[0m \u001b[0mValueError\u001b[0m\u001b[0;34m(\u001b[0m\u001b[0;34m'Length of values does not match length of '\u001b[0m \u001b[0;34m'index'\u001b[0m\u001b[0;34m)\u001b[0m\u001b[0;34m\u001b[0m\u001b[0m\n\u001b[0m\u001b[1;32m   4002\u001b[0m \u001b[0;34m\u001b[0m\u001b[0m\n\u001b[1;32m   4003\u001b[0m     \u001b[0;32mif\u001b[0m \u001b[0misinstance\u001b[0m\u001b[0;34m(\u001b[0m\u001b[0mdata\u001b[0m\u001b[0;34m,\u001b[0m \u001b[0mABCIndexClass\u001b[0m\u001b[0;34m)\u001b[0m \u001b[0;32mand\u001b[0m \u001b[0;32mnot\u001b[0m \u001b[0mcopy\u001b[0m\u001b[0;34m:\u001b[0m\u001b[0;34m\u001b[0m\u001b[0m\n",
      "\u001b[0;31mValueError\u001b[0m: Length of values does not match length of index"
     ]
    }
   ],
   "source": [
    "#create new columns\n",
    "wrd_image_prediction_clean['dog_breed'] = dog_breed\n",
    "wrd_image_prediction_clean['confidence_level'] = confidence_level"
   ]
  },
  {
   "cell_type": "code",
   "execution_count": 58,
   "metadata": {},
   "outputs": [],
   "source": [
    "# Create a list of unwanted columns\n",
    "unwanted_columns = ['p1','p2', 'p3','p1_conf', 'p2_conf', 'p3_conf','p1_dog', 'p2_dog', 'p3_dog', 'img_num']\n",
    "\n",
    "# Drop all unwanted columns\n",
    "wrd_image_prediction_clean.drop(columns=unwanted_columns, inplace=True)"
   ]
  },
  {
   "cell_type": "markdown",
   "metadata": {},
   "source": [
    "#### Test"
   ]
  },
  {
   "cell_type": "code",
   "execution_count": 60,
   "metadata": {},
   "outputs": [
    {
     "data": {
      "text/html": [
       "<div>\n",
       "<style scoped>\n",
       "    .dataframe tbody tr th:only-of-type {\n",
       "        vertical-align: middle;\n",
       "    }\n",
       "\n",
       "    .dataframe tbody tr th {\n",
       "        vertical-align: top;\n",
       "    }\n",
       "\n",
       "    .dataframe thead th {\n",
       "        text-align: right;\n",
       "    }\n",
       "</style>\n",
       "<table border=\"1\" class=\"dataframe\">\n",
       "  <thead>\n",
       "    <tr style=\"text-align: right;\">\n",
       "      <th></th>\n",
       "      <th>tweet_id</th>\n",
       "      <th>jpg_url</th>\n",
       "      <th>breed</th>\n",
       "      <th>confidence</th>\n",
       "    </tr>\n",
       "  </thead>\n",
       "  <tbody>\n",
       "    <tr>\n",
       "      <th>0</th>\n",
       "      <td>666020888022790149</td>\n",
       "      <td>https://pbs.twimg.com/media/CT4udn0WwAA0aMy.jpg</td>\n",
       "      <td>Welsh_springer_spaniel</td>\n",
       "      <td>0.465</td>\n",
       "    </tr>\n",
       "    <tr>\n",
       "      <th>1</th>\n",
       "      <td>666029285002620928</td>\n",
       "      <td>https://pbs.twimg.com/media/CT42GRgUYAA5iDo.jpg</td>\n",
       "      <td>redbone</td>\n",
       "      <td>0.507</td>\n",
       "    </tr>\n",
       "    <tr>\n",
       "      <th>2</th>\n",
       "      <td>666033412701032449</td>\n",
       "      <td>https://pbs.twimg.com/media/CT4521TWwAEvMyu.jpg</td>\n",
       "      <td>German_shepherd</td>\n",
       "      <td>0.596</td>\n",
       "    </tr>\n",
       "    <tr>\n",
       "      <th>3</th>\n",
       "      <td>666044226329800704</td>\n",
       "      <td>https://pbs.twimg.com/media/CT5Dr8HUEAA-lEu.jpg</td>\n",
       "      <td>Rhodesian_ridgeback</td>\n",
       "      <td>0.408</td>\n",
       "    </tr>\n",
       "    <tr>\n",
       "      <th>4</th>\n",
       "      <td>666049248165822465</td>\n",
       "      <td>https://pbs.twimg.com/media/CT5IQmsXIAAKY4A.jpg</td>\n",
       "      <td>miniature_pinscher</td>\n",
       "      <td>0.560</td>\n",
       "    </tr>\n",
       "  </tbody>\n",
       "</table>\n",
       "</div>"
      ],
      "text/plain": [
       "             tweet_id                                          jpg_url  \\\n",
       "0  666020888022790149  https://pbs.twimg.com/media/CT4udn0WwAA0aMy.jpg   \n",
       "1  666029285002620928  https://pbs.twimg.com/media/CT42GRgUYAA5iDo.jpg   \n",
       "2  666033412701032449  https://pbs.twimg.com/media/CT4521TWwAEvMyu.jpg   \n",
       "3  666044226329800704  https://pbs.twimg.com/media/CT5Dr8HUEAA-lEu.jpg   \n",
       "4  666049248165822465  https://pbs.twimg.com/media/CT5IQmsXIAAKY4A.jpg   \n",
       "\n",
       "                    breed  confidence  \n",
       "0  Welsh_springer_spaniel       0.465  \n",
       "1                 redbone       0.507  \n",
       "2         German_shepherd       0.596  \n",
       "3     Rhodesian_ridgeback       0.408  \n",
       "4      miniature_pinscher       0.560  "
      ]
     },
     "execution_count": 60,
     "metadata": {},
     "output_type": "execute_result"
    }
   ],
   "source": [
    "wrd_image_prediction_clean.head(5)"
   ]
  },
  {
   "cell_type": "markdown",
   "metadata": {},
   "source": [
    "### Issue 8-Q"
   ]
  },
  {
   "cell_type": "markdown",
   "metadata": {},
   "source": [
    "#### Define:\n",
    "**wrd_image_prediction_clean/dog_breed**\n",
    "\n",
    "Replace '_' with space in breed and Replace '-' with space/no space for breeds wherever needed based on actual name browsing"
   ]
  },
  {
   "cell_type": "markdown",
   "metadata": {},
   "source": [
    "#### Code"
   ]
  },
  {
   "cell_type": "code",
   "execution_count": 61,
   "metadata": {},
   "outputs": [],
   "source": [
    "# Remove all underscores and format the breed text to titlecase.\n",
    "wrd_image_prediction_clean.breed = wrd_image_prediction_clean.breed.str.replace('_', ' ').str.title()"
   ]
  },
  {
   "cell_type": "markdown",
   "metadata": {},
   "source": [
    "#### Test"
   ]
  },
  {
   "cell_type": "code",
   "execution_count": 62,
   "metadata": {},
   "outputs": [
    {
     "data": {
      "text/plain": [
       "array(['Welsh Springer Spaniel', 'Redbone', 'German Shepherd',\n",
       "       'Rhodesian Ridgeback', 'Miniature Pinscher', 'Bernese Mountain Dog',\n",
       "       'Unknown', 'Chow', 'Golden Retriever', 'Miniature Poodle',\n",
       "       'Gordon Setter', 'Walker Hound', 'Pug', 'Bloodhound', 'Lhasa',\n",
       "       'English Setter', 'Italian Greyhound', 'Maltese Dog',\n",
       "       'Newfoundland', 'Malamute', 'Soft-Coated Wheaten Terrier',\n",
       "       'Chihuahua', 'Black-And-Tan Coonhound', 'Toy Terrier',\n",
       "       'Blenheim Spaniel', 'Pembroke', 'Irish Terrier',\n",
       "       'Chesapeake Bay Retriever', 'Curly-Coated Retriever', 'Dalmatian',\n",
       "       'Ibizan Hound', 'Border Collie', 'Labrador Retriever',\n",
       "       'Miniature Schnauzer', 'Airedale', 'Rottweiler',\n",
       "       'West Highland White Terrier', 'Toy Poodle', 'Giant Schnauzer',\n",
       "       'Vizsla', 'Siberian Husky', 'Papillon', 'Saint Bernard',\n",
       "       'Tibetan Terrier', 'Borzoi', 'Beagle', 'Yorkshire Terrier',\n",
       "       'Pomeranian', 'Kuvasz', 'Flat-Coated Retriever',\n",
       "       'Norwegian Elkhound', 'Boxer', 'Eskimo Dog', 'Standard Poodle',\n",
       "       'Staffordshire Bullterrier', 'Basenji', 'Lakeland Terrier',\n",
       "       'American Staffordshire Terrier', 'Shih-Tzu', 'Groenendael',\n",
       "       'French Bulldog', 'Pekinese', 'Komondor', 'Malinois', 'Kelpie',\n",
       "       'Brittany Spaniel', 'Cocker Spaniel', 'Basset', 'English Springer',\n",
       "       'Cardigan', 'Brabancon Griffon', 'German Short-Haired Pointer',\n",
       "       'Shetland Sheepdog', 'Cairn', 'Whippet', 'Sussex Spaniel',\n",
       "       'Dandie Dinmont', 'Norwich Terrier', 'Keeshond', 'Norfolk Terrier',\n",
       "       'Old English Sheepdog', 'Samoyed', 'Scottish Deerhound', 'Doberman',\n",
       "       'Irish Wolfhound', 'Great Pyrenees', 'Schipperke', 'Bull Mastiff',\n",
       "       'Collie', 'Greater Swiss Mountain Dog', 'Standard Schnauzer',\n",
       "       'Irish Water Spaniel', 'Boston Bull', 'Japanese Spaniel',\n",
       "       'Bedlington Terrier', 'Entlebucher', 'Bluetick', 'Irish Setter',\n",
       "       'Leonberg', 'Mexican Hairless', 'Weimaraner', 'Great Dane',\n",
       "       'Tibetan Mastiff', 'Scotch Terrier', 'Australian Terrier', 'Briard',\n",
       "       'Appenzeller', 'Border Terrier', 'Wire-Haired Fox Terrier',\n",
       "       'Saluki', 'Silky Terrier', 'Afghan Hound', 'Clumber',\n",
       "       'Bouvier Des Flandres'], dtype=object)"
      ]
     },
     "execution_count": 62,
     "metadata": {},
     "output_type": "execute_result"
    }
   ],
   "source": [
    "wrd_image_prediction_clean.breed.unique()\n"
   ]
  },
  {
   "cell_type": "markdown",
   "metadata": {},
   "source": [
    "### Issue 18-T"
   ]
  },
  {
   "cell_type": "markdown",
   "metadata": {},
   "source": [
    "#### Define:\n",
    "**wrd_image_prediction/**\n",
    "\n",
    "Merge all DataFrames into one Master DataFrame"
   ]
  },
  {
   "cell_type": "markdown",
   "metadata": {},
   "source": [
    "#### Code"
   ]
  },
  {
   "cell_type": "code",
   "execution_count": 63,
   "metadata": {},
   "outputs": [
    {
     "ename": "ValueError",
     "evalue": "You are trying to merge on object and int64 columns. If you wish to proceed you should use pd.concat",
     "output_type": "error",
     "traceback": [
      "\u001b[0;31m---------------------------------------------------------------------------\u001b[0m",
      "\u001b[0;31mValueError\u001b[0m                                Traceback (most recent call last)",
      "\u001b[0;32m<ipython-input-63-92bc83f49dd2>\u001b[0m in \u001b[0;36m<module>\u001b[0;34m()\u001b[0m\n\u001b[1;32m      1\u001b[0m \u001b[0;31m# Merge archive clean and prediction clean into master df\u001b[0m\u001b[0;34m\u001b[0m\u001b[0;34m\u001b[0m\u001b[0m\n\u001b[0;32m----> 2\u001b[0;31m \u001b[0mmaster_df\u001b[0m \u001b[0;34m=\u001b[0m \u001b[0mpd\u001b[0m\u001b[0;34m.\u001b[0m\u001b[0mmerge\u001b[0m\u001b[0;34m(\u001b[0m\u001b[0mwrd_archive_clean\u001b[0m\u001b[0;34m,\u001b[0m \u001b[0mwrd_image_prediction\u001b[0m\u001b[0;34m,\u001b[0m \u001b[0mon\u001b[0m\u001b[0;34m=\u001b[0m\u001b[0;34m'tweet_id'\u001b[0m\u001b[0;34m,\u001b[0m \u001b[0mhow\u001b[0m\u001b[0;34m=\u001b[0m\u001b[0;34m'inner'\u001b[0m\u001b[0;34m)\u001b[0m\u001b[0;34m\u001b[0m\u001b[0m\n\u001b[0m\u001b[1;32m      3\u001b[0m \u001b[0;34m\u001b[0m\u001b[0m\n\u001b[1;32m      4\u001b[0m \u001b[0;31m# Merge json clean into master df\u001b[0m\u001b[0;34m\u001b[0m\u001b[0;34m\u001b[0m\u001b[0m\n\u001b[1;32m      5\u001b[0m \u001b[0mmaster_df\u001b[0m \u001b[0;34m=\u001b[0m \u001b[0mpd\u001b[0m\u001b[0;34m.\u001b[0m\u001b[0mmerge\u001b[0m\u001b[0;34m(\u001b[0m\u001b[0mmaster_df\u001b[0m\u001b[0;34m,\u001b[0m \u001b[0mwrd_archive_add\u001b[0m\u001b[0;34m,\u001b[0m \u001b[0mon\u001b[0m\u001b[0;34m=\u001b[0m\u001b[0;34m'tweet_id'\u001b[0m\u001b[0;34m,\u001b[0m \u001b[0mhow\u001b[0m\u001b[0;34m=\u001b[0m\u001b[0;34m'inner'\u001b[0m\u001b[0;34m)\u001b[0m\u001b[0;34m\u001b[0m\u001b[0m\n",
      "\u001b[0;32m/opt/conda/lib/python3.6/site-packages/pandas/core/reshape/merge.py\u001b[0m in \u001b[0;36mmerge\u001b[0;34m(left, right, how, on, left_on, right_on, left_index, right_index, sort, suffixes, copy, indicator, validate)\u001b[0m\n\u001b[1;32m     59\u001b[0m                          \u001b[0mright_index\u001b[0m\u001b[0;34m=\u001b[0m\u001b[0mright_index\u001b[0m\u001b[0;34m,\u001b[0m \u001b[0msort\u001b[0m\u001b[0;34m=\u001b[0m\u001b[0msort\u001b[0m\u001b[0;34m,\u001b[0m \u001b[0msuffixes\u001b[0m\u001b[0;34m=\u001b[0m\u001b[0msuffixes\u001b[0m\u001b[0;34m,\u001b[0m\u001b[0;34m\u001b[0m\u001b[0m\n\u001b[1;32m     60\u001b[0m                          \u001b[0mcopy\u001b[0m\u001b[0;34m=\u001b[0m\u001b[0mcopy\u001b[0m\u001b[0;34m,\u001b[0m \u001b[0mindicator\u001b[0m\u001b[0;34m=\u001b[0m\u001b[0mindicator\u001b[0m\u001b[0;34m,\u001b[0m\u001b[0;34m\u001b[0m\u001b[0m\n\u001b[0;32m---> 61\u001b[0;31m                          validate=validate)\n\u001b[0m\u001b[1;32m     62\u001b[0m     \u001b[0;32mreturn\u001b[0m \u001b[0mop\u001b[0m\u001b[0;34m.\u001b[0m\u001b[0mget_result\u001b[0m\u001b[0;34m(\u001b[0m\u001b[0;34m)\u001b[0m\u001b[0;34m\u001b[0m\u001b[0m\n\u001b[1;32m     63\u001b[0m \u001b[0;34m\u001b[0m\u001b[0m\n",
      "\u001b[0;32m/opt/conda/lib/python3.6/site-packages/pandas/core/reshape/merge.py\u001b[0m in \u001b[0;36m__init__\u001b[0;34m(self, left, right, how, on, left_on, right_on, axis, left_index, right_index, sort, suffixes, copy, indicator, validate)\u001b[0m\n\u001b[1;32m    553\u001b[0m         \u001b[0;31m# validate the merge keys dtypes. We may need to coerce\u001b[0m\u001b[0;34m\u001b[0m\u001b[0;34m\u001b[0m\u001b[0m\n\u001b[1;32m    554\u001b[0m         \u001b[0;31m# to avoid incompat dtypes\u001b[0m\u001b[0;34m\u001b[0m\u001b[0;34m\u001b[0m\u001b[0m\n\u001b[0;32m--> 555\u001b[0;31m         \u001b[0mself\u001b[0m\u001b[0;34m.\u001b[0m\u001b[0m_maybe_coerce_merge_keys\u001b[0m\u001b[0;34m(\u001b[0m\u001b[0;34m)\u001b[0m\u001b[0;34m\u001b[0m\u001b[0m\n\u001b[0m\u001b[1;32m    556\u001b[0m \u001b[0;34m\u001b[0m\u001b[0m\n\u001b[1;32m    557\u001b[0m         \u001b[0;31m# If argument passed to validate,\u001b[0m\u001b[0;34m\u001b[0m\u001b[0;34m\u001b[0m\u001b[0m\n",
      "\u001b[0;32m/opt/conda/lib/python3.6/site-packages/pandas/core/reshape/merge.py\u001b[0m in \u001b[0;36m_maybe_coerce_merge_keys\u001b[0;34m(self)\u001b[0m\n\u001b[1;32m    984\u001b[0m             elif (not is_numeric_dtype(lk)\n\u001b[1;32m    985\u001b[0m                     and (is_numeric_dtype(rk) and not is_bool_dtype(rk))):\n\u001b[0;32m--> 986\u001b[0;31m                 \u001b[0;32mraise\u001b[0m \u001b[0mValueError\u001b[0m\u001b[0;34m(\u001b[0m\u001b[0mmsg\u001b[0m\u001b[0;34m)\u001b[0m\u001b[0;34m\u001b[0m\u001b[0m\n\u001b[0m\u001b[1;32m    987\u001b[0m             \u001b[0;32melif\u001b[0m \u001b[0mis_datetimelike\u001b[0m\u001b[0;34m(\u001b[0m\u001b[0mlk\u001b[0m\u001b[0;34m)\u001b[0m \u001b[0;32mand\u001b[0m \u001b[0;32mnot\u001b[0m \u001b[0mis_datetimelike\u001b[0m\u001b[0;34m(\u001b[0m\u001b[0mrk\u001b[0m\u001b[0;34m)\u001b[0m\u001b[0;34m:\u001b[0m\u001b[0;34m\u001b[0m\u001b[0m\n\u001b[1;32m    988\u001b[0m                 \u001b[0;32mraise\u001b[0m \u001b[0mValueError\u001b[0m\u001b[0;34m(\u001b[0m\u001b[0mmsg\u001b[0m\u001b[0;34m)\u001b[0m\u001b[0;34m\u001b[0m\u001b[0m\n",
      "\u001b[0;31mValueError\u001b[0m: You are trying to merge on object and int64 columns. If you wish to proceed you should use pd.concat"
     ]
    }
   ],
   "source": [
    "# Merge archive clean and prediction clean into master df\n",
    "master_df = pd.merge(wrd_archive_clean, wrd_image_prediction, on='tweet_id', how='inner')\n",
    "\n",
    "# Merge json clean into master df\n",
    "master_df = pd.merge(master_df, wrd_archive_add, on='tweet_id', how='inner')\n",
    "\n",
    "# Check results \n",
    "master_df.info()"
   ]
  },
  {
   "cell_type": "markdown",
   "metadata": {},
   "source": [
    "#### Test"
   ]
  },
  {
   "cell_type": "code",
   "execution_count": null,
   "metadata": {},
   "outputs": [],
   "source": []
  },
  {
   "cell_type": "markdown",
   "metadata": {},
   "source": [
    "[top](#Tableofcontents)"
   ]
  },
  {
   "cell_type": "markdown",
   "metadata": {},
   "source": [
    "## Storing Data <a class=\"anchor\" id=\"StoringData\"></a>\n",
    "Save gathered, assessed, and cleaned master dataset to a CSV file named \"twitter_archive_master.csv\"."
   ]
  },
  {
   "cell_type": "code",
   "execution_count": null,
   "metadata": {},
   "outputs": [],
   "source": []
  },
  {
   "cell_type": "markdown",
   "metadata": {},
   "source": [
    "[top](#Tableofcontents)"
   ]
  },
  {
   "cell_type": "markdown",
   "metadata": {},
   "source": [
    "## Analyzing and Visualizing Data <a class=\"anchor\" id=\"AnalyzingandVisualizingData\"></a>\n",
    "In this section, analyze and visualize your wrangled data. You must produce at least **three (3) insights and one (1) visualization.**"
   ]
  },
  {
   "cell_type": "code",
   "execution_count": null,
   "metadata": {},
   "outputs": [],
   "source": []
  },
  {
   "cell_type": "markdown",
   "metadata": {},
   "source": [
    "[top](#Tableofcontents)"
   ]
  },
  {
   "cell_type": "markdown",
   "metadata": {},
   "source": [
    "### Insights: <a class=\"anchor\" id=\"Insights\"></a>\n",
    "1.\n",
    "\n",
    "2.\n",
    "\n",
    "3."
   ]
  },
  {
   "cell_type": "markdown",
   "metadata": {},
   "source": [
    "[top](#Tableofcontents)"
   ]
  },
  {
   "cell_type": "markdown",
   "metadata": {
    "collapsed": true
   },
   "source": [
    "### Visualization <a class=\"anchor\" id=\"Visualization\"></a>"
   ]
  },
  {
   "cell_type": "code",
   "execution_count": null,
   "metadata": {},
   "outputs": [],
   "source": []
  },
  {
   "cell_type": "code",
   "execution_count": null,
   "metadata": {},
   "outputs": [],
   "source": []
  },
  {
   "cell_type": "markdown",
   "metadata": {},
   "source": [
    "[top](#Tableofcontents)"
   ]
  }
 ],
 "metadata": {
  "extensions": {
   "jupyter_dashboards": {
    "activeView": "report_default",
    "version": 1,
    "views": {
     "grid_default": {
      "cellMargin": 10,
      "defaultCellHeight": 20,
      "maxColumns": 12,
      "name": "grid",
      "type": "grid"
     },
     "report_default": {
      "name": "report",
      "type": "report"
     }
    }
   }
  },
  "kernelspec": {
   "display_name": "Python 3 (ipykernel)",
   "language": "python",
   "name": "python3"
  },
  "language_info": {
   "codemirror_mode": {
    "name": "ipython",
    "version": 3
   },
   "file_extension": ".py",
   "mimetype": "text/x-python",
   "name": "python",
   "nbconvert_exporter": "python",
   "pygments_lexer": "ipython3",
   "version": "3.8.10"
  }
 },
 "nbformat": 4,
 "nbformat_minor": 2
}
